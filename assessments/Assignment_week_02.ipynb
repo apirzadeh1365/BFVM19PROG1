{
 "cells": [
  {
   "cell_type": "markdown",
   "metadata": {},
   "source": [
    "# Week 02 Assignment glucose level data\n",
    "\n",
    "Welcome to week two of this course programming 1. You will learn about time related data wrangling with pandas and you will learn to visualize with bokeh. This week will be focussed around missing data. Concretely, you will preprocess the glucose json file using interpolation to impute in order to conduct visual analysis. Learning outcomes:\n",
    "\n",
    "- load a json dataset \n",
    "- typecast the Pandas DataFrame to appropiate data types\n",
    "- inspect the dataset for quality and metadata information\n",
    "- add a column with interpolated data in Pandas DataFrame\n",
    "- perform visual analysis\n",
    "\n",
    "The assignment consists of 6 parts:\n",
    "\n",
    "- [part 1: load the data](#0)\n",
    "     - [Exercise 1.1](#ex-11)\n",
    "- [part 2: prepare for inspection](#1)\n",
    "     - [Exercise 2.1](#ex-21)\n",
    "- [part 3: inspect the data](#2)\n",
    "     - [Exercise 3.1](#ex-31)\n",
    "- [part 4: interpolate the data](#3)\n",
    "     - [Exercise 4.1](#ex-41)\n",
    "- [part 5: visualize the data](#4)\n",
    "     - [Exercise 5.1](#ex-51)\n",
    "- [part 6: Challenge](#5)\n",
    "     - [Exercise 6.1](#ex-61)\n",
    "\n",
    "Part 1 and 5 are mandatory, part 6 is optional (bonus)\n",
    "To pass the assingnment you need to a score of 60%. \n"
   ]
  },
  {
   "cell_type": "markdown",
   "metadata": {},
   "source": [
    "<a name='0'></a>\n",
    "## Part 1: Load the data\n",
    "\n",
    "Instructions: Load the json datafile `glucose.json` into a pandas dataframe. Check your dataframe with a `.head()` to compare with the expected outcome\n",
    "\n",
    "<details>    \n",
    "<summary>\n",
    "    <font size=\"3\" color=\"darkgreen\"><b>Hints</b></font>\n",
    "</summary>\n",
    "<ul><li>json.load() method reads a file, pd.read_json converts it to a Pandas DataFrame</li>\n",
    "    <li>when loading into a Pandas DataFrame use records orientation </li>\n",
    "</ul>\n",
    "</details>\n",
    "\n",
    "<a name='ex-11'></a>\n",
    "### Code your solution"
   ]
  },
  {
   "cell_type": "code",
   "execution_count": 33,
   "metadata": {},
   "outputs": [
    {
     "data": {
      "text/html": [
       "\n",
       "    <div class=\"bk-root\">\n",
       "        <a href=\"https://bokeh.org\" target=\"_blank\" class=\"bk-logo bk-logo-small bk-logo-notebook\"></a>\n",
       "        <span id=\"10088\">Loading BokehJS ...</span>\n",
       "    </div>"
      ]
     },
     "metadata": {},
     "output_type": "display_data"
    },
    {
     "data": {
      "application/javascript": "\n(function(root) {\n  function now() {\n    return new Date();\n  }\n\n  const force = true;\n\n  if (typeof root._bokeh_onload_callbacks === \"undefined\" || force === true) {\n    root._bokeh_onload_callbacks = [];\n    root._bokeh_is_loading = undefined;\n  }\n\n  const JS_MIME_TYPE = 'application/javascript';\n  const HTML_MIME_TYPE = 'text/html';\n  const EXEC_MIME_TYPE = 'application/vnd.bokehjs_exec.v0+json';\n  const CLASS_NAME = 'output_bokeh rendered_html';\n\n  /**\n   * Render data to the DOM node\n   */\n  function render(props, node) {\n    const script = document.createElement(\"script\");\n    node.appendChild(script);\n  }\n\n  /**\n   * Handle when an output is cleared or removed\n   */\n  function handleClearOutput(event, handle) {\n    const cell = handle.cell;\n\n    const id = cell.output_area._bokeh_element_id;\n    const server_id = cell.output_area._bokeh_server_id;\n    // Clean up Bokeh references\n    if (id != null && id in Bokeh.index) {\n      Bokeh.index[id].model.document.clear();\n      delete Bokeh.index[id];\n    }\n\n    if (server_id !== undefined) {\n      // Clean up Bokeh references\n      const cmd_clean = \"from bokeh.io.state import curstate; print(curstate().uuid_to_server['\" + server_id + \"'].get_sessions()[0].document.roots[0]._id)\";\n      cell.notebook.kernel.execute(cmd_clean, {\n        iopub: {\n          output: function(msg) {\n            const id = msg.content.text.trim();\n            if (id in Bokeh.index) {\n              Bokeh.index[id].model.document.clear();\n              delete Bokeh.index[id];\n            }\n          }\n        }\n      });\n      // Destroy server and session\n      const cmd_destroy = \"import bokeh.io.notebook as ion; ion.destroy_server('\" + server_id + \"')\";\n      cell.notebook.kernel.execute(cmd_destroy);\n    }\n  }\n\n  /**\n   * Handle when a new output is added\n   */\n  function handleAddOutput(event, handle) {\n    const output_area = handle.output_area;\n    const output = handle.output;\n\n    // limit handleAddOutput to display_data with EXEC_MIME_TYPE content only\n    if ((output.output_type != \"display_data\") || (!Object.prototype.hasOwnProperty.call(output.data, EXEC_MIME_TYPE))) {\n      return\n    }\n\n    const toinsert = output_area.element.find(\".\" + CLASS_NAME.split(' ')[0]);\n\n    if (output.metadata[EXEC_MIME_TYPE][\"id\"] !== undefined) {\n      toinsert[toinsert.length - 1].firstChild.textContent = output.data[JS_MIME_TYPE];\n      // store reference to embed id on output_area\n      output_area._bokeh_element_id = output.metadata[EXEC_MIME_TYPE][\"id\"];\n    }\n    if (output.metadata[EXEC_MIME_TYPE][\"server_id\"] !== undefined) {\n      const bk_div = document.createElement(\"div\");\n      bk_div.innerHTML = output.data[HTML_MIME_TYPE];\n      const script_attrs = bk_div.children[0].attributes;\n      for (let i = 0; i < script_attrs.length; i++) {\n        toinsert[toinsert.length - 1].firstChild.setAttribute(script_attrs[i].name, script_attrs[i].value);\n        toinsert[toinsert.length - 1].firstChild.textContent = bk_div.children[0].textContent\n      }\n      // store reference to server id on output_area\n      output_area._bokeh_server_id = output.metadata[EXEC_MIME_TYPE][\"server_id\"];\n    }\n  }\n\n  function register_renderer(events, OutputArea) {\n\n    function append_mime(data, metadata, element) {\n      // create a DOM node to render to\n      const toinsert = this.create_output_subarea(\n        metadata,\n        CLASS_NAME,\n        EXEC_MIME_TYPE\n      );\n      this.keyboard_manager.register_events(toinsert);\n      // Render to node\n      const props = {data: data, metadata: metadata[EXEC_MIME_TYPE]};\n      render(props, toinsert[toinsert.length - 1]);\n      element.append(toinsert);\n      return toinsert\n    }\n\n    /* Handle when an output is cleared or removed */\n    events.on('clear_output.CodeCell', handleClearOutput);\n    events.on('delete.Cell', handleClearOutput);\n\n    /* Handle when a new output is added */\n    events.on('output_added.OutputArea', handleAddOutput);\n\n    /**\n     * Register the mime type and append_mime function with output_area\n     */\n    OutputArea.prototype.register_mime_type(EXEC_MIME_TYPE, append_mime, {\n      /* Is output safe? */\n      safe: true,\n      /* Index of renderer in `output_area.display_order` */\n      index: 0\n    });\n  }\n\n  // register the mime type if in Jupyter Notebook environment and previously unregistered\n  if (root.Jupyter !== undefined) {\n    const events = require('base/js/events');\n    const OutputArea = require('notebook/js/outputarea').OutputArea;\n\n    if (OutputArea.prototype.mime_types().indexOf(EXEC_MIME_TYPE) == -1) {\n      register_renderer(events, OutputArea);\n    }\n  }\n\n  \n  if (typeof (root._bokeh_timeout) === \"undefined\" || force === true) {\n    root._bokeh_timeout = Date.now() + 5000;\n    root._bokeh_failed_load = false;\n  }\n\n  const NB_LOAD_WARNING = {'data': {'text/html':\n     \"<div style='background-color: #fdd'>\\n\"+\n     \"<p>\\n\"+\n     \"BokehJS does not appear to have successfully loaded. If loading BokehJS from CDN, this \\n\"+\n     \"may be due to a slow or bad network connection. Possible fixes:\\n\"+\n     \"</p>\\n\"+\n     \"<ul>\\n\"+\n     \"<li>re-rerun `output_notebook()` to attempt to load from CDN again, or</li>\\n\"+\n     \"<li>use INLINE resources instead, as so:</li>\\n\"+\n     \"</ul>\\n\"+\n     \"<code>\\n\"+\n     \"from bokeh.resources import INLINE\\n\"+\n     \"output_notebook(resources=INLINE)\\n\"+\n     \"</code>\\n\"+\n     \"</div>\"}};\n\n  function display_loaded() {\n    const el = document.getElementById(\"10088\");\n    if (el != null) {\n      el.textContent = \"BokehJS is loading...\";\n    }\n    if (root.Bokeh !== undefined) {\n      if (el != null) {\n        el.textContent = \"BokehJS \" + root.Bokeh.version + \" successfully loaded.\";\n      }\n    } else if (Date.now() < root._bokeh_timeout) {\n      setTimeout(display_loaded, 100)\n    }\n  }\n\n\n  function run_callbacks() {\n    try {\n      root._bokeh_onload_callbacks.forEach(function(callback) {\n        if (callback != null)\n          callback();\n      });\n    } finally {\n      delete root._bokeh_onload_callbacks\n    }\n    console.debug(\"Bokeh: all callbacks have finished\");\n  }\n\n  function load_libs(css_urls, js_urls, callback) {\n    if (css_urls == null) css_urls = [];\n    if (js_urls == null) js_urls = [];\n\n    root._bokeh_onload_callbacks.push(callback);\n    if (root._bokeh_is_loading > 0) {\n      console.debug(\"Bokeh: BokehJS is being loaded, scheduling callback at\", now());\n      return null;\n    }\n    if (js_urls == null || js_urls.length === 0) {\n      run_callbacks();\n      return null;\n    }\n    console.debug(\"Bokeh: BokehJS not loaded, scheduling load and callback at\", now());\n    root._bokeh_is_loading = css_urls.length + js_urls.length;\n\n    function on_load() {\n      root._bokeh_is_loading--;\n      if (root._bokeh_is_loading === 0) {\n        console.debug(\"Bokeh: all BokehJS libraries/stylesheets loaded\");\n        run_callbacks()\n      }\n    }\n\n    function on_error(url) {\n      console.error(\"failed to load \" + url);\n    }\n\n    for (let i = 0; i < css_urls.length; i++) {\n      const url = css_urls[i];\n      const element = document.createElement(\"link\");\n      element.onload = on_load;\n      element.onerror = on_error.bind(null, url);\n      element.rel = \"stylesheet\";\n      element.type = \"text/css\";\n      element.href = url;\n      console.debug(\"Bokeh: injecting link tag for BokehJS stylesheet: \", url);\n      document.body.appendChild(element);\n    }\n\n    for (let i = 0; i < js_urls.length; i++) {\n      const url = js_urls[i];\n      const element = document.createElement('script');\n      element.onload = on_load;\n      element.onerror = on_error.bind(null, url);\n      element.async = false;\n      element.src = url;\n      console.debug(\"Bokeh: injecting script tag for BokehJS library: \", url);\n      document.head.appendChild(element);\n    }\n  };\n\n  function inject_raw_css(css) {\n    const element = document.createElement(\"style\");\n    element.appendChild(document.createTextNode(css));\n    document.body.appendChild(element);\n  }\n\n  \n  const js_urls = [\"https://cdn.bokeh.org/bokeh/release/bokeh-2.4.1.min.js\", \"https://cdn.bokeh.org/bokeh/release/bokeh-gl-2.4.1.min.js\", \"https://cdn.bokeh.org/bokeh/release/bokeh-widgets-2.4.1.min.js\", \"https://cdn.bokeh.org/bokeh/release/bokeh-tables-2.4.1.min.js\", \"https://cdn.bokeh.org/bokeh/release/bokeh-mathjax-2.4.1.min.js\"];\n  const css_urls = [];\n  \n\n  const inline_js = [\n    function(Bokeh) {\n      Bokeh.set_log_level(\"info\");\n    },\n    function(Bokeh) {\n    \n    \n    }\n  ];\n\n  function run_inline_js() {\n    \n    if (root.Bokeh !== undefined || force === true) {\n      \n    for (let i = 0; i < inline_js.length; i++) {\n      inline_js[i].call(root, root.Bokeh);\n    }\n    if (force === true) {\n        display_loaded();\n      }} else if (Date.now() < root._bokeh_timeout) {\n      setTimeout(run_inline_js, 100);\n    } else if (!root._bokeh_failed_load) {\n      console.log(\"Bokeh: BokehJS failed to load within specified timeout.\");\n      root._bokeh_failed_load = true;\n    } else if (force !== true) {\n      const cell = $(document.getElementById(\"10088\")).parents('.cell').data().cell;\n      cell.output_area.append_execute_result(NB_LOAD_WARNING)\n    }\n\n  }\n\n  if (root._bokeh_is_loading === 0) {\n    console.debug(\"Bokeh: BokehJS loaded, going straight to plotting\");\n    run_inline_js();\n  } else {\n    load_libs(css_urls, js_urls, function() {\n      console.debug(\"Bokeh: BokehJS plotting callback run at\", now());\n      run_inline_js();\n    });\n  }\n}(window));",
      "application/vnd.bokehjs_load.v0+json": ""
     },
     "metadata": {},
     "output_type": "display_data"
    },
    {
     "data": {
      "text/html": [
       "<div>\n",
       "<style scoped>\n",
       "    .dataframe tbody tr th:only-of-type {\n",
       "        vertical-align: middle;\n",
       "    }\n",
       "\n",
       "    .dataframe tbody tr th {\n",
       "        vertical-align: top;\n",
       "    }\n",
       "\n",
       "    .dataframe thead th {\n",
       "        text-align: right;\n",
       "    }\n",
       "</style>\n",
       "<table border=\"1\" class=\"dataframe\">\n",
       "  <thead>\n",
       "    <tr style=\"text-align: right;\">\n",
       "      <th></th>\n",
       "      <th>ID</th>\n",
       "      <th>time</th>\n",
       "      <th>recordtype</th>\n",
       "      <th>glucose</th>\n",
       "    </tr>\n",
       "  </thead>\n",
       "  <tbody>\n",
       "    <tr>\n",
       "      <th>0</th>\n",
       "      <td>2.845000e+03</td>\n",
       "      <td>2019-04-25 00:08</td>\n",
       "      <td>1</td>\n",
       "      <td>109</td>\n",
       "    </tr>\n",
       "    <tr>\n",
       "      <th>1</th>\n",
       "      <td>2.850000e+03</td>\n",
       "      <td>2019-04-25 00:50</td>\n",
       "      <td>1</td>\n",
       "      <td></td>\n",
       "    </tr>\n",
       "    <tr>\n",
       "      <th>2</th>\n",
       "      <td>2.877000e+03</td>\n",
       "      <td>2019-04-25 07:02</td>\n",
       "      <td>1</td>\n",
       "      <td>123</td>\n",
       "    </tr>\n",
       "    <tr>\n",
       "      <th>3</th>\n",
       "      <td>2.881000e+03</td>\n",
       "      <td>2019-04-25 07:34</td>\n",
       "      <td>1</td>\n",
       "      <td>158</td>\n",
       "    </tr>\n",
       "    <tr>\n",
       "      <th>4</th>\n",
       "      <td>2.886000e+03</td>\n",
       "      <td>2019-04-25 08:19</td>\n",
       "      <td>1</td>\n",
       "      <td></td>\n",
       "    </tr>\n",
       "    <tr>\n",
       "      <th>...</th>\n",
       "      <td>...</td>\n",
       "      <td>...</td>\n",
       "      <td>...</td>\n",
       "      <td>...</td>\n",
       "    </tr>\n",
       "    <tr>\n",
       "      <th>131</th>\n",
       "      <td>1.614305e+19</td>\n",
       "      <td>2019-04-25 22:47</td>\n",
       "      <td>0</td>\n",
       "      <td>None</td>\n",
       "    </tr>\n",
       "    <tr>\n",
       "      <th>132</th>\n",
       "      <td>1.614305e+19</td>\n",
       "      <td>2019-04-25 23:02</td>\n",
       "      <td>0</td>\n",
       "      <td>None</td>\n",
       "    </tr>\n",
       "    <tr>\n",
       "      <th>133</th>\n",
       "      <td>1.614305e+19</td>\n",
       "      <td>2019-04-25 23:18</td>\n",
       "      <td>0</td>\n",
       "      <td>None</td>\n",
       "    </tr>\n",
       "    <tr>\n",
       "      <th>134</th>\n",
       "      <td>1.614305e+19</td>\n",
       "      <td>2019-04-25 23:33</td>\n",
       "      <td>0</td>\n",
       "      <td>None</td>\n",
       "    </tr>\n",
       "    <tr>\n",
       "      <th>135</th>\n",
       "      <td>1.614305e+19</td>\n",
       "      <td>2019-04-25 23:48</td>\n",
       "      <td>0</td>\n",
       "      <td>None</td>\n",
       "    </tr>\n",
       "  </tbody>\n",
       "</table>\n",
       "<p>136 rows × 4 columns</p>\n",
       "</div>"
      ],
      "text/plain": [
       "               ID              time  recordtype glucose\n",
       "0    2.845000e+03  2019-04-25 00:08           1     109\n",
       "1    2.850000e+03  2019-04-25 00:50           1        \n",
       "2    2.877000e+03  2019-04-25 07:02           1     123\n",
       "3    2.881000e+03  2019-04-25 07:34           1     158\n",
       "4    2.886000e+03  2019-04-25 08:19           1        \n",
       "..            ...               ...         ...     ...\n",
       "131  1.614305e+19  2019-04-25 22:47           0    None\n",
       "132  1.614305e+19  2019-04-25 23:02           0    None\n",
       "133  1.614305e+19  2019-04-25 23:18           0    None\n",
       "134  1.614305e+19  2019-04-25 23:33           0    None\n",
       "135  1.614305e+19  2019-04-25 23:48           0    None\n",
       "\n",
       "[136 rows x 4 columns]"
      ]
     },
     "execution_count": 33,
     "metadata": {},
     "output_type": "execute_result"
    }
   ],
   "source": [
    "# CODE YOUR SOLUTION HERE\n",
    "import pandas as pd\n",
    "import numpy as np\n",
    "import json as js\n",
    "from bokeh.io import output_notebook\n",
    "output_notebook()\n",
    "f = open('D:\\programming1\\BFVM19PROG1\\data\\glucose.json')\n",
    "df= js.load(f)\n",
    "df=pd.read_json(df)\n",
    "df\n",
    "#df.head()\n",
    "\n"
   ]
  },
  {
   "cell_type": "markdown",
   "metadata": {},
   "source": [
    "#### Expected outcome: "
   ]
  },
  {
   "cell_type": "raw",
   "metadata": {},
   "source": [
    "       ID              time  recordtype glucose\n",
    "0  2845.0  2019-04-25 00:08           1     109\n",
    "1  2850.0  2019-04-25 00:50           1        \n",
    "2  2877.0  2019-04-25 07:02           1     123\n",
    "3  2881.0  2019-04-25 07:34           1     158\n",
    "4  2886.0  2019-04-25 08:19           1        "
   ]
  },
  {
   "cell_type": "markdown",
   "metadata": {},
   "source": [
    "<a name='1'></a>\n",
    "## Part 2: Prepare the data\n",
    "\n",
    "Check the datatypes of your dataframe. The `glucose` field should be an integer, the `time` field should have a datetime format. If the datatypes are different you should typecast them to the right format.\n",
    "Make sure that your dataset is sorted by the time column\n",
    "\n",
    "\n",
    "<details>    \n",
    "<summary>\n",
    "    <font size=\"3\" color=\"darkgreen\"><b>Hints</b></font>\n",
    "</summary>\n",
    "<ul><li>use astype() method or pandas.DataFrame.to_datetime() for instance</li>\n",
    "    <li>make sure that the empty spaces are filled with NaN. Use errors='coerce'</li>\n",
    "    <li>set_index(), sort_index() and reset_index() are helpful to sort on index</li>\n",
    "</ul>\n",
    "</details>\n",
    "\n",
    "<a name='ex-21'></a>\n",
    "### Code your solution"
   ]
  },
  {
   "cell_type": "code",
   "execution_count": 34,
   "metadata": {},
   "outputs": [
    {
     "name": "stdout",
     "output_type": "stream",
     "text": [
      "ID                     int64\n",
      "time          datetime64[ns]\n",
      "recordtype             int64\n",
      "glucose              float64\n",
      "dtype: object\n"
     ]
    }
   ],
   "source": [
    "# CODE YOUR SOLUTION HERE\n",
    "df['glucose']=pd.to_numeric(df['glucose'], errors='coerce',downcast='signed')\n",
    "df.dtypes\n",
    "#df['glucose']=df['glucose'].astype(pd.Int64Dtype())\n",
    "df['time']=pd.to_datetime(df['time'])\n",
    "df['ID']=df['ID'].astype(np.int64)\n",
    "print(df.dtypes)\n",
    "df=df.set_index(['time'])\n",
    "df=df.sort_index()\n",
    "\n",
    "\n"
   ]
  },
  {
   "cell_type": "markdown",
   "metadata": {},
   "source": [
    "#### Expected outcome: "
   ]
  },
  {
   "cell_type": "raw",
   "metadata": {},
   "source": [
    "ID                     int64\n",
    "time          datetime64[ns]\n",
    "recordtype             int64\n",
    "glucose              float64\n",
    "dtype: object"
   ]
  },
  {
   "cell_type": "markdown",
   "metadata": {},
   "source": [
    "<a name='2'></a>\n",
    "## Part 3: Inspect the data\n",
    "\n",
    "Now that we prepared the data we are going to inspect the data to get more familiar with the data. You are required to do the following\n",
    "\n",
    "- inspect the percentage missing data for glucose\n",
    "- what is the relationship between recordtype and glucose value?\n",
    "- what is the relationship between ID and glucose value?\n",
    "\n",
    "Code the solutions to your answers. Create meaningful overviews or statistics\n",
    "\n",
    "<details>    \n",
    "<summary>\n",
    "    <font size=\"3\" color=\"darkgreen\"><b>Hints</b></font>\n",
    "</summary>\n",
    "<ul><li>In the week 01 assignment some functions were explained to inspect missing values</li>\n",
    "    <li>In the week 01 assignment some functions were explained to groupby value</li>\n",
    "</ul>\n",
    "</details>\n",
    "\n",
    "<a name='ex-31'></a>\n",
    "### Code your solution"
   ]
  },
  {
   "cell_type": "code",
   "execution_count": 35,
   "metadata": {},
   "outputs": [
    {
     "name": "stdout",
     "output_type": "stream",
     "text": [
      "0.6176470588235294\n",
      "nan\n",
      "-0.20610584631462361\n"
     ]
    }
   ],
   "source": [
    "#CODE YOUR SOLUTION HERE\n",
    "miss_value=(df.isna().sum()/len(df))\n",
    "print(miss_value[2])\n",
    "\n",
    "print(df['glucose'].corr(df['recordtype']))\n",
    "print(df['glucose'].corr(df['ID']))\n",
    "\n"
   ]
  },
  {
   "cell_type": "markdown",
   "metadata": {},
   "source": [
    "#### Expected outcome percentage missing data\n",
    "0.6176470588235294"
   ]
  },
  {
   "cell_type": "markdown",
   "metadata": {},
   "source": [
    "<a name='3'></a>\n",
    "## Part 4: Interpolate the data\n",
    "\n",
    "A lot of data is missing. Use interpolation to fill the missing values. Create a new column with the interpolated data. Take an argumentative approach. Select an interpolation method that suits the nature of the data and explain your choice. Mind you that the expected outcome of the interpolation values can differ from the example below\n",
    "\n",
    "<details>    \n",
    "<summary>\n",
    "    <font size=\"3\" color=\"darkgreen\"><b>Hints</b></font>\n",
    "</summary>\n",
    "<ul><li>use Pandas.DataFrame.interpolate() method</li>\n",
    "</ul>\n",
    "</details>\n",
    "\n",
    "<a name='ex-41'></a>\n",
    "### Code your solution"
   ]
  },
  {
   "cell_type": "code",
   "execution_count": 36,
   "metadata": {},
   "outputs": [
    {
     "data": {
      "text/html": [
       "<div>\n",
       "<style scoped>\n",
       "    .dataframe tbody tr th:only-of-type {\n",
       "        vertical-align: middle;\n",
       "    }\n",
       "\n",
       "    .dataframe tbody tr th {\n",
       "        vertical-align: top;\n",
       "    }\n",
       "\n",
       "    .dataframe thead th {\n",
       "        text-align: right;\n",
       "    }\n",
       "</style>\n",
       "<table border=\"1\" class=\"dataframe\">\n",
       "  <thead>\n",
       "    <tr style=\"text-align: right;\">\n",
       "      <th></th>\n",
       "      <th>ID</th>\n",
       "      <th>recordtype</th>\n",
       "      <th>glucose</th>\n",
       "      <th>interpolated</th>\n",
       "    </tr>\n",
       "    <tr>\n",
       "      <th>time</th>\n",
       "      <th></th>\n",
       "      <th></th>\n",
       "      <th></th>\n",
       "      <th></th>\n",
       "    </tr>\n",
       "  </thead>\n",
       "  <tbody>\n",
       "    <tr>\n",
       "      <th>2019-04-25 00:08:00</th>\n",
       "      <td>2845</td>\n",
       "      <td>1</td>\n",
       "      <td>109.0</td>\n",
       "      <td>109.000000</td>\n",
       "    </tr>\n",
       "    <tr>\n",
       "      <th>2019-04-25 00:14:00</th>\n",
       "      <td>-9223372036854775808</td>\n",
       "      <td>0</td>\n",
       "      <td>NaN</td>\n",
       "      <td>95.273667</td>\n",
       "    </tr>\n",
       "    <tr>\n",
       "      <th>2019-04-25 00:29:00</th>\n",
       "      <td>-9223372036854775808</td>\n",
       "      <td>0</td>\n",
       "      <td>NaN</td>\n",
       "      <td>62.750200</td>\n",
       "    </tr>\n",
       "    <tr>\n",
       "      <th>2019-04-25 00:44:00</th>\n",
       "      <td>-9223372036854775808</td>\n",
       "      <td>0</td>\n",
       "      <td>NaN</td>\n",
       "      <td>32.787254</td>\n",
       "    </tr>\n",
       "    <tr>\n",
       "      <th>2019-04-25 00:50:00</th>\n",
       "      <td>2850</td>\n",
       "      <td>1</td>\n",
       "      <td>NaN</td>\n",
       "      <td>21.519021</td>\n",
       "    </tr>\n",
       "  </tbody>\n",
       "</table>\n",
       "</div>"
      ],
      "text/plain": [
       "                                      ID  recordtype  glucose  interpolated\n",
       "time                                                                       \n",
       "2019-04-25 00:08:00                 2845           1    109.0    109.000000\n",
       "2019-04-25 00:14:00 -9223372036854775808           0      NaN     95.273667\n",
       "2019-04-25 00:29:00 -9223372036854775808           0      NaN     62.750200\n",
       "2019-04-25 00:44:00 -9223372036854775808           0      NaN     32.787254\n",
       "2019-04-25 00:50:00                 2850           1      NaN     21.519021"
      ]
     },
     "execution_count": 36,
     "metadata": {},
     "output_type": "execute_result"
    }
   ],
   "source": [
    "#CODE YOUR SOLUTION HERE\n",
    "df['interpolated']=df['glucose']\n",
    "df1=df.copy()\n",
    "df['interpolated'].interpolate(method='spline',limit_direction='forward', inplace=True, order=2)\n",
    "df.head()\n",
    "\n"
   ]
  },
  {
   "cell_type": "markdown",
   "metadata": {},
   "source": [
    "#### Example outcome"
   ]
  },
  {
   "cell_type": "raw",
   "metadata": {},
   "source": [
    "                 time                   ID  recordtype  glucose  interpolated\n",
    "0 2019-04-25 00:08:00                 2845           1    109.0    109.000000\n",
    "1 2019-04-25 00:14:00 -9223372036854775808           0      NaN    109.466667\n",
    "2 2019-04-25 00:29:00 -9223372036854775808           0      NaN    109.933333\n",
    "3 2019-04-25 00:44:00 -9223372036854775808           0      NaN    110.400000\n",
    "4 2019-04-25 00:50:00                 2850           1      NaN    110.866667"
   ]
  },
  {
   "cell_type": "markdown",
   "metadata": {},
   "source": [
    "<a name='4'></a>\n",
    "## Part 5: Plot the data\n",
    "\n",
    "Create a plot with the original data and the interpolated data. Consider what the best representation is for visualisation of actual values and modelled/imputed values. An example of such a plot is given below. This plot however is not considered the best practice. \n",
    "\n",
    "<details>    \n",
    "<summary>\n",
    "    <font size=\"3\" color=\"darkgreen\"><b>Hints</b></font>\n",
    "</summary>\n",
    "<ul><li>figure(x_axis_type='datetime') automatically makes nices labels of the datetime data</li>\n",
    "</ul>\n",
    "</details>\n",
    "\n",
    "<a name='ex-51'></a>\n",
    "### Code your solution"
   ]
  },
  {
   "cell_type": "code",
   "execution_count": 37,
   "metadata": {},
   "outputs": [
    {
     "data": {
      "text/html": [
       "\n",
       "    <div class=\"bk-root\">\n",
       "        <a href=\"https://bokeh.org\" target=\"_blank\" class=\"bk-logo bk-logo-small bk-logo-notebook\"></a>\n",
       "        <span id=\"10089\">Loading BokehJS ...</span>\n",
       "    </div>"
      ]
     },
     "metadata": {},
     "output_type": "display_data"
    },
    {
     "data": {
      "application/javascript": "\n(function(root) {\n  function now() {\n    return new Date();\n  }\n\n  const force = true;\n\n  if (typeof root._bokeh_onload_callbacks === \"undefined\" || force === true) {\n    root._bokeh_onload_callbacks = [];\n    root._bokeh_is_loading = undefined;\n  }\n\n  const JS_MIME_TYPE = 'application/javascript';\n  const HTML_MIME_TYPE = 'text/html';\n  const EXEC_MIME_TYPE = 'application/vnd.bokehjs_exec.v0+json';\n  const CLASS_NAME = 'output_bokeh rendered_html';\n\n  /**\n   * Render data to the DOM node\n   */\n  function render(props, node) {\n    const script = document.createElement(\"script\");\n    node.appendChild(script);\n  }\n\n  /**\n   * Handle when an output is cleared or removed\n   */\n  function handleClearOutput(event, handle) {\n    const cell = handle.cell;\n\n    const id = cell.output_area._bokeh_element_id;\n    const server_id = cell.output_area._bokeh_server_id;\n    // Clean up Bokeh references\n    if (id != null && id in Bokeh.index) {\n      Bokeh.index[id].model.document.clear();\n      delete Bokeh.index[id];\n    }\n\n    if (server_id !== undefined) {\n      // Clean up Bokeh references\n      const cmd_clean = \"from bokeh.io.state import curstate; print(curstate().uuid_to_server['\" + server_id + \"'].get_sessions()[0].document.roots[0]._id)\";\n      cell.notebook.kernel.execute(cmd_clean, {\n        iopub: {\n          output: function(msg) {\n            const id = msg.content.text.trim();\n            if (id in Bokeh.index) {\n              Bokeh.index[id].model.document.clear();\n              delete Bokeh.index[id];\n            }\n          }\n        }\n      });\n      // Destroy server and session\n      const cmd_destroy = \"import bokeh.io.notebook as ion; ion.destroy_server('\" + server_id + \"')\";\n      cell.notebook.kernel.execute(cmd_destroy);\n    }\n  }\n\n  /**\n   * Handle when a new output is added\n   */\n  function handleAddOutput(event, handle) {\n    const output_area = handle.output_area;\n    const output = handle.output;\n\n    // limit handleAddOutput to display_data with EXEC_MIME_TYPE content only\n    if ((output.output_type != \"display_data\") || (!Object.prototype.hasOwnProperty.call(output.data, EXEC_MIME_TYPE))) {\n      return\n    }\n\n    const toinsert = output_area.element.find(\".\" + CLASS_NAME.split(' ')[0]);\n\n    if (output.metadata[EXEC_MIME_TYPE][\"id\"] !== undefined) {\n      toinsert[toinsert.length - 1].firstChild.textContent = output.data[JS_MIME_TYPE];\n      // store reference to embed id on output_area\n      output_area._bokeh_element_id = output.metadata[EXEC_MIME_TYPE][\"id\"];\n    }\n    if (output.metadata[EXEC_MIME_TYPE][\"server_id\"] !== undefined) {\n      const bk_div = document.createElement(\"div\");\n      bk_div.innerHTML = output.data[HTML_MIME_TYPE];\n      const script_attrs = bk_div.children[0].attributes;\n      for (let i = 0; i < script_attrs.length; i++) {\n        toinsert[toinsert.length - 1].firstChild.setAttribute(script_attrs[i].name, script_attrs[i].value);\n        toinsert[toinsert.length - 1].firstChild.textContent = bk_div.children[0].textContent\n      }\n      // store reference to server id on output_area\n      output_area._bokeh_server_id = output.metadata[EXEC_MIME_TYPE][\"server_id\"];\n    }\n  }\n\n  function register_renderer(events, OutputArea) {\n\n    function append_mime(data, metadata, element) {\n      // create a DOM node to render to\n      const toinsert = this.create_output_subarea(\n        metadata,\n        CLASS_NAME,\n        EXEC_MIME_TYPE\n      );\n      this.keyboard_manager.register_events(toinsert);\n      // Render to node\n      const props = {data: data, metadata: metadata[EXEC_MIME_TYPE]};\n      render(props, toinsert[toinsert.length - 1]);\n      element.append(toinsert);\n      return toinsert\n    }\n\n    /* Handle when an output is cleared or removed */\n    events.on('clear_output.CodeCell', handleClearOutput);\n    events.on('delete.Cell', handleClearOutput);\n\n    /* Handle when a new output is added */\n    events.on('output_added.OutputArea', handleAddOutput);\n\n    /**\n     * Register the mime type and append_mime function with output_area\n     */\n    OutputArea.prototype.register_mime_type(EXEC_MIME_TYPE, append_mime, {\n      /* Is output safe? */\n      safe: true,\n      /* Index of renderer in `output_area.display_order` */\n      index: 0\n    });\n  }\n\n  // register the mime type if in Jupyter Notebook environment and previously unregistered\n  if (root.Jupyter !== undefined) {\n    const events = require('base/js/events');\n    const OutputArea = require('notebook/js/outputarea').OutputArea;\n\n    if (OutputArea.prototype.mime_types().indexOf(EXEC_MIME_TYPE) == -1) {\n      register_renderer(events, OutputArea);\n    }\n  }\n\n  \n  if (typeof (root._bokeh_timeout) === \"undefined\" || force === true) {\n    root._bokeh_timeout = Date.now() + 5000;\n    root._bokeh_failed_load = false;\n  }\n\n  const NB_LOAD_WARNING = {'data': {'text/html':\n     \"<div style='background-color: #fdd'>\\n\"+\n     \"<p>\\n\"+\n     \"BokehJS does not appear to have successfully loaded. If loading BokehJS from CDN, this \\n\"+\n     \"may be due to a slow or bad network connection. Possible fixes:\\n\"+\n     \"</p>\\n\"+\n     \"<ul>\\n\"+\n     \"<li>re-rerun `output_notebook()` to attempt to load from CDN again, or</li>\\n\"+\n     \"<li>use INLINE resources instead, as so:</li>\\n\"+\n     \"</ul>\\n\"+\n     \"<code>\\n\"+\n     \"from bokeh.resources import INLINE\\n\"+\n     \"output_notebook(resources=INLINE)\\n\"+\n     \"</code>\\n\"+\n     \"</div>\"}};\n\n  function display_loaded() {\n    const el = document.getElementById(\"10089\");\n    if (el != null) {\n      el.textContent = \"BokehJS is loading...\";\n    }\n    if (root.Bokeh !== undefined) {\n      if (el != null) {\n        el.textContent = \"BokehJS \" + root.Bokeh.version + \" successfully loaded.\";\n      }\n    } else if (Date.now() < root._bokeh_timeout) {\n      setTimeout(display_loaded, 100)\n    }\n  }\n\n\n  function run_callbacks() {\n    try {\n      root._bokeh_onload_callbacks.forEach(function(callback) {\n        if (callback != null)\n          callback();\n      });\n    } finally {\n      delete root._bokeh_onload_callbacks\n    }\n    console.debug(\"Bokeh: all callbacks have finished\");\n  }\n\n  function load_libs(css_urls, js_urls, callback) {\n    if (css_urls == null) css_urls = [];\n    if (js_urls == null) js_urls = [];\n\n    root._bokeh_onload_callbacks.push(callback);\n    if (root._bokeh_is_loading > 0) {\n      console.debug(\"Bokeh: BokehJS is being loaded, scheduling callback at\", now());\n      return null;\n    }\n    if (js_urls == null || js_urls.length === 0) {\n      run_callbacks();\n      return null;\n    }\n    console.debug(\"Bokeh: BokehJS not loaded, scheduling load and callback at\", now());\n    root._bokeh_is_loading = css_urls.length + js_urls.length;\n\n    function on_load() {\n      root._bokeh_is_loading--;\n      if (root._bokeh_is_loading === 0) {\n        console.debug(\"Bokeh: all BokehJS libraries/stylesheets loaded\");\n        run_callbacks()\n      }\n    }\n\n    function on_error(url) {\n      console.error(\"failed to load \" + url);\n    }\n\n    for (let i = 0; i < css_urls.length; i++) {\n      const url = css_urls[i];\n      const element = document.createElement(\"link\");\n      element.onload = on_load;\n      element.onerror = on_error.bind(null, url);\n      element.rel = \"stylesheet\";\n      element.type = \"text/css\";\n      element.href = url;\n      console.debug(\"Bokeh: injecting link tag for BokehJS stylesheet: \", url);\n      document.body.appendChild(element);\n    }\n\n    for (let i = 0; i < js_urls.length; i++) {\n      const url = js_urls[i];\n      const element = document.createElement('script');\n      element.onload = on_load;\n      element.onerror = on_error.bind(null, url);\n      element.async = false;\n      element.src = url;\n      console.debug(\"Bokeh: injecting script tag for BokehJS library: \", url);\n      document.head.appendChild(element);\n    }\n  };\n\n  function inject_raw_css(css) {\n    const element = document.createElement(\"style\");\n    element.appendChild(document.createTextNode(css));\n    document.body.appendChild(element);\n  }\n\n  \n  const js_urls = [\"https://cdn.bokeh.org/bokeh/release/bokeh-2.4.1.min.js\", \"https://cdn.bokeh.org/bokeh/release/bokeh-gl-2.4.1.min.js\", \"https://cdn.bokeh.org/bokeh/release/bokeh-widgets-2.4.1.min.js\", \"https://cdn.bokeh.org/bokeh/release/bokeh-tables-2.4.1.min.js\", \"https://cdn.bokeh.org/bokeh/release/bokeh-mathjax-2.4.1.min.js\"];\n  const css_urls = [];\n  \n\n  const inline_js = [\n    function(Bokeh) {\n      Bokeh.set_log_level(\"info\");\n    },\n    function(Bokeh) {\n    \n    \n    }\n  ];\n\n  function run_inline_js() {\n    \n    if (root.Bokeh !== undefined || force === true) {\n      \n    for (let i = 0; i < inline_js.length; i++) {\n      inline_js[i].call(root, root.Bokeh);\n    }\n    if (force === true) {\n        display_loaded();\n      }} else if (Date.now() < root._bokeh_timeout) {\n      setTimeout(run_inline_js, 100);\n    } else if (!root._bokeh_failed_load) {\n      console.log(\"Bokeh: BokehJS failed to load within specified timeout.\");\n      root._bokeh_failed_load = true;\n    } else if (force !== true) {\n      const cell = $(document.getElementById(\"10089\")).parents('.cell').data().cell;\n      cell.output_area.append_execute_result(NB_LOAD_WARNING)\n    }\n\n  }\n\n  if (root._bokeh_is_loading === 0) {\n    console.debug(\"Bokeh: BokehJS loaded, going straight to plotting\");\n    run_inline_js();\n  } else {\n    load_libs(css_urls, js_urls, function() {\n      console.debug(\"Bokeh: BokehJS plotting callback run at\", now());\n      run_inline_js();\n    });\n  }\n}(window));",
      "application/vnd.bokehjs_load.v0+json": ""
     },
     "metadata": {},
     "output_type": "display_data"
    }
   ],
   "source": [
    "from bokeh.io import output_notebook\n",
    "from bokeh.plotting import figure, show\n",
    "from bokeh.layouts import gridplot\n",
    "from bokeh.io import output_notebook\n",
    "from bokeh.plotting import ColumnDataSource\n",
    "from bokeh.models.formatters import DatetimeTickFormatter\n",
    "output_notebook()"
   ]
  },
  {
   "cell_type": "code",
   "execution_count": 40,
   "metadata": {},
   "outputs": [
    {
     "name": "stderr",
     "output_type": "stream",
     "text": [
      "BokehDeprecationWarning: 'legend' keyword is deprecated, use explicit 'legend_label', 'legend_field', or 'legend_group' keywords instead\n",
      "BokehDeprecationWarning: 'legend' keyword is deprecated, use explicit 'legend_label', 'legend_field', or 'legend_group' keywords instead\n"
     ]
    },
    {
     "data": {
      "text/html": [
       "\n",
       "\n",
       "\n",
       "\n",
       "\n",
       "\n",
       "  <div class=\"bk-root\" id=\"4bef6268-71b9-4647-91ac-fdb327829f3f\" data-root-id=\"12182\"></div>\n"
      ]
     },
     "metadata": {},
     "output_type": "display_data"
    },
    {
     "data": {
      "application/javascript": "(function(root) {\n  function embed_document(root) {\n    \n  const docs_json = {\"d3a8b138-e5ce-4cd2-b71a-250c2bc2ddb7\":{\"defs\":[],\"roots\":{\"references\":[{\"attributes\":{\"below\":[{\"id\":\"12193\"}],\"center\":[{\"id\":\"12196\"},{\"id\":\"12200\"},{\"id\":\"12243\"}],\"height\":400,\"left\":[{\"id\":\"12197\"}],\"renderers\":[{\"id\":\"12219\"},{\"id\":\"12249\"}],\"title\":{\"id\":\"12183\"},\"toolbar\":{\"id\":\"12208\"},\"width\":500,\"x_range\":{\"id\":\"12185\"},\"x_scale\":{\"id\":\"12189\"},\"y_range\":{\"id\":\"12187\"},\"y_scale\":{\"id\":\"12191\"}},\"id\":\"12182\",\"subtype\":\"Figure\",\"type\":\"Plot\"},{\"attributes\":{},\"id\":\"12204\",\"type\":\"SaveTool\"},{\"attributes\":{\"axis\":{\"id\":\"12197\"},\"coordinates\":null,\"dimension\":1,\"group\":null,\"ticker\":null},\"id\":\"12200\",\"type\":\"Grid\"},{\"attributes\":{},\"id\":\"12224\",\"type\":\"AllLabels\"},{\"attributes\":{\"overlay\":{\"id\":\"12207\"}},\"id\":\"12203\",\"type\":\"BoxZoomTool\"},{\"attributes\":{\"line_alpha\":0.2,\"line_color\":\"blue\",\"line_width\":2,\"x\":{\"field\":\"x\"},\"y\":{\"field\":\"y\"}},\"id\":\"12218\",\"type\":\"Line\"},{\"attributes\":{\"label\":{\"value\":\"interpolated.\"},\"renderers\":[{\"id\":\"12219\"}]},\"id\":\"12244\",\"type\":\"LegendItem\"},{\"attributes\":{},\"id\":\"12189\",\"type\":\"LinearScale\"},{\"attributes\":{},\"id\":\"12227\",\"type\":\"AllLabels\"},{\"attributes\":{\"line_color\":\"red\",\"line_width\":2,\"x\":{\"field\":\"x\"},\"y\":{\"field\":\"y\"}},\"id\":\"12246\",\"type\":\"Line\"},{\"attributes\":{},\"id\":\"12205\",\"type\":\"ResetTool\"},{\"attributes\":{\"data\":{\"x\":{\"__ndarray__\":\"AABwIB2ldkIAAFR4HaV2QgAADlQepXZCAADILx+ldkIAAKyHH6V2QgAAggsgpXZCAAA85yCldkIAAPbCIaV2QgAAsJ4ipXZCAABqeiOldkIAACRWJKV2QgAA3jElpXZCAACYDSaldkIAAFLpJqV2QgAADMUnpXZCAADGoCildkIAAIB8KaV2QgAAOlgqpXZCAAD0MyuldkIAAK4PLKV2QgAAaOsspXZCAAAixy2ldkIAANyiLqV2QgAAln4vpXZCAABQWjCldkIAAAo2MaV2QgAAxBEypXZCAAB+7TKldkIAADjJM6V2QgAAmLM0pXZCAADk0DSldkIAAFKPNaV2QgAADGs2pXZCAACkpTaldkIAAMZGN6V2QgAAgCI4pXZCAADgDDmldkIAANI4OaV2QgAAmug5pXZCAABUxDqldkIAAA6gO6V2QgAAyHs8pXZCAACCVz2ldkIAADwzPqV2QgAA9g4/pXZCAACw6j+ldkIAAGrGQKV2QgAAJKJBpXZCAADefUKldkIAAN59QqV2QgAAmFlDpXZCAABSNUSldkIAAAwRRaV2QgAAxuxFpXZCAACAyEaldkIAADqkR6V2QgAA9H9IpXZCAACuW0mldkIAABwaSqV2QgAAaDdKpXZCAABQpk2ldkIAAPa0TaV2QgAACoJOpXZCAAAeT0+ldkIAAJrhT6V2QgAAMhxQpXZCAADYKlCldkIAAPrLUKV2QgAAhDJRpXZCAAAcbVGldkIAANZIUqV2QgAAfFdSpXZCAABgr1KldkIAAFLbUqV2QgAA6hVTpXZCAACCUFOldkIAAGaoU6V2QgAA1GZUpXZCAADGklSldkIAAJwWVaV2QgAA2l9VpXZCAABymlWldkIAAB6iVqV2QgAAThdXpXZCAADKqVeldkIAALzVV6V2QgAA+h5YpXZCAABGPFildkIAAJJZWKV2QgAAhIVYpXZCAAAcwFildkIAAGjdWKV2QgAADuxYpXZCAAC0+lildkIAAJhSWaV2QgAA5G9ZpXZCAAAiuVmldkIAAG7WWaV2QgAABhFapXZCAACeS1qldkIAADaGWqV2QgAANoZapXZCAAAoslqldkIAAGb7WqV2QgAA/jVbpXZCAACWcFuldkIAAO5/XaV2QgAAxANepXZCAABOal6ldkIAADLCXqV2QgAAft9epXZCAABGj1+ldkIAADi7X6V2QgAA8pZgpXZCAACscmGldkIAAGZOYqV2QgAAICpjpXZCAADaBWSldkIAADrwZKV2QgAAEHRlpXZCAAD0y2WldkIAAK6nZqV2QgAAhCtnpXZCAABog2eldkIAAHxQaKV2QgAAIl9opXZCAADcOmmldkIAAJYWaqV2QgAALlFqpXZCAACq42qldkIAAEIea6V2QgAAZL9rpXZCAADEqWyldkIAADJobaV2QgAAfoVtpXZCAAA4YW6ldkI=\",\"dtype\":\"float64\",\"order\":\"little\",\"shape\":[136]},\"y\":{\"__ndarray__\":\"AAAAAABAW0AAAAAAAAD4fwAAAAAAAPh/AAAAAAAA+H8AAAAAAAD4fwAAAAAAAPh/AAAAAAAA+H8AAAAAAAD4fwAAAAAAAPh/AAAAAAAA+H8AAAAAAAD4fwAAAAAAAPh/AAAAAAAA+H8AAAAAAAD4fwAAAAAAAPh/AAAAAAAA+H8AAAAAAAD4fwAAAAAAAPh/AAAAAAAA+H8AAAAAAAD4fwAAAAAAAPh/AAAAAAAA+H8AAAAAAAD4fwAAAAAAAPh/AAAAAAAA+H8AAAAAAAD4fwAAAAAAAPh/AAAAAAAA+H8AAAAAAAD4fwAAAAAAAPh/AAAAAADAXkAAAAAAAAD4fwAAAAAAAPh/AAAAAADAY0AAAAAAAAD4fwAAAAAAAPh/AAAAAAAA+H8AAAAAAAD4fwAAAAAAAPh/AAAAAAAA+H8AAAAAAAD4fwAAAAAAAPh/AAAAAAAA+H8AAAAAAAD4fwAAAAAAAPh/AAAAAAAA+H8AAAAAAAD4fwAAAAAAAPh/AAAAAAAA+H8AAAAAAGBhQAAAAAAAAPh/AAAAAAAA+H8AAAAAAAD4fwAAAAAAAPh/AAAAAAAA+H8AAAAAAAD4fwAAAAAAAPh/AAAAAAAA+H8AAAAAAOBiQAAAAAAAAPh/AAAAAAAA+H8AAAAAACBgQAAAAAAAAPh/AAAAAAAgZEAAAAAAAABnQAAAAAAAQGZAAAAAAABAZkAAAAAAAEBeQAAAAAAAwFtAAAAAAACAWkAAAAAAAMBWQAAAAAAAQFhAAAAAAACAWkAAAAAAAIBaQAAAAAAAQFhAAAAAAACAVUAAAAAAAAD4fwAAAAAAgFxAAAAAAAAA+H8AAAAAACBgQAAAAAAAAPh/AAAAAACAXUAAAAAAAIBdQAAAAAAAwFxAAAAAAABAWkAAAAAAAEBbQAAAAAAAwFpAAAAAAADAW0AAAAAAAABeQAAAAAAAIGFAAAAAAADAYEAAAAAAAAD4fwAAAAAAIGBAAAAAAABAX0AAAAAAAIBeQAAAAAAAAF9AAAAAAAAA+H8AAAAAAMBfQAAAAAAAQF5AAAAAAADAXkAAAAAAAIBeQAAAAAAAAPh/AAAAAAAAX0AAAAAAAIBfQAAAAAAAAGBAAAAAAAAA+H8AAAAAAIBbQAAAAAAAAPh/AAAAAAAAYEAAAAAAAABdQAAAAAAAAPh/AAAAAACAWkAAAAAAAAD4fwAAAAAAAPh/AAAAAAAA+H8AAAAAAAD4fwAAAAAAAPh/AAAAAAAA+H8AAAAAAAD4fwAAAAAA4GJAAAAAAAAA+H8AAAAAAAD4fwAAAAAAgF9AAAAAAAAA+H8AAAAAAEBgQAAAAAAAAPh/AAAAAAAA+H8AAAAAAAD4fwAAAAAAgFxAAAAAAAAA+H8AAAAAAIBaQAAAAAAAAPh/AAAAAAAA+H8AAAAAAMBbQAAAAAAAAPh/AAAAAAAA+H8=\",\"dtype\":\"float64\",\"order\":\"little\",\"shape\":[136]}},\"selected\":{\"id\":\"12261\"},\"selection_policy\":{\"id\":\"12260\"}},\"id\":\"12245\",\"type\":\"ColumnDataSource\"},{\"attributes\":{},\"id\":\"12206\",\"type\":\"HelpTool\"},{\"attributes\":{\"coordinates\":null,\"formatter\":{\"id\":\"12223\"},\"group\":null,\"major_label_policy\":{\"id\":\"12224\"},\"ticker\":{\"id\":\"12198\"}},\"id\":\"12197\",\"type\":\"LinearAxis\"},{\"attributes\":{},\"id\":\"12201\",\"type\":\"PanTool\"},{\"attributes\":{},\"id\":\"12261\",\"type\":\"Selection\"},{\"attributes\":{\"days\":[\"%d-%b-%Y\"],\"hours\":[\"%H:%M\"],\"seconds\":[\"%S\"]},\"id\":\"12276\",\"type\":\"DatetimeTickFormatter\"},{\"attributes\":{\"axis\":{\"id\":\"12193\"},\"coordinates\":null,\"group\":null,\"ticker\":null},\"id\":\"12196\",\"type\":\"Grid\"},{\"attributes\":{},\"id\":\"12198\",\"type\":\"BasicTicker\"},{\"attributes\":{},\"id\":\"12223\",\"type\":\"BasicTickFormatter\"},{\"attributes\":{\"source\":{\"id\":\"12245\"}},\"id\":\"12250\",\"type\":\"CDSView\"},{\"attributes\":{\"mantissas\":[1,2,5],\"max_interval\":500.0,\"num_minor_ticks\":0},\"id\":\"12231\",\"type\":\"AdaptiveTicker\"},{\"attributes\":{\"coordinates\":null,\"data_source\":{\"id\":\"12245\"},\"glyph\":{\"id\":\"12246\"},\"group\":null,\"hover_glyph\":null,\"muted_glyph\":{\"id\":\"12248\"},\"nonselection_glyph\":{\"id\":\"12247\"},\"view\":{\"id\":\"12250\"}},\"id\":\"12249\",\"type\":\"GlyphRenderer\"},{\"attributes\":{\"base\":60,\"mantissas\":[1,2,5,10,15,20,30],\"max_interval\":1800000.0,\"min_interval\":1000.0,\"num_minor_ticks\":0},\"id\":\"12232\",\"type\":\"AdaptiveTicker\"},{\"attributes\":{\"coordinates\":null,\"data_source\":{\"id\":\"12215\"},\"glyph\":{\"id\":\"12216\"},\"group\":null,\"hover_glyph\":null,\"muted_glyph\":{\"id\":\"12218\"},\"nonselection_glyph\":{\"id\":\"12217\"},\"view\":{\"id\":\"12220\"}},\"id\":\"12219\",\"type\":\"GlyphRenderer\"},{\"attributes\":{\"data\":{\"x\":{\"__ndarray__\":\"AABwIB2ldkIAAFR4HaV2QgAADlQepXZCAADILx+ldkIAAKyHH6V2QgAAggsgpXZCAAA85yCldkIAAPbCIaV2QgAAsJ4ipXZCAABqeiOldkIAACRWJKV2QgAA3jElpXZCAACYDSaldkIAAFLpJqV2QgAADMUnpXZCAADGoCildkIAAIB8KaV2QgAAOlgqpXZCAAD0MyuldkIAAK4PLKV2QgAAaOsspXZCAAAixy2ldkIAANyiLqV2QgAAln4vpXZCAABQWjCldkIAAAo2MaV2QgAAxBEypXZCAAB+7TKldkIAADjJM6V2QgAAmLM0pXZCAADk0DSldkIAAFKPNaV2QgAADGs2pXZCAACkpTaldkIAAMZGN6V2QgAAgCI4pXZCAADgDDmldkIAANI4OaV2QgAAmug5pXZCAABUxDqldkIAAA6gO6V2QgAAyHs8pXZCAACCVz2ldkIAADwzPqV2QgAA9g4/pXZCAACw6j+ldkIAAGrGQKV2QgAAJKJBpXZCAADefUKldkIAAN59QqV2QgAAmFlDpXZCAABSNUSldkIAAAwRRaV2QgAAxuxFpXZCAACAyEaldkIAADqkR6V2QgAA9H9IpXZCAACuW0mldkIAABwaSqV2QgAAaDdKpXZCAABQpk2ldkIAAPa0TaV2QgAACoJOpXZCAAAeT0+ldkIAAJrhT6V2QgAAMhxQpXZCAADYKlCldkIAAPrLUKV2QgAAhDJRpXZCAAAcbVGldkIAANZIUqV2QgAAfFdSpXZCAABgr1KldkIAAFLbUqV2QgAA6hVTpXZCAACCUFOldkIAAGaoU6V2QgAA1GZUpXZCAADGklSldkIAAJwWVaV2QgAA2l9VpXZCAABymlWldkIAAB6iVqV2QgAAThdXpXZCAADKqVeldkIAALzVV6V2QgAA+h5YpXZCAABGPFildkIAAJJZWKV2QgAAhIVYpXZCAAAcwFildkIAAGjdWKV2QgAADuxYpXZCAAC0+lildkIAAJhSWaV2QgAA5G9ZpXZCAAAiuVmldkIAAG7WWaV2QgAABhFapXZCAACeS1qldkIAADaGWqV2QgAANoZapXZCAAAoslqldkIAAGb7WqV2QgAA/jVbpXZCAACWcFuldkIAAO5/XaV2QgAAxANepXZCAABOal6ldkIAADLCXqV2QgAAft9epXZCAABGj1+ldkIAADi7X6V2QgAA8pZgpXZCAACscmGldkIAAGZOYqV2QgAAICpjpXZCAADaBWSldkIAADrwZKV2QgAAEHRlpXZCAAD0y2WldkIAAK6nZqV2QgAAhCtnpXZCAABog2eldkIAAHxQaKV2QgAAIl9opXZCAADcOmmldkIAAJYWaqV2QgAALlFqpXZCAACq42qldkIAAEIea6V2QgAAZL9rpXZCAADEqWyldkIAADJobaV2QgAAfoVtpXZCAAA4YW6ldkI=\",\"dtype\":\"float64\",\"order\":\"little\",\"shape\":[136]},\"y\":{\"__ndarray__\":\"AAAAAABAW0Bm6PHBg9FXQDd8gYsGYE9AX7IEucRkQEAF6PKM3oQ1QBuaa2MQihVALIKI9AJ1M8C0ahDbhd5EwJgJ9xXLuk7A3A58lainU8CR0wkNDE5XwObSpPGPUFrA3AxNQzSvXMBxgQIC+WlewKowxS3egF/AhBqVxuPzX8D+PnLMCcNfwBqeXD9Q7l7A2TdUH7d1XcA2DFlsPllbwDUbaybmmFjA1mSKTa40VcAY6bbhlixRwPhP4cU/AUnA+IXeRCXDPMBAWr3IMtETwFDuSiwKajVAWCRIq+8rSUAgLiizTHVUQMTMZoOcj11AAAAAAADAXkBYrARWCmdiQKfxnU8QxWNAAAAAAADAY0C1QfFV03pjQMjdYNVDI2NAqfPwLVbOYkAIPQjKYr9iQJ2AjxSohmJA1ViXHKlGYkBOfAhGWQ5iQAvr4pC43WFACqUm/ca0YUBOqtOKhJNhQNT66TnxeWFAnpZpCg1oYUCqfVL8111hQPqvpA9SW2FAjS1gRHtgYUAAAAAAAGBhQGP2hJpTbWFAfAoTEtuBYUDYaQqrEZ5hQHgUa2X3wWFAWQo1QYztYUCAS2g+0CBiQOjXBF3DW2JAlK8KnWWeYkAAAAAAAOBiQN2jVL6d52JALDS/Bgo/YEAAAAAAACBgQD2hgPMeYWBAAAAAAAAgZEAAAAAAAABnQAAAAAAAQGZAAAAAAABAZkAAAAAAAEBeQAAAAAAAwFtAAAAAAACAWkAAAAAAAMBWQAAAAAAAQFhAAAAAAACAWkAAAAAAAIBaQAAAAAAAQFhAAAAAAACAVUDkWimHDWpVQAAAAAAAgFxAuPTS5NXHXkAAAAAAACBgQKGBGTt7zl5AAAAAAACAXUAAAAAAAIBdQAAAAAAAwFxAAAAAAABAWkAAAAAAAEBbQAAAAAAAwFpAAAAAAADAW0AAAAAAAABeQAAAAAAAIGFAAAAAAADAYEB6l1F3Oj9gQAAAAAAAIGBAAAAAAABAX0AAAAAAAIBeQAAAAAAAAF9AGxWiqfMOYEAAAAAAAMBfQAAAAAAAQF5AAAAAAADAXkAAAAAAAIBeQGW5Cfh9ul5AAAAAAAAAX0AAAAAAAIBfQAAAAAAAAGBAmGqYbn1IX0AAAAAAAIBbQHC4/mbWrVxAAAAAAAAAYEAAAAAAAABdQHKXBzb/UVpAAAAAAACAWkByrA38mP5dQBea7R9YU2ZAg7JjaNNFa0B/H2lXvtZtQAbh/ewYBm5AH/chKePTa0D9MtxiUtxmQAAAAAAA4GJAchFheLdlYEDHwAs4L4JcQAAAAAAAgF9ABX5aVif6YEAAAAAAAEBgQFob6ZlXBmBAsJKnWOGkW0DQz/3biLhbQAAAAAAAgFxANoYxTQAmXEAAAAAAAIBaQDEt5BS6c1ZA2oT7EdOCVkAAAAAAAMBbQOk9OswR+FxAUl+kDcTPZEA=\",\"dtype\":\"float64\",\"order\":\"little\",\"shape\":[136]}},\"selected\":{\"id\":\"12229\"},\"selection_policy\":{\"id\":\"12228\"}},\"id\":\"12215\",\"type\":\"ColumnDataSource\"},{\"attributes\":{\"line_alpha\":0.2,\"line_color\":\"red\",\"line_width\":2,\"x\":{\"field\":\"x\"},\"y\":{\"field\":\"y\"}},\"id\":\"12248\",\"type\":\"Line\"},{\"attributes\":{\"base\":24,\"mantissas\":[1,2,4,6,8,12],\"max_interval\":43200000.0,\"min_interval\":3600000.0,\"num_minor_ticks\":0},\"id\":\"12233\",\"type\":\"AdaptiveTicker\"},{\"attributes\":{\"line_alpha\":0.1,\"line_color\":\"red\",\"line_width\":2,\"x\":{\"field\":\"x\"},\"y\":{\"field\":\"y\"}},\"id\":\"12247\",\"type\":\"Line\"},{\"attributes\":{\"coordinates\":null,\"group\":null,\"text\":\"plot for interpolated with time method\"},\"id\":\"12183\",\"type\":\"Title\"},{\"attributes\":{},\"id\":\"12191\",\"type\":\"LinearScale\"},{\"attributes\":{\"label\":{\"value\":\"glucose.\"},\"renderers\":[{\"id\":\"12249\"}]},\"id\":\"12275\",\"type\":\"LegendItem\"},{\"attributes\":{\"source\":{\"id\":\"12215\"}},\"id\":\"12220\",\"type\":\"CDSView\"},{\"attributes\":{\"line_color\":\"blue\",\"line_width\":2,\"x\":{\"field\":\"x\"},\"y\":{\"field\":\"y\"}},\"id\":\"12216\",\"type\":\"Line\"},{\"attributes\":{},\"id\":\"12228\",\"type\":\"UnionRenderers\"},{\"attributes\":{\"num_minor_ticks\":5,\"tickers\":[{\"id\":\"12231\"},{\"id\":\"12232\"},{\"id\":\"12233\"},{\"id\":\"12234\"},{\"id\":\"12235\"},{\"id\":\"12236\"},{\"id\":\"12237\"},{\"id\":\"12238\"},{\"id\":\"12239\"},{\"id\":\"12240\"},{\"id\":\"12241\"},{\"id\":\"12242\"}]},\"id\":\"12194\",\"type\":\"DatetimeTicker\"},{\"attributes\":{\"days\":[1,2,3,4,5,6,7,8,9,10,11,12,13,14,15,16,17,18,19,20,21,22,23,24,25,26,27,28,29,30,31]},\"id\":\"12234\",\"type\":\"DaysTicker\"},{\"attributes\":{\"days\":[1,15]},\"id\":\"12237\",\"type\":\"DaysTicker\"},{\"attributes\":{},\"id\":\"12229\",\"type\":\"Selection\"},{\"attributes\":{\"days\":[1,4,7,10,13,16,19,22,25,28]},\"id\":\"12235\",\"type\":\"DaysTicker\"},{\"attributes\":{\"months\":[0,1,2,3,4,5,6,7,8,9,10,11]},\"id\":\"12238\",\"type\":\"MonthsTicker\"},{\"attributes\":{},\"id\":\"12260\",\"type\":\"UnionRenderers\"},{\"attributes\":{\"bottom_units\":\"screen\",\"coordinates\":null,\"fill_alpha\":0.5,\"fill_color\":\"lightgrey\",\"group\":null,\"left_units\":\"screen\",\"level\":\"overlay\",\"line_alpha\":1.0,\"line_color\":\"black\",\"line_dash\":[4,4],\"line_width\":2,\"right_units\":\"screen\",\"syncable\":false,\"top_units\":\"screen\"},\"id\":\"12207\",\"type\":\"BoxAnnotation\"},{\"attributes\":{\"days\":[1,8,15,22]},\"id\":\"12236\",\"type\":\"DaysTicker\"},{\"attributes\":{\"months\":[0,4,8]},\"id\":\"12240\",\"type\":\"MonthsTicker\"},{\"attributes\":{\"months\":[0,6]},\"id\":\"12241\",\"type\":\"MonthsTicker\"},{\"attributes\":{\"line_alpha\":0.1,\"line_color\":\"blue\",\"line_width\":2,\"x\":{\"field\":\"x\"},\"y\":{\"field\":\"y\"}},\"id\":\"12217\",\"type\":\"Line\"},{\"attributes\":{},\"id\":\"12187\",\"type\":\"DataRange1d\"},{\"attributes\":{\"coordinates\":null,\"group\":null,\"items\":[{\"id\":\"12244\"},{\"id\":\"12275\"}],\"location\":\"top_left\"},\"id\":\"12243\",\"type\":\"Legend\"},{\"attributes\":{\"tools\":[{\"id\":\"12201\"},{\"id\":\"12202\"},{\"id\":\"12203\"},{\"id\":\"12204\"},{\"id\":\"12205\"},{\"id\":\"12206\"}]},\"id\":\"12208\",\"type\":\"Toolbar\"},{\"attributes\":{\"axis_label\":\"time\",\"coordinates\":null,\"formatter\":{\"id\":\"12276\"},\"group\":null,\"major_label_policy\":{\"id\":\"12227\"},\"ticker\":{\"id\":\"12194\"}},\"id\":\"12193\",\"type\":\"DatetimeAxis\"},{\"attributes\":{\"months\":[0,2,4,6,8,10]},\"id\":\"12239\",\"type\":\"MonthsTicker\"},{\"attributes\":{},\"id\":\"12242\",\"type\":\"YearsTicker\"},{\"attributes\":{},\"id\":\"12185\",\"type\":\"DataRange1d\"},{\"attributes\":{},\"id\":\"12202\",\"type\":\"WheelZoomTool\"}],\"root_ids\":[\"12182\"]},\"title\":\"Bokeh Application\",\"version\":\"2.4.1\"}};\n  const render_items = [{\"docid\":\"d3a8b138-e5ce-4cd2-b71a-250c2bc2ddb7\",\"root_ids\":[\"12182\"],\"roots\":{\"12182\":\"4bef6268-71b9-4647-91ac-fdb327829f3f\"}}];\n  root.Bokeh.embed.embed_items_notebook(docs_json, render_items);\n\n  }\n  if (root.Bokeh !== undefined) {\n    embed_document(root);\n  } else {\n    let attempts = 0;\n    const timer = setInterval(function(root) {\n      if (root.Bokeh !== undefined) {\n        clearInterval(timer);\n        embed_document(root);\n      } else {\n        attempts++;\n        if (attempts > 100) {\n          clearInterval(timer);\n          console.log(\"Bokeh: ERROR: Unable to run BokehJS code because BokehJS library is missing\");\n        }\n      }\n    }, 10, root)\n  }\n})(window);",
      "application/vnd.bokehjs_exec.v0+json": ""
     },
     "metadata": {
      "application/vnd.bokehjs_exec.v0+json": {
       "id": "12182"
      }
     },
     "output_type": "display_data"
    }
   ],
   "source": [
    "#CODE YOUR SOLUTION HERE\n",
    "ColumnDataSource=df.copy()\n",
    "\n",
    "fig=figure(title=\"plot for interpolated with time method\",x_axis_label='time',plot_width = 500, plot_height = 400,x_axis_type='datetime')\n",
    "fig.line(x=ColumnDataSource.index,y=ColumnDataSource['interpolated'], legend=\"interpolated.\", line_width=2, color='blue')\n",
    "fig.line(x=ColumnDataSource.index,y=ColumnDataSource['glucose'], legend=\"glucose.\", line_width=2, color='red')\n",
    "fig.xaxis.formatter = DatetimeTickFormatter(days=\"%d-%b-%Y\", hours=\"%H:%M\", seconds=\"%S\" )\n",
    "fig.legend.location='top_left'\n",
    "show(fig)\n"
   ]
  },
  {
   "cell_type": "markdown",
   "metadata": {},
   "source": [
    "<a name='6'></a>\n",
    "## Part 6: Challenge\n",
    "\n",
    "It might even be interesting to introduce a widget in which you can select different methods to interpolate.\n",
    "1. Can you improve the interpolation by choosing an other method?\n",
    "2. Can you add an rolling mean line? \n",
    "2. Can you improve the plot by making it interactive?\n",
    "\n",
    "<a name='ex-61'></a>\n",
    "### Code your solution"
   ]
  },
  {
   "cell_type": "code",
   "execution_count": 39,
   "metadata": {},
   "outputs": [
    {
     "name": "stderr",
     "output_type": "stream",
     "text": [
      "BokehDeprecationWarning: 'legend' keyword is deprecated, use explicit 'legend_label', 'legend_field', or 'legend_group' keywords instead\n",
      "BokehDeprecationWarning: 'legend' keyword is deprecated, use explicit 'legend_label', 'legend_field', or 'legend_group' keywords instead\n",
      "BokehDeprecationWarning: 'legend' keyword is deprecated, use explicit 'legend_label', 'legend_field', or 'legend_group' keywords instead\n",
      "BokehDeprecationWarning: plot_width and plot_height was deprecated in Bokeh 2.4.0 and will be removed, use width or height instead.\n",
      "WARNING:bokeh.core.validation.check:W-1005 (FIXED_SIZING_MODE): 'fixed' sizing mode requires width and height to be set: Column(id='11184', ...)\n"
     ]
    },
    {
     "data": {
      "text/html": [
       "\n",
       "\n",
       "\n",
       "\n",
       "\n",
       "\n",
       "  <div class=\"bk-root\" id=\"32841349-64fd-44eb-8fb5-2ac29f379c31\" data-root-id=\"11184\"></div>\n"
      ]
     },
     "metadata": {},
     "output_type": "display_data"
    },
    {
     "data": {
      "application/javascript": "(function(root) {\n  function embed_document(root) {\n    \n  const docs_json = {\"c3ec69a7-5440-4b2d-a7a2-f66cfff11fc5\":{\"defs\":[],\"roots\":{\"references\":[{\"attributes\":{\"children\":[{\"id\":\"11183\"},{\"id\":\"11181\"}],\"sizing_mode\":\"fixed\"},\"id\":\"11184\",\"type\":\"Column\"},{\"attributes\":{\"coordinates\":null,\"data_source\":{\"id\":\"11018\"},\"glyph\":{\"id\":\"11019\"},\"group\":null,\"hover_glyph\":null,\"muted_glyph\":{\"id\":\"11021\"},\"nonselection_glyph\":{\"id\":\"11020\"},\"view\":{\"id\":\"11023\"}},\"id\":\"11022\",\"type\":\"GlyphRenderer\"},{\"attributes\":{},\"id\":\"10966\",\"type\":\"UnionRenderers\"},{\"attributes\":{\"base\":60,\"mantissas\":[1,2,5,10,15,20,30],\"max_interval\":1800000.0,\"min_interval\":1000.0,\"num_minor_ticks\":0},\"id\":\"11035\",\"type\":\"AdaptiveTicker\"},{\"attributes\":{\"label\":{\"value\":\"glucose.\"},\"renderers\":[{\"id\":\"11022\"}]},\"id\":\"11047\",\"type\":\"LegendItem\"},{\"attributes\":{\"base\":24,\"mantissas\":[1,2,4,6,8,12],\"max_interval\":43200000.0,\"min_interval\":3600000.0,\"num_minor_ticks\":0},\"id\":\"11036\",\"type\":\"AdaptiveTicker\"},{\"attributes\":{\"source\":{\"id\":\"11018\"}},\"id\":\"11023\",\"type\":\"CDSView\"},{\"attributes\":{},\"id\":\"10967\",\"type\":\"Selection\"},{\"attributes\":{\"days\":[1,2,3,4,5,6,7,8,9,10,11,12,13,14,15,16,17,18,19,20,21,22,23,24,25,26,27,28,29,30,31]},\"id\":\"11037\",\"type\":\"DaysTicker\"},{\"attributes\":{\"bottom_units\":\"screen\",\"coordinates\":null,\"fill_alpha\":0.5,\"fill_color\":\"lightgrey\",\"group\":null,\"left_units\":\"screen\",\"level\":\"overlay\",\"line_alpha\":1.0,\"line_color\":\"black\",\"line_dash\":[4,4],\"line_width\":2,\"right_units\":\"screen\",\"syncable\":false,\"top_units\":\"screen\"},\"id\":\"11075\",\"type\":\"BoxAnnotation\"},{\"attributes\":{\"months\":[0,1,2,3,4,5,6,7,8,9,10,11]},\"id\":\"11041\",\"type\":\"MonthsTicker\"},{\"attributes\":{},\"id\":\"11096\",\"type\":\"UnionRenderers\"},{\"attributes\":{\"days\":[1,15]},\"id\":\"11040\",\"type\":\"DaysTicker\"},{\"attributes\":{\"coordinates\":null,\"group\":null,\"items\":[{\"id\":\"11047\"}]},\"id\":\"11046\",\"type\":\"Legend\"},{\"attributes\":{},\"id\":\"11045\",\"type\":\"YearsTicker\"},{\"attributes\":{\"days\":[1,4,7,10,13,16,19,22,25,28]},\"id\":\"11038\",\"type\":\"DaysTicker\"},{\"attributes\":{},\"id\":\"11097\",\"type\":\"Selection\"},{\"attributes\":{\"days\":[1,8,15,22]},\"id\":\"11039\",\"type\":\"DaysTicker\"},{\"attributes\":{\"months\":[0,6]},\"id\":\"11044\",\"type\":\"MonthsTicker\"},{\"attributes\":{\"months\":[0,2,4,6,8,10]},\"id\":\"11042\",\"type\":\"MonthsTicker\"},{\"attributes\":{\"months\":[0,4,8]},\"id\":\"11043\",\"type\":\"MonthsTicker\"},{\"attributes\":{\"source\":{\"id\":\"11083\"}},\"id\":\"11088\",\"type\":\"CDSView\"},{\"attributes\":{},\"id\":\"10965\",\"type\":\"AllLabels\"},{\"attributes\":{\"months\":[0,2,4,6,8,10]},\"id\":\"11107\",\"type\":\"MonthsTicker\"},{\"attributes\":{\"label\":{\"value\":\"glucose.\"},\"renderers\":[{\"id\":\"10957\"}]},\"id\":\"10982\",\"type\":\"LegendItem\"},{\"attributes\":{\"line_alpha\":0.2,\"line_color\":\"green\",\"line_width\":2,\"x\":{\"field\":\"x\"},\"y\":{\"field\":\"y\"}},\"id\":\"11086\",\"type\":\"Line\"},{\"attributes\":{},\"id\":\"10988\",\"type\":\"DataRange1d\"},{\"attributes\":{\"coordinates\":null,\"data_source\":{\"id\":\"11083\"},\"glyph\":{\"id\":\"11084\"},\"group\":null,\"hover_glyph\":null,\"muted_glyph\":{\"id\":\"11086\"},\"nonselection_glyph\":{\"id\":\"11085\"},\"view\":{\"id\":\"11088\"}},\"id\":\"11087\",\"type\":\"GlyphRenderer\"},{\"attributes\":{\"line_alpha\":0.1,\"line_color\":\"green\",\"line_width\":2,\"x\":{\"field\":\"x\"},\"y\":{\"field\":\"y\"}},\"id\":\"11085\",\"type\":\"Line\"},{\"attributes\":{\"coordinates\":null,\"group\":null,\"items\":[{\"id\":\"11112\"}]},\"id\":\"11111\",\"type\":\"Legend\"},{\"attributes\":{\"days\":[\"%d-%b-%Y\"],\"hours\":[\"%H:%M\"],\"seconds\":[\"%S\"]},\"id\":\"10983\",\"type\":\"DatetimeTickFormatter\"},{\"attributes\":{\"mantissas\":[1,2,5],\"max_interval\":500.0,\"num_minor_ticks\":0},\"id\":\"10969\",\"type\":\"AdaptiveTicker\"},{\"attributes\":{\"base\":60,\"mantissas\":[1,2,5,10,15,20,30],\"max_interval\":1800000.0,\"min_interval\":1000.0,\"num_minor_ticks\":0},\"id\":\"10970\",\"type\":\"AdaptiveTicker\"},{\"attributes\":{\"base\":24,\"mantissas\":[1,2,4,6,8,12],\"max_interval\":43200000.0,\"min_interval\":3600000.0,\"num_minor_ticks\":0},\"id\":\"10971\",\"type\":\"AdaptiveTicker\"},{\"attributes\":{\"mantissas\":[1,2,5],\"max_interval\":500.0,\"num_minor_ticks\":0},\"id\":\"11099\",\"type\":\"AdaptiveTicker\"},{\"attributes\":{\"line_alpha\":0.1,\"line_color\":\"pink\",\"line_width\":2,\"x\":{\"field\":\"x\"},\"y\":{\"field\":\"y\"}},\"id\":\"11020\",\"type\":\"Line\"},{\"attributes\":{},\"id\":\"10980\",\"type\":\"YearsTicker\"},{\"attributes\":{\"months\":[0,1,2,3,4,5,6,7,8,9,10,11]},\"id\":\"10976\",\"type\":\"MonthsTicker\"},{\"attributes\":{},\"id\":\"10990\",\"type\":\"DataRange1d\"},{\"attributes\":{\"days\":[1,15]},\"id\":\"10975\",\"type\":\"DaysTicker\"},{\"attributes\":{\"base\":60,\"mantissas\":[1,2,5,10,15,20,30],\"max_interval\":1800000.0,\"min_interval\":1000.0,\"num_minor_ticks\":0},\"id\":\"11100\",\"type\":\"AdaptiveTicker\"},{\"attributes\":{\"axis_label\":\"interpolated data\",\"coordinates\":null,\"formatter\":{\"id\":\"11026\"},\"group\":null,\"major_label_policy\":{\"id\":\"11027\"},\"ticker\":{\"id\":\"11001\"}},\"id\":\"11000\",\"type\":\"LinearAxis\"},{\"attributes\":{},\"id\":\"11026\",\"type\":\"BasicTickFormatter\"},{\"attributes\":{\"days\":[1,2,3,4,5,6,7,8,9,10,11,12,13,14,15,16,17,18,19,20,21,22,23,24,25,26,27,28,29,30,31]},\"id\":\"10972\",\"type\":\"DaysTicker\"},{\"attributes\":{\"axis\":{\"id\":\"10996\"},\"coordinates\":null,\"group\":null,\"ticker\":null},\"id\":\"10999\",\"type\":\"Grid\"},{\"attributes\":{\"days\":[1,4,7,10,13,16,19,22,25,28]},\"id\":\"10973\",\"type\":\"DaysTicker\"},{\"attributes\":{\"base\":24,\"mantissas\":[1,2,4,6,8,12],\"max_interval\":43200000.0,\"min_interval\":3600000.0,\"num_minor_ticks\":0},\"id\":\"11101\",\"type\":\"AdaptiveTicker\"},{\"attributes\":{\"num_minor_ticks\":5,\"tickers\":[{\"id\":\"11034\"},{\"id\":\"11035\"},{\"id\":\"11036\"},{\"id\":\"11037\"},{\"id\":\"11038\"},{\"id\":\"11039\"},{\"id\":\"11040\"},{\"id\":\"11041\"},{\"id\":\"11042\"},{\"id\":\"11043\"},{\"id\":\"11044\"},{\"id\":\"11045\"}]},\"id\":\"10997\",\"type\":\"DatetimeTicker\"},{\"attributes\":{\"days\":[1,8,15,22]},\"id\":\"10974\",\"type\":\"DaysTicker\"},{\"attributes\":{\"months\":[0,1,2,3,4,5,6,7,8,9,10,11]},\"id\":\"11106\",\"type\":\"MonthsTicker\"},{\"attributes\":{},\"id\":\"10994\",\"type\":\"LinearScale\"},{\"attributes\":{},\"id\":\"11027\",\"type\":\"AllLabels\"},{\"attributes\":{\"line_color\":\"green\",\"line_width\":2,\"x\":{\"field\":\"x\"},\"y\":{\"field\":\"y\"}},\"id\":\"11084\",\"type\":\"Line\"},{\"attributes\":{},\"id\":\"10992\",\"type\":\"LinearScale\"},{\"attributes\":{\"months\":[0,2,4,6,8,10]},\"id\":\"10977\",\"type\":\"MonthsTicker\"},{\"attributes\":{\"months\":[0,6]},\"id\":\"10979\",\"type\":\"MonthsTicker\"},{\"attributes\":{\"days\":[\"%d-%b-%Y\"],\"hours\":[\"%H:%M\"],\"seconds\":[\"%S\"]},\"id\":\"11048\",\"type\":\"DatetimeTickFormatter\"},{\"attributes\":{\"days\":[1,2,3,4,5,6,7,8,9,10,11,12,13,14,15,16,17,18,19,20,21,22,23,24,25,26,27,28,29,30,31]},\"id\":\"11102\",\"type\":\"DaysTicker\"},{\"attributes\":{\"days\":[1,4,7,10,13,16,19,22,25,28]},\"id\":\"11103\",\"type\":\"DaysTicker\"},{\"attributes\":{\"coordinates\":null,\"group\":null,\"text\":\"plot for interpolated with time method\"},\"id\":\"10986\",\"type\":\"Title\"},{\"attributes\":{\"days\":[1,8,15,22]},\"id\":\"11104\",\"type\":\"DaysTicker\"},{\"attributes\":{\"axis_label\":\"time\",\"coordinates\":null,\"formatter\":{\"id\":\"11048\"},\"group\":null,\"major_label_policy\":{\"id\":\"11030\"},\"ticker\":{\"id\":\"10997\"}},\"id\":\"10996\",\"type\":\"DatetimeAxis\"},{\"attributes\":{\"months\":[0,4,8]},\"id\":\"10978\",\"type\":\"MonthsTicker\"},{\"attributes\":{},\"id\":\"11005\",\"type\":\"WheelZoomTool\"},{\"attributes\":{},\"id\":\"11030\",\"type\":\"AllLabels\"},{\"attributes\":{\"children\":[[{\"id\":\"10920\"},0,0],[{\"id\":\"10985\"},0,1],[{\"id\":\"11050\"},0,2]]},\"id\":\"11181\",\"type\":\"GridBox\"},{\"attributes\":{\"data\":{\"x\":{\"__ndarray__\":\"AABwIB2ldkIAAFR4HaV2QgAADlQepXZCAADILx+ldkIAAKyHH6V2QgAAggsgpXZCAAA85yCldkIAAPbCIaV2QgAAsJ4ipXZCAABqeiOldkIAACRWJKV2QgAA3jElpXZCAACYDSaldkIAAFLpJqV2QgAADMUnpXZCAADGoCildkIAAIB8KaV2QgAAOlgqpXZCAAD0MyuldkIAAK4PLKV2QgAAaOsspXZCAAAixy2ldkIAANyiLqV2QgAAln4vpXZCAABQWjCldkIAAAo2MaV2QgAAxBEypXZCAAB+7TKldkIAADjJM6V2QgAAmLM0pXZCAADk0DSldkIAAFKPNaV2QgAADGs2pXZCAACkpTaldkIAAMZGN6V2QgAAgCI4pXZCAADgDDmldkIAANI4OaV2QgAAmug5pXZCAABUxDqldkIAAA6gO6V2QgAAyHs8pXZCAACCVz2ldkIAADwzPqV2QgAA9g4/pXZCAACw6j+ldkIAAGrGQKV2QgAAJKJBpXZCAADefUKldkIAAN59QqV2QgAAmFlDpXZCAABSNUSldkIAAAwRRaV2QgAAxuxFpXZCAACAyEaldkIAADqkR6V2QgAA9H9IpXZCAACuW0mldkIAABwaSqV2QgAAaDdKpXZCAABQpk2ldkIAAPa0TaV2QgAACoJOpXZCAAAeT0+ldkIAAJrhT6V2QgAAMhxQpXZCAADYKlCldkIAAPrLUKV2QgAAhDJRpXZCAAAcbVGldkIAANZIUqV2QgAAfFdSpXZCAABgr1KldkIAAFLbUqV2QgAA6hVTpXZCAACCUFOldkIAAGaoU6V2QgAA1GZUpXZCAADGklSldkIAAJwWVaV2QgAA2l9VpXZCAABymlWldkIAAB6iVqV2QgAAThdXpXZCAADKqVeldkIAALzVV6V2QgAA+h5YpXZCAABGPFildkIAAJJZWKV2QgAAhIVYpXZCAAAcwFildkIAAGjdWKV2QgAADuxYpXZCAAC0+lildkIAAJhSWaV2QgAA5G9ZpXZCAAAiuVmldkIAAG7WWaV2QgAABhFapXZCAACeS1qldkIAADaGWqV2QgAANoZapXZCAAAoslqldkIAAGb7WqV2QgAA/jVbpXZCAACWcFuldkIAAO5/XaV2QgAAxANepXZCAABOal6ldkIAADLCXqV2QgAAft9epXZCAABGj1+ldkIAADi7X6V2QgAA8pZgpXZCAACscmGldkIAAGZOYqV2QgAAICpjpXZCAADaBWSldkIAADrwZKV2QgAAEHRlpXZCAAD0y2WldkIAAK6nZqV2QgAAhCtnpXZCAABog2eldkIAAHxQaKV2QgAAIl9opXZCAADcOmmldkIAAJYWaqV2QgAALlFqpXZCAACq42qldkIAAEIea6V2QgAAZL9rpXZCAADEqWyldkIAADJobaV2QgAAfoVtpXZCAAA4YW6ldkI=\",\"dtype\":\"float64\",\"order\":\"little\",\"shape\":[136]},\"y\":{\"__ndarray__\":\"AAAAAABAW0Ap8TNK/ExbQA/MtQNzbVtA9aY3vemNW0AemGsH5ppbQNuBuXZgrltAwVw7MNfOW0CnN73pTe9bQI0SP6PED1xAc+3AXDswXEBZyEIWslBcQD+jxM8ocVxAJX5GiZ+RXEALWchCFrJcQPEzSvyM0lxA1w7MtQPzXEC96U1vehNdQKPEzyjxM11AiZ9R4mdUXUBvetOb3nRdQFVVVVVVlV1AOzDXDsy1XUAhC1nIQtZdQAfm2oG59l1A7cBcOzAXXkDTm970pjdeQLp2YK4dWF5AoFHiZ5R4XkCGLGQhC5leQPIEROeru15AAAAAAADAXkAAAAAAACdhQAAAAAAANGNAAAAAAADAY0ARbqnZsJ9jQLUyeQKic2NA/IwSP6NEY0DqTW960ztjQKBR4meUGGNAQxaykIXsYkDm2oG5dsBiQImfUeJnlGJALGQhC1loYkDQKPEzSjxiQHPtwFw7EGJAFrKQhSzkYUC6dmCuHbhhQF07MNcOjGFAAAAAAABgYUAAAAAAAGBhQLW60+pOi2FAanWn1Z22YUAfMHvA7OFhQNTqTqs7DWJAiaUiloo4YkA+YPaA2WNiQPMaymsoj2JAqNWdVne6YkAAAAAAAOBiQJqmaZqmyWJAsyzLsiwrYEAAAAAAACBgQAAAAAAAIGJAAAAAAAAgZEAAAAAAAABnQAAAAAAAQGZAAAAAAABAZkAAAAAAAEBeQAAAAAAAwFtAAAAAAACAWkAAAAAAAMBWQAAAAAAAQFhAAAAAAACAWkAAAAAAAIBaQAAAAAAAQFhAAAAAAACAVUBeQ3kN5bVXQAAAAAAAgFxAAAAAAABwXUAAAAAAACBgQI7jOI7juF5AAAAAAACAXUAAAAAAAIBdQAAAAAAAwFxAAAAAAABAWkAAAAAAAEBbQAAAAAAAwFpAAAAAAADAW0AAAAAAAABeQAAAAAAAIGFAAAAAAADAYEBVVVVVVVVgQAAAAAAAIGBAAAAAAABAX0AAAAAAAIBeQAAAAAAAAF9AkiRJkiSJX0AAAAAAAMBfQAAAAAAAQF5AAAAAAADAXkAAAAAAAIBeQAAAAAAAgF5AAAAAAAAAX0AAAAAAAIBfQAAAAAAAAGBAzczMzMyMX0AAAAAAAIBbQAAAAAAACF5AAAAAAAAAYEAAAAAAAABdQEmSJEmSpFxAAAAAAACAWkCp5Lws4tNaQPZbbQxNd1xAQ9Md7LcaXkCQSs7LIr5fQO9gv9XGsGBAlZyXRXyCYUACqeS8LGJiQAAAAAAA4GJAAAAAAABAYkAAAAAAALBgQAAAAAAAgF9AzczMzMzMX0AAAAAAAEBgQBZf8RVfMWBAvuIrvuKrXkBQB3VQB/VcQAAAAAAAgFxAJUmSJEkSW0AAAAAAAIBaQAAAAAAA2FpAAAAAAABYW0AAAAAAAMBbQAAAAAAAwFtAAAAAAADAW0A=\",\"dtype\":\"float64\",\"order\":\"little\",\"shape\":[136]}},\"selected\":{\"id\":\"11032\"},\"selection_policy\":{\"id\":\"11031\"}},\"id\":\"11018\",\"type\":\"ColumnDataSource\"},{\"attributes\":{},\"id\":\"11009\",\"type\":\"HelpTool\"},{\"attributes\":{},\"id\":\"11004\",\"type\":\"PanTool\"},{\"attributes\":{},\"id\":\"11001\",\"type\":\"BasicTicker\"},{\"attributes\":{\"overlay\":{\"id\":\"11010\"}},\"id\":\"11006\",\"type\":\"BoxZoomTool\"},{\"attributes\":{},\"id\":\"11007\",\"type\":\"SaveTool\"},{\"attributes\":{},\"id\":\"11008\",\"type\":\"ResetTool\"},{\"attributes\":{},\"id\":\"11095\",\"type\":\"AllLabels\"},{\"attributes\":{\"bottom_units\":\"screen\",\"coordinates\":null,\"fill_alpha\":0.5,\"fill_color\":\"lightgrey\",\"group\":null,\"left_units\":\"screen\",\"level\":\"overlay\",\"line_alpha\":1.0,\"line_color\":\"black\",\"line_dash\":[4,4],\"line_width\":2,\"right_units\":\"screen\",\"syncable\":false,\"top_units\":\"screen\"},\"id\":\"11010\",\"type\":\"BoxAnnotation\"},{\"attributes\":{\"axis\":{\"id\":\"11000\"},\"coordinates\":null,\"dimension\":1,\"group\":null,\"ticker\":null},\"id\":\"11003\",\"type\":\"Grid\"},{\"attributes\":{},\"id\":\"11031\",\"type\":\"UnionRenderers\"},{\"attributes\":{},\"id\":\"11053\",\"type\":\"DataRange1d\"},{\"attributes\":{},\"id\":\"11032\",\"type\":\"Selection\"},{\"attributes\":{\"toolbars\":[{\"id\":\"10946\"},{\"id\":\"11011\"},{\"id\":\"11076\"}],\"tools\":[{\"id\":\"10939\"},{\"id\":\"10940\"},{\"id\":\"10941\"},{\"id\":\"10942\"},{\"id\":\"10943\"},{\"id\":\"10944\"},{\"id\":\"11004\"},{\"id\":\"11005\"},{\"id\":\"11006\"},{\"id\":\"11007\"},{\"id\":\"11008\"},{\"id\":\"11009\"},{\"id\":\"11069\"},{\"id\":\"11070\"},{\"id\":\"11071\"},{\"id\":\"11072\"},{\"id\":\"11073\"},{\"id\":\"11074\"}]},\"id\":\"11182\",\"type\":\"ProxyToolbar\"},{\"attributes\":{},\"id\":\"10961\",\"type\":\"BasicTickFormatter\"},{\"attributes\":{},\"id\":\"11055\",\"type\":\"DataRange1d\"},{\"attributes\":{},\"id\":\"11059\",\"type\":\"LinearScale\"},{\"attributes\":{\"data\":{\"x\":{\"__ndarray__\":\"AABwIB2ldkIAAFR4HaV2QgAADlQepXZCAADILx+ldkIAAKyHH6V2QgAAggsgpXZCAAA85yCldkIAAPbCIaV2QgAAsJ4ipXZCAABqeiOldkIAACRWJKV2QgAA3jElpXZCAACYDSaldkIAAFLpJqV2QgAADMUnpXZCAADGoCildkIAAIB8KaV2QgAAOlgqpXZCAAD0MyuldkIAAK4PLKV2QgAAaOsspXZCAAAixy2ldkIAANyiLqV2QgAAln4vpXZCAABQWjCldkIAAAo2MaV2QgAAxBEypXZCAAB+7TKldkIAADjJM6V2QgAAmLM0pXZCAADk0DSldkIAAFKPNaV2QgAADGs2pXZCAACkpTaldkIAAMZGN6V2QgAAgCI4pXZCAADgDDmldkIAANI4OaV2QgAAmug5pXZCAABUxDqldkIAAA6gO6V2QgAAyHs8pXZCAACCVz2ldkIAADwzPqV2QgAA9g4/pXZCAACw6j+ldkIAAGrGQKV2QgAAJKJBpXZCAADefUKldkIAAN59QqV2QgAAmFlDpXZCAABSNUSldkIAAAwRRaV2QgAAxuxFpXZCAACAyEaldkIAADqkR6V2QgAA9H9IpXZCAACuW0mldkIAABwaSqV2QgAAaDdKpXZCAABQpk2ldkIAAPa0TaV2QgAACoJOpXZCAAAeT0+ldkIAAJrhT6V2QgAAMhxQpXZCAADYKlCldkIAAPrLUKV2QgAAhDJRpXZCAAAcbVGldkIAANZIUqV2QgAAfFdSpXZCAABgr1KldkIAAFLbUqV2QgAA6hVTpXZCAACCUFOldkIAAGaoU6V2QgAA1GZUpXZCAADGklSldkIAAJwWVaV2QgAA2l9VpXZCAABymlWldkIAAB6iVqV2QgAAThdXpXZCAADKqVeldkIAALzVV6V2QgAA+h5YpXZCAABGPFildkIAAJJZWKV2QgAAhIVYpXZCAAAcwFildkIAAGjdWKV2QgAADuxYpXZCAAC0+lildkIAAJhSWaV2QgAA5G9ZpXZCAAAiuVmldkIAAG7WWaV2QgAABhFapXZCAACeS1qldkIAADaGWqV2QgAANoZapXZCAAAoslqldkIAAGb7WqV2QgAA/jVbpXZCAACWcFuldkIAAO5/XaV2QgAAxANepXZCAABOal6ldkIAADLCXqV2QgAAft9epXZCAABGj1+ldkIAADi7X6V2QgAA8pZgpXZCAACscmGldkIAAGZOYqV2QgAAICpjpXZCAADaBWSldkIAADrwZKV2QgAAEHRlpXZCAAD0y2WldkIAAK6nZqV2QgAAhCtnpXZCAABog2eldkIAAHxQaKV2QgAAIl9opXZCAADcOmmldkIAAJYWaqV2QgAALlFqpXZCAACq42qldkIAAEIea6V2QgAAZL9rpXZCAADEqWyldkIAADJobaV2QgAAfoVtpXZCAAA4YW6ldkI=\",\"dtype\":\"float64\",\"order\":\"little\",\"shape\":[136]},\"y\":{\"__ndarray__\":\"AAAAAABAW0De3d3d3V1bQLy7u7u7e1tAmpmZmZmZW0B3d3d3d7dbQFVVVVVV1VtAMzMzMzPzW0ARERERERFcQO/u7u7uLlxAzczMzMxMXECrqqqqqmpcQImIiIiIiFxAZmZmZmamXEBERERERMRcQCIiIiIi4lxAAAAAAAAAXUDe3d3d3R1dQLy7u7u7O11AmpmZmZlZXUB4d3d3d3ddQFVVVVVVlV1AMzMzMzOzXUAREREREdFdQO/u7u7u7l1AzczMzMwMXkCrqqqqqipeQIiIiIiISF5AZmZmZmZmXkBERERERIReQCIiIiIiol5AAAAAAADAXkBVVVVVVdVgQKuqqqqqSmJAAAAAAADAY0AAAAAAAJpjQAAAAAAAdGNAAAAAAABOY0AAAAAAAChjQAAAAAAAAmNAAAAAAADcYkAAAAAAALZiQAAAAAAAkGJAAAAAAABqYkAAAAAAAERiQAAAAAAAHmJAAAAAAAD4YUAAAAAAANJhQAAAAAAArGFAAAAAAACGYUAAAAAAAGBhQKuqqqqqimFAVVVVVVW1YUAAAAAAAOBhQKuqqqqqCmJAVVVVVVU1YkAAAAAAAGBiQKuqqqqqimJAVVVVVVW1YkAAAAAAAOBiQFVVVVVV9WFAq6qqqqoKYUAAAAAAACBgQAAAAAAAIGJAAAAAAAAgZEAAAAAAAABnQAAAAAAAQGZAAAAAAABAZkAAAAAAAEBeQAAAAAAAwFtAAAAAAACAWkAAAAAAAMBWQAAAAAAAQFhAAAAAAACAWkAAAAAAAIBaQAAAAAAAQFhAAAAAAACAVUAAAAAAAABZQAAAAAAAgFxAAAAAAABgXkAAAAAAACBgQAAAAAAA4F5AAAAAAACAXUAAAAAAAIBdQAAAAAAAwFxAAAAAAABAWkAAAAAAAEBbQAAAAAAAwFpAAAAAAADAW0AAAAAAAABeQAAAAAAAIGFAAAAAAADAYEAAAAAAAHBgQAAAAAAAIGBAAAAAAABAX0AAAAAAAIBeQAAAAAAAAF9AAAAAAABgX0AAAAAAAMBfQAAAAAAAQF5AAAAAAADAXkAAAAAAAIBeQAAAAAAAwF5AAAAAAAAAX0AAAAAAAIBfQAAAAAAAAGBAAAAAAADAXUAAAAAAAIBbQAAAAAAAwF1AAAAAAAAAYEAAAAAAAABdQAAAAAAAwFtAAAAAAACAWkAAAAAAAOhbQAAAAAAAUF1AAAAAAAC4XkAAAAAAABBgQAAAAAAAxGBAAAAAAAB4YUAAAAAAACxiQAAAAAAA4GJAVVVVVVXVYUCrqqqqqspgQAAAAAAAgF9AAAAAAAAAYEAAAAAAAEBgQAAAAAAAgF9AAAAAAACAXkAAAAAAAIBdQAAAAAAAgFxAAAAAAACAW0AAAAAAAIBaQKuqqqqq6lpAVVVVVVVVW0AAAAAAAMBbQAAAAAAAwFtAAAAAAADAW0A=\",\"dtype\":\"float64\",\"order\":\"little\",\"shape\":[136]}},\"selected\":{\"id\":\"11097\"},\"selection_policy\":{\"id\":\"11096\"}},\"id\":\"11083\",\"type\":\"ColumnDataSource\"},{\"attributes\":{},\"id\":\"11092\",\"type\":\"AllLabels\"},{\"attributes\":{},\"id\":\"11110\",\"type\":\"YearsTicker\"},{\"attributes\":{\"num_minor_ticks\":5,\"tickers\":[{\"id\":\"11099\"},{\"id\":\"11100\"},{\"id\":\"11101\"},{\"id\":\"11102\"},{\"id\":\"11103\"},{\"id\":\"11104\"},{\"id\":\"11105\"},{\"id\":\"11106\"},{\"id\":\"11107\"},{\"id\":\"11108\"},{\"id\":\"11109\"},{\"id\":\"11110\"}]},\"id\":\"11062\",\"type\":\"DatetimeTicker\"},{\"attributes\":{\"months\":[0,4,8]},\"id\":\"11108\",\"type\":\"MonthsTicker\"},{\"attributes\":{\"line_alpha\":0.2,\"line_color\":\"pink\",\"line_width\":2,\"x\":{\"field\":\"x\"},\"y\":{\"field\":\"y\"}},\"id\":\"11021\",\"type\":\"Line\"},{\"attributes\":{\"axis_label\":\"time\",\"coordinates\":null,\"formatter\":{\"id\":\"11113\"},\"group\":null,\"major_label_policy\":{\"id\":\"11095\"},\"ticker\":{\"id\":\"11062\"}},\"id\":\"11061\",\"type\":\"DatetimeAxis\"},{\"attributes\":{\"axis_label\":\"interpolated data\",\"coordinates\":null,\"formatter\":{\"id\":\"11091\"},\"group\":null,\"major_label_policy\":{\"id\":\"11092\"},\"ticker\":{\"id\":\"11066\"}},\"id\":\"11065\",\"type\":\"LinearAxis\"},{\"attributes\":{\"axis\":{\"id\":\"11061\"},\"coordinates\":null,\"group\":null,\"ticker\":null},\"id\":\"11064\",\"type\":\"Grid\"},{\"attributes\":{},\"id\":\"11091\",\"type\":\"BasicTickFormatter\"},{\"attributes\":{},\"id\":\"11057\",\"type\":\"LinearScale\"},{\"attributes\":{\"tools\":[{\"id\":\"10939\"},{\"id\":\"10940\"},{\"id\":\"10941\"},{\"id\":\"10942\"},{\"id\":\"10943\"},{\"id\":\"10944\"}]},\"id\":\"10946\",\"type\":\"Toolbar\"},{\"attributes\":{\"coordinates\":null,\"group\":null,\"text\":\"plot for interpolated with linear method\"},\"id\":\"11051\",\"type\":\"Title\"},{\"attributes\":{\"tools\":[{\"id\":\"11004\"},{\"id\":\"11005\"},{\"id\":\"11006\"},{\"id\":\"11007\"},{\"id\":\"11008\"},{\"id\":\"11009\"}]},\"id\":\"11011\",\"type\":\"Toolbar\"},{\"attributes\":{},\"id\":\"11070\",\"type\":\"WheelZoomTool\"},{\"attributes\":{\"line_alpha\":0.1,\"line_color\":\"orange\",\"line_width\":2,\"x\":{\"field\":\"x\"},\"y\":{\"field\":\"y\"}},\"id\":\"10955\",\"type\":\"Line\"},{\"attributes\":{\"axis\":{\"id\":\"11065\"},\"coordinates\":null,\"dimension\":1,\"group\":null,\"ticker\":null},\"id\":\"11068\",\"type\":\"Grid\"},{\"attributes\":{},\"id\":\"11066\",\"type\":\"BasicTicker\"},{\"attributes\":{\"months\":[0,6]},\"id\":\"11109\",\"type\":\"MonthsTicker\"},{\"attributes\":{\"tools\":[{\"id\":\"11069\"},{\"id\":\"11070\"},{\"id\":\"11071\"},{\"id\":\"11072\"},{\"id\":\"11073\"},{\"id\":\"11074\"}]},\"id\":\"11076\",\"type\":\"Toolbar\"},{\"attributes\":{},\"id\":\"11074\",\"type\":\"HelpTool\"},{\"attributes\":{\"days\":[1,15]},\"id\":\"11105\",\"type\":\"DaysTicker\"},{\"attributes\":{},\"id\":\"11069\",\"type\":\"PanTool\"},{\"attributes\":{\"overlay\":{\"id\":\"11075\"}},\"id\":\"11071\",\"type\":\"BoxZoomTool\"},{\"attributes\":{\"mantissas\":[1,2,5],\"max_interval\":500.0,\"num_minor_ticks\":0},\"id\":\"11034\",\"type\":\"AdaptiveTicker\"},{\"attributes\":{},\"id\":\"10962\",\"type\":\"AllLabels\"},{\"attributes\":{},\"id\":\"11072\",\"type\":\"SaveTool\"},{\"attributes\":{},\"id\":\"11073\",\"type\":\"ResetTool\"},{\"attributes\":{},\"id\":\"10940\",\"type\":\"WheelZoomTool\"},{\"attributes\":{\"axis_label\":\"time\",\"coordinates\":null,\"formatter\":{\"id\":\"10983\"},\"group\":null,\"major_label_policy\":{\"id\":\"10965\"},\"ticker\":{\"id\":\"10932\"}},\"id\":\"10931\",\"type\":\"DatetimeAxis\"},{\"attributes\":{\"axis_label\":\"interpolated data\",\"coordinates\":null,\"formatter\":{\"id\":\"10961\"},\"group\":null,\"major_label_policy\":{\"id\":\"10962\"},\"ticker\":{\"id\":\"10936\"}},\"id\":\"10935\",\"type\":\"LinearAxis\"},{\"attributes\":{\"axis\":{\"id\":\"10931\"},\"coordinates\":null,\"group\":null,\"ticker\":null},\"id\":\"10934\",\"type\":\"Grid\"},{\"attributes\":{\"num_minor_ticks\":5,\"tickers\":[{\"id\":\"10969\"},{\"id\":\"10970\"},{\"id\":\"10971\"},{\"id\":\"10972\"},{\"id\":\"10973\"},{\"id\":\"10974\"},{\"id\":\"10975\"},{\"id\":\"10976\"},{\"id\":\"10977\"},{\"id\":\"10978\"},{\"id\":\"10979\"},{\"id\":\"10980\"}]},\"id\":\"10932\",\"type\":\"DatetimeTicker\"},{\"attributes\":{},\"id\":\"10929\",\"type\":\"LinearScale\"},{\"attributes\":{},\"id\":\"10927\",\"type\":\"LinearScale\"},{\"attributes\":{\"label\":{\"value\":\"glucose.\"},\"renderers\":[{\"id\":\"11087\"}]},\"id\":\"11112\",\"type\":\"LegendItem\"},{\"attributes\":{\"coordinates\":null,\"group\":null,\"text\":\"plot for interpolated with pad method\"},\"id\":\"10921\",\"type\":\"Title\"},{\"attributes\":{},\"id\":\"10925\",\"type\":\"DataRange1d\"},{\"attributes\":{\"data\":{\"x\":{\"__ndarray__\":\"AABwIB2ldkIAAFR4HaV2QgAADlQepXZCAADILx+ldkIAAKyHH6V2QgAAggsgpXZCAAA85yCldkIAAPbCIaV2QgAAsJ4ipXZCAABqeiOldkIAACRWJKV2QgAA3jElpXZCAACYDSaldkIAAFLpJqV2QgAADMUnpXZCAADGoCildkIAAIB8KaV2QgAAOlgqpXZCAAD0MyuldkIAAK4PLKV2QgAAaOsspXZCAAAixy2ldkIAANyiLqV2QgAAln4vpXZCAABQWjCldkIAAAo2MaV2QgAAxBEypXZCAAB+7TKldkIAADjJM6V2QgAAmLM0pXZCAADk0DSldkIAAFKPNaV2QgAADGs2pXZCAACkpTaldkIAAMZGN6V2QgAAgCI4pXZCAADgDDmldkIAANI4OaV2QgAAmug5pXZCAABUxDqldkIAAA6gO6V2QgAAyHs8pXZCAACCVz2ldkIAADwzPqV2QgAA9g4/pXZCAACw6j+ldkIAAGrGQKV2QgAAJKJBpXZCAADefUKldkIAAN59QqV2QgAAmFlDpXZCAABSNUSldkIAAAwRRaV2QgAAxuxFpXZCAACAyEaldkIAADqkR6V2QgAA9H9IpXZCAACuW0mldkIAABwaSqV2QgAAaDdKpXZCAABQpk2ldkIAAPa0TaV2QgAACoJOpXZCAAAeT0+ldkIAAJrhT6V2QgAAMhxQpXZCAADYKlCldkIAAPrLUKV2QgAAhDJRpXZCAAAcbVGldkIAANZIUqV2QgAAfFdSpXZCAABgr1KldkIAAFLbUqV2QgAA6hVTpXZCAACCUFOldkIAAGaoU6V2QgAA1GZUpXZCAADGklSldkIAAJwWVaV2QgAA2l9VpXZCAABymlWldkIAAB6iVqV2QgAAThdXpXZCAADKqVeldkIAALzVV6V2QgAA+h5YpXZCAABGPFildkIAAJJZWKV2QgAAhIVYpXZCAAAcwFildkIAAGjdWKV2QgAADuxYpXZCAAC0+lildkIAAJhSWaV2QgAA5G9ZpXZCAAAiuVmldkIAAG7WWaV2QgAABhFapXZCAACeS1qldkIAADaGWqV2QgAANoZapXZCAAAoslqldkIAAGb7WqV2QgAA/jVbpXZCAACWcFuldkIAAO5/XaV2QgAAxANepXZCAABOal6ldkIAADLCXqV2QgAAft9epXZCAABGj1+ldkIAADi7X6V2QgAA8pZgpXZCAACscmGldkIAAGZOYqV2QgAAICpjpXZCAADaBWSldkIAADrwZKV2QgAAEHRlpXZCAAD0y2WldkIAAK6nZqV2QgAAhCtnpXZCAABog2eldkIAAHxQaKV2QgAAIl9opXZCAADcOmmldkIAAJYWaqV2QgAALlFqpXZCAACq42qldkIAAEIea6V2QgAAZL9rpXZCAADEqWyldkIAADJobaV2QgAAfoVtpXZCAAA4YW6ldkI=\",\"dtype\":\"float64\",\"order\":\"little\",\"shape\":[136]},\"y\":{\"__ndarray__\":\"AAAAAABAW0AAAAAAAEBbQAAAAAAAQFtAAAAAAABAW0AAAAAAAEBbQAAAAAAAQFtAAAAAAABAW0AAAAAAAEBbQAAAAAAAQFtAAAAAAABAW0AAAAAAAEBbQAAAAAAAQFtAAAAAAABAW0AAAAAAAEBbQAAAAAAAQFtAAAAAAABAW0AAAAAAAEBbQAAAAAAAQFtAAAAAAABAW0AAAAAAAEBbQAAAAAAAQFtAAAAAAABAW0AAAAAAAEBbQAAAAAAAQFtAAAAAAABAW0AAAAAAAEBbQAAAAAAAQFtAAAAAAABAW0AAAAAAAEBbQAAAAAAAQFtAAAAAAADAXkAAAAAAAMBeQAAAAAAAwF5AAAAAAADAY0AAAAAAAMBjQAAAAAAAwGNAAAAAAADAY0AAAAAAAMBjQAAAAAAAwGNAAAAAAADAY0AAAAAAAMBjQAAAAAAAwGNAAAAAAADAY0AAAAAAAMBjQAAAAAAAwGNAAAAAAADAY0AAAAAAAMBjQAAAAAAAwGNAAAAAAADAY0AAAAAAAGBhQAAAAAAAYGFAAAAAAABgYUAAAAAAAGBhQAAAAAAAYGFAAAAAAABgYUAAAAAAAGBhQAAAAAAAYGFAAAAAAABgYUAAAAAAAOBiQAAAAAAA4GJAAAAAAADgYkAAAAAAACBgQAAAAAAAIGBAAAAAAAAgZEAAAAAAAABnQAAAAAAAQGZAAAAAAABAZkAAAAAAAEBeQAAAAAAAwFtAAAAAAACAWkAAAAAAAMBWQAAAAAAAQFhAAAAAAACAWkAAAAAAAIBaQAAAAAAAQFhAAAAAAACAVUAAAAAAAIBVQAAAAAAAgFxAAAAAAACAXEAAAAAAACBgQAAAAAAAIGBAAAAAAACAXUAAAAAAAIBdQAAAAAAAwFxAAAAAAABAWkAAAAAAAEBbQAAAAAAAwFpAAAAAAADAW0AAAAAAAABeQAAAAAAAIGFAAAAAAADAYEAAAAAAAMBgQAAAAAAAIGBAAAAAAABAX0AAAAAAAIBeQAAAAAAAAF9AAAAAAAAAX0AAAAAAAMBfQAAAAAAAQF5AAAAAAADAXkAAAAAAAIBeQAAAAAAAgF5AAAAAAAAAX0AAAAAAAIBfQAAAAAAAAGBAAAAAAAAAYEAAAAAAAIBbQAAAAAAAgFtAAAAAAAAAYEAAAAAAAABdQAAAAAAAAF1AAAAAAACAWkAAAAAAAIBaQAAAAAAAgFpAAAAAAACAWkAAAAAAAIBaQAAAAAAAgFpAAAAAAACAWkAAAAAAAIBaQAAAAAAA4GJAAAAAAADgYkAAAAAAAOBiQAAAAAAAgF9AAAAAAACAX0AAAAAAAEBgQAAAAAAAQGBAAAAAAABAYEAAAAAAAEBgQAAAAAAAgFxAAAAAAACAXEAAAAAAAIBaQAAAAAAAgFpAAAAAAACAWkAAAAAAAMBbQAAAAAAAwFtAAAAAAADAW0A=\",\"dtype\":\"float64\",\"order\":\"little\",\"shape\":[136]}},\"selected\":{\"id\":\"10967\"},\"selection_policy\":{\"id\":\"10966\"}},\"id\":\"10953\",\"type\":\"ColumnDataSource\"},{\"attributes\":{},\"id\":\"10923\",\"type\":\"DataRange1d\"},{\"attributes\":{\"days\":[\"%d-%b-%Y\"],\"hours\":[\"%H:%M\"],\"seconds\":[\"%S\"]},\"id\":\"11113\",\"type\":\"DatetimeTickFormatter\"},{\"attributes\":{\"below\":[{\"id\":\"11061\"}],\"center\":[{\"id\":\"11064\"},{\"id\":\"11068\"},{\"id\":\"11111\"}],\"height\":400,\"left\":[{\"id\":\"11065\"}],\"renderers\":[{\"id\":\"11087\"}],\"sizing_mode\":\"fixed\",\"title\":{\"id\":\"11051\"},\"toolbar\":{\"id\":\"11076\"},\"toolbar_location\":null,\"width\":450,\"x_range\":{\"id\":\"11053\"},\"x_scale\":{\"id\":\"11057\"},\"y_range\":{\"id\":\"11055\"},\"y_scale\":{\"id\":\"11059\"}},\"id\":\"11050\",\"subtype\":\"Figure\",\"type\":\"Plot\"},{\"attributes\":{\"line_color\":\"pink\",\"line_width\":2,\"x\":{\"field\":\"x\"},\"y\":{\"field\":\"y\"}},\"id\":\"11019\",\"type\":\"Line\"},{\"attributes\":{\"bottom_units\":\"screen\",\"coordinates\":null,\"fill_alpha\":0.5,\"fill_color\":\"lightgrey\",\"group\":null,\"left_units\":\"screen\",\"level\":\"overlay\",\"line_alpha\":1.0,\"line_color\":\"black\",\"line_dash\":[4,4],\"line_width\":2,\"right_units\":\"screen\",\"syncable\":false,\"top_units\":\"screen\"},\"id\":\"10945\",\"type\":\"BoxAnnotation\"},{\"attributes\":{\"source\":{\"id\":\"10953\"}},\"id\":\"10958\",\"type\":\"CDSView\"},{\"attributes\":{\"line_color\":\"orange\",\"line_width\":2,\"x\":{\"field\":\"x\"},\"y\":{\"field\":\"y\"}},\"id\":\"10954\",\"type\":\"Line\"},{\"attributes\":{\"coordinates\":null,\"group\":null,\"items\":[{\"id\":\"10982\"}]},\"id\":\"10981\",\"type\":\"Legend\"},{\"attributes\":{\"below\":[{\"id\":\"10931\"}],\"center\":[{\"id\":\"10934\"},{\"id\":\"10938\"},{\"id\":\"10981\"}],\"height\":400,\"left\":[{\"id\":\"10935\"}],\"renderers\":[{\"id\":\"10957\"}],\"sizing_mode\":\"fixed\",\"title\":{\"id\":\"10921\"},\"toolbar\":{\"id\":\"10946\"},\"toolbar_location\":null,\"width\":450,\"x_range\":{\"id\":\"10923\"},\"x_scale\":{\"id\":\"10927\"},\"y_range\":{\"id\":\"10925\"},\"y_scale\":{\"id\":\"10929\"}},\"id\":\"10920\",\"subtype\":\"Figure\",\"type\":\"Plot\"},{\"attributes\":{\"coordinates\":null,\"data_source\":{\"id\":\"10953\"},\"glyph\":{\"id\":\"10954\"},\"group\":null,\"hover_glyph\":null,\"muted_glyph\":{\"id\":\"10956\"},\"nonselection_glyph\":{\"id\":\"10955\"},\"view\":{\"id\":\"10958\"}},\"id\":\"10957\",\"type\":\"GlyphRenderer\"},{\"attributes\":{},\"id\":\"10943\",\"type\":\"ResetTool\"},{\"attributes\":{},\"id\":\"10942\",\"type\":\"SaveTool\"},{\"attributes\":{\"overlay\":{\"id\":\"10945\"}},\"id\":\"10941\",\"type\":\"BoxZoomTool\"},{\"attributes\":{\"below\":[{\"id\":\"10996\"}],\"center\":[{\"id\":\"10999\"},{\"id\":\"11003\"},{\"id\":\"11046\"}],\"height\":400,\"left\":[{\"id\":\"11000\"}],\"renderers\":[{\"id\":\"11022\"}],\"sizing_mode\":\"fixed\",\"title\":{\"id\":\"10986\"},\"toolbar\":{\"id\":\"11011\"},\"toolbar_location\":null,\"width\":450,\"x_range\":{\"id\":\"10988\"},\"x_scale\":{\"id\":\"10992\"},\"y_range\":{\"id\":\"10990\"},\"y_scale\":{\"id\":\"10994\"}},\"id\":\"10985\",\"subtype\":\"Figure\",\"type\":\"Plot\"},{\"attributes\":{},\"id\":\"10939\",\"type\":\"PanTool\"},{\"attributes\":{},\"id\":\"10944\",\"type\":\"HelpTool\"},{\"attributes\":{},\"id\":\"10936\",\"type\":\"BasicTicker\"},{\"attributes\":{\"axis\":{\"id\":\"10935\"},\"coordinates\":null,\"dimension\":1,\"group\":null,\"ticker\":null},\"id\":\"10938\",\"type\":\"Grid\"},{\"attributes\":{\"toolbar\":{\"id\":\"11182\"},\"toolbar_location\":\"above\"},\"id\":\"11183\",\"type\":\"ToolbarBox\"},{\"attributes\":{\"line_alpha\":0.2,\"line_color\":\"orange\",\"line_width\":2,\"x\":{\"field\":\"x\"},\"y\":{\"field\":\"y\"}},\"id\":\"10956\",\"type\":\"Line\"}],\"root_ids\":[\"11184\"]},\"title\":\"Bokeh Application\",\"version\":\"2.4.1\"}};\n  const render_items = [{\"docid\":\"c3ec69a7-5440-4b2d-a7a2-f66cfff11fc5\",\"root_ids\":[\"11184\"],\"roots\":{\"11184\":\"32841349-64fd-44eb-8fb5-2ac29f379c31\"}}];\n  root.Bokeh.embed.embed_items_notebook(docs_json, render_items);\n\n  }\n  if (root.Bokeh !== undefined) {\n    embed_document(root);\n  } else {\n    let attempts = 0;\n    const timer = setInterval(function(root) {\n      if (root.Bokeh !== undefined) {\n        clearInterval(timer);\n        embed_document(root);\n      } else {\n        attempts++;\n        if (attempts > 100) {\n          clearInterval(timer);\n          console.log(\"Bokeh: ERROR: Unable to run BokehJS code because BokehJS library is missing\");\n        }\n      }\n    }, 10, root)\n  }\n})(window);",
      "application/vnd.bokehjs_exec.v0+json": ""
     },
     "metadata": {
      "application/vnd.bokehjs_exec.v0+json": {
       "id": "11184"
      }
     },
     "output_type": "display_data"
    },
    {
     "data": {
      "text/html": [
       "<div>\n",
       "<style scoped>\n",
       "    .dataframe tbody tr th:only-of-type {\n",
       "        vertical-align: middle;\n",
       "    }\n",
       "\n",
       "    .dataframe tbody tr th {\n",
       "        vertical-align: top;\n",
       "    }\n",
       "\n",
       "    .dataframe thead th {\n",
       "        text-align: right;\n",
       "    }\n",
       "</style>\n",
       "<table border=\"1\" class=\"dataframe\">\n",
       "  <thead>\n",
       "    <tr style=\"text-align: right;\">\n",
       "      <th></th>\n",
       "      <th>ID</th>\n",
       "      <th>recordtype</th>\n",
       "      <th>glucose</th>\n",
       "      <th>interpolated</th>\n",
       "    </tr>\n",
       "    <tr>\n",
       "      <th>time</th>\n",
       "      <th></th>\n",
       "      <th></th>\n",
       "      <th></th>\n",
       "      <th></th>\n",
       "    </tr>\n",
       "  </thead>\n",
       "  <tbody>\n",
       "    <tr>\n",
       "      <th>2019-04-25 00:08:00</th>\n",
       "      <td>NaN</td>\n",
       "      <td>NaN</td>\n",
       "      <td>NaN</td>\n",
       "      <td>NaN</td>\n",
       "    </tr>\n",
       "    <tr>\n",
       "      <th>2019-04-25 00:14:00</th>\n",
       "      <td>NaN</td>\n",
       "      <td>NaN</td>\n",
       "      <td>NaN</td>\n",
       "      <td>NaN</td>\n",
       "    </tr>\n",
       "    <tr>\n",
       "      <th>2019-04-25 00:29:00</th>\n",
       "      <td>-2.767012e+19</td>\n",
       "      <td>1.0</td>\n",
       "      <td>NaN</td>\n",
       "      <td>299.811120</td>\n",
       "    </tr>\n",
       "    <tr>\n",
       "      <th>2019-04-25 00:44:00</th>\n",
       "      <td>-2.767012e+19</td>\n",
       "      <td>1.0</td>\n",
       "      <td>NaN</td>\n",
       "      <td>212.330141</td>\n",
       "    </tr>\n",
       "    <tr>\n",
       "      <th>2019-04-25 00:50:00</th>\n",
       "      <td>-2.767012e+19</td>\n",
       "      <td>1.0</td>\n",
       "      <td>NaN</td>\n",
       "      <td>122.441302</td>\n",
       "    </tr>\n",
       "    <tr>\n",
       "      <th>...</th>\n",
       "      <td>...</td>\n",
       "      <td>...</td>\n",
       "      <td>...</td>\n",
       "      <td>...</td>\n",
       "    </tr>\n",
       "    <tr>\n",
       "      <th>2019-04-25 23:02:00</th>\n",
       "      <td>-2.767012e+19</td>\n",
       "      <td>1.0</td>\n",
       "      <td>NaN</td>\n",
       "      <td>398.446134</td>\n",
       "    </tr>\n",
       "    <tr>\n",
       "      <th>2019-04-25 23:18:00</th>\n",
       "      <td>-1.844674e+19</td>\n",
       "      <td>2.0</td>\n",
       "      <td>NaN</td>\n",
       "      <td>396.852365</td>\n",
       "    </tr>\n",
       "    <tr>\n",
       "      <th>2019-04-25 23:31:00</th>\n",
       "      <td>-2.767012e+19</td>\n",
       "      <td>1.0</td>\n",
       "      <td>NaN</td>\n",
       "      <td>406.728452</td>\n",
       "    </tr>\n",
       "    <tr>\n",
       "      <th>2019-04-25 23:33:00</th>\n",
       "      <td>-2.767012e+19</td>\n",
       "      <td>1.0</td>\n",
       "      <td>NaN</td>\n",
       "      <td>483.412901</td>\n",
       "    </tr>\n",
       "    <tr>\n",
       "      <th>2019-04-25 23:48:00</th>\n",
       "      <td>NaN</td>\n",
       "      <td>NaN</td>\n",
       "      <td>NaN</td>\n",
       "      <td>NaN</td>\n",
       "    </tr>\n",
       "  </tbody>\n",
       "</table>\n",
       "<p>136 rows × 4 columns</p>\n",
       "</div>"
      ],
      "text/plain": [
       "                               ID  recordtype  glucose  interpolated\n",
       "time                                                                \n",
       "2019-04-25 00:08:00           NaN         NaN      NaN           NaN\n",
       "2019-04-25 00:14:00           NaN         NaN      NaN           NaN\n",
       "2019-04-25 00:29:00 -2.767012e+19         1.0      NaN    299.811120\n",
       "2019-04-25 00:44:00 -2.767012e+19         1.0      NaN    212.330141\n",
       "2019-04-25 00:50:00 -2.767012e+19         1.0      NaN    122.441302\n",
       "...                           ...         ...      ...           ...\n",
       "2019-04-25 23:02:00 -2.767012e+19         1.0      NaN    398.446134\n",
       "2019-04-25 23:18:00 -1.844674e+19         2.0      NaN    396.852365\n",
       "2019-04-25 23:31:00 -2.767012e+19         1.0      NaN    406.728452\n",
       "2019-04-25 23:33:00 -2.767012e+19         1.0      NaN    483.412901\n",
       "2019-04-25 23:48:00           NaN         NaN      NaN           NaN\n",
       "\n",
       "[136 rows x 4 columns]"
      ]
     },
     "execution_count": 39,
     "metadata": {},
     "output_type": "execute_result"
    }
   ],
   "source": [
    "#CODE YOUR SOLUTION HERE\n",
    "def show_fig(ColumnDataSource,method_name,color):\n",
    "    source=ColumnDataSource.copy()\n",
    "    source['interpolated'].interpolate(method=method_name,limit_direction='forward', inplace=True)\n",
    "    fig=figure(title=\"plot for interpolated with \"+method_name+\" method\",x_axis_label='time',y_axis_label='interpolated data',x_axis_type='datetime',\\\n",
    "    plot_width = 300, plot_height = 300)\n",
    "    fig.line(x=source.index,y=source['interpolated'], legend=\"glucose.\", line_width=2,color=color)\n",
    "    fig.xaxis.formatter = DatetimeTickFormatter(days=\"%d-%b-%Y\", hours=\"%H:%M\", seconds=\"%S\" )\n",
    "    return fig\n",
    "fig1=show_fig(df1,'pad','orange')\n",
    "fig2=show_fig(df1,'time','pink')\n",
    "fig3=show_fig(df1,'linear','green')\n",
    "grid = gridplot(children = [[fig1,fig2,fig3]],sizing_mode='fixed',plot_width=450, plot_height=400)\n",
    "show(grid)\n",
    "df.rolling(4,center=True).sum()\n",
    "\n",
    "\n",
    "    \n",
    "\n"
   ]
  }
 ],
 "metadata": {
  "kernelspec": {
   "display_name": "Python 3",
   "language": "python",
   "name": "python3"
  },
  "language_info": {
   "codemirror_mode": {
    "name": "ipython",
    "version": 3
   },
   "file_extension": ".py",
   "mimetype": "text/x-python",
   "name": "python",
   "nbconvert_exporter": "python",
   "pygments_lexer": "ipython3",
   "version": "3.9.7"
  }
 },
 "nbformat": 4,
 "nbformat_minor": 4
}
