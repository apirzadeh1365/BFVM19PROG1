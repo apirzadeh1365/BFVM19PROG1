{
 "cells": [
  {
   "cell_type": "markdown",
   "metadata": {},
   "source": [
    "## Assignment week 05: Sleeping habits\n",
    "\n",
    "Welcome to **week five** of this course programming 1. You will learn about analysing data with pandas and numpy and you will learn to visualize with bokeh. Concretely, you will preprocess the Sleep Study data in an appropiate format in order to conduct statistical and visual analysis. Learning outcomes:\n",
    "\n",
    "\n",
    "## About the data\n",
    "\n",
    "The data is collected from a survey-based study of the sleeping habits of individuals within the US. \n",
    "\n",
    "Below is a description of each of the variables contained within the dataset.\n",
    "\n",
    "- Enough = Do you think that you get enough sleep?\n",
    "- Hours = On average, how many hours of sleep do you get on a weeknight?\n",
    "- PhoneReach = Do you sleep with your phone within arms reach?\n",
    "- PhoneTime = Do you use your phone within 30 minutes of falling asleep?\n",
    "- Tired = On a scale from 1 to 5, how tired are you throughout the day? (1 being not tired, 5 being very tired)\n",
    "- Breakfast = Do you typically eat breakfast?\n",
    "\n",
    "The two research questions you should answer in this assignment are:\n",
    "1. Is there a differences in Hours sleep caused by having breakfast (yes, no)?\n",
    "2. Is there a differences in Hours sleep caused by having breakfast and the tireness (score)\n",
    "\n",
    "\n",
    "The assignment consists of 6 parts:\n",
    "\n",
    "- [part 1: load the data](#0)\n",
    "- [part 2: data inspection](#1)\n",
    "- [part 3: check assumptions](#2)\n",
    "   - [check normality 3.1](#ex-31)\n",
    "   - [check equal variance 3.2](#ex-32)\n",
    "- [part 4: prepare the data](#3)\n",
    "- [part 5: answer the research question](#4)\n",
    "- [part 6: enhanced plotting](#5)\n",
    "\n",
    "Part 1 till 5 are mandatory, part 6 is optional (bonus)\n",
    "To pass the assingnment you need to a score of 60%. \n",
    "\n",
    "\n",
    "**NOTE If your project data is suitable you can use that data instead of the given data**"
   ]
  },
  {
   "cell_type": "markdown",
   "metadata": {},
   "source": [
    "## ANOVA\n",
    "\n",
    "Analysis of variance (ANOVA) compares the variances between groups versus within groups. It basically determines whether the differences between groups is larger than the differences within a group (the noise). \n",
    "A graph picturing this is as follow: https://link.springer.com/article/10.1007/s00424-019-02300-4/figures/2\n",
    "\n",
    "\n",
    "In ANOVA, the dependent variable must be a continuous (interval or ratio) level of measurement. For instance Glucose level. The independent variables in ANOVA must be categorical (nominal or ordinal) variables. For instance trial category, time of day (AM versus PM) or time of trial (different categories). Like the t-test, ANOVA is also a parametric test and has some assumptions. ANOVA assumes that the data is normally distributed.  The ANOVA also assumes homogeneity of variance, which means that the variance among the groups should be approximately equal. ANOVA also assumes that the observations are independent of each other. \n",
    "\n",
    "A one-way ANOVA has just one independent variable. A two-way ANOVA (are also called factorial ANOVA) refers to an ANOVA using two independent variables. For research question 1 we can use the one-way ANOVA, for research question two we can use two-way ANOVA. But first we need to check the assumptions. \n"
   ]
  },
  {
   "cell_type": "markdown",
   "metadata": {},
   "source": [
    "---"
   ]
  },
  {
   "cell_type": "markdown",
   "metadata": {},
   "source": [
    "<a name='0'></a>\n",
    "## Part 1: Load the data (10 pt)\n",
    "\n",
    "load the `sleep.csv` data. Get yourself familiar with the data. Answer the following questions.\n",
    "\n",
    "1. What is the percentage missing data?\n",
    "2. Considering the research question, what is the dependent variable and what are the indepent variables? Are they of the correct datatype? "
   ]
  },
  {
   "cell_type": "code",
   "execution_count": 42,
   "metadata": {},
   "outputs": [
    {
     "name": "stdout",
     "output_type": "stream",
     "text": [
      "    Enough  Hours PhoneReach PhoneTime  Tired Breakfast\n",
      "0      Yes    8.0        Yes       Yes      3       Yes\n",
      "1       No    6.0        Yes       Yes      3        No\n",
      "2      Yes    6.0        Yes       Yes      2       Yes\n",
      "3       No    7.0        Yes       Yes      4        No\n",
      "4       No    7.0        Yes       Yes      2       Yes\n",
      "..     ...    ...        ...       ...    ...       ...\n",
      "99      No    7.0        Yes       Yes      2       Yes\n",
      "100     No    7.0         No       Yes      3       Yes\n",
      "101    Yes    8.0        Yes       Yes      3       Yes\n",
      "102    Yes    7.0        Yes       Yes      2       Yes\n",
      "103    Yes    6.0        Yes       Yes      3       Yes\n",
      "\n",
      "[104 rows x 6 columns]\n",
      "Enough        0.000000\n",
      "Hours         1.923077\n",
      "PhoneReach    0.000000\n",
      "PhoneTime     0.000000\n",
      "Tired         0.000000\n",
      "Breakfast     0.000000\n",
      "dtype: float64\n",
      "the percentage of missing value of Hours is:  1.9230769230769231\n"
     ]
    }
   ],
   "source": [
    "#code printing percentage missing data\n",
    "import pandas as pd\n",
    "import numpy as np\n",
    "df=pd.read_csv('D:\\programming1\\BFVM19PROG1\\data\\sleep.csv')\n",
    "percent_missing = df.isnull().sum() * 100 / len(df)\n",
    "print(df)\n",
    "print(percent_missing)\n",
    "print('the percentage of missing value of Hours is: ', percent_missing['Hours'])"
   ]
  },
  {
   "cell_type": "code",
   "execution_count": 43,
   "metadata": {},
   "outputs": [
    {
     "name": "stdout",
     "output_type": "stream",
     "text": [
      "Tiredness and Breakfast are independent\n",
      "Hours of sleep is dependent\n"
     ]
    }
   ],
   "source": [
    "#code printing answer dependent and independent variables\n",
    "print('Tiredness and Breakfast are independent')\n",
    "print('Hours of sleep is dependent')"
   ]
  },
  {
   "cell_type": "code",
   "execution_count": 44,
   "metadata": {},
   "outputs": [
    {
     "name": "stdout",
     "output_type": "stream",
     "text": [
      "Enough         object\n",
      "Hours         float64\n",
      "PhoneReach     object\n",
      "PhoneTime      object\n",
      "Tired           int64\n",
      "Breakfast      object\n",
      "dtype: object\n",
      "    Enough  Hours PhoneReach PhoneTime  Tired Breakfast\n",
      "0      Yes    8.0        Yes       Yes      3       Yes\n",
      "1       No    6.0        Yes       Yes      3        No\n",
      "2      Yes    6.0        Yes       Yes      2       Yes\n",
      "3       No    7.0        Yes       Yes      4        No\n",
      "4       No    7.0        Yes       Yes      2       Yes\n",
      "..     ...    ...        ...       ...    ...       ...\n",
      "99      No    7.0        Yes       Yes      2       Yes\n",
      "100     No    7.0         No       Yes      3       Yes\n",
      "101    Yes    8.0        Yes       Yes      3       Yes\n",
      "102    Yes    7.0        Yes       Yes      2       Yes\n",
      "103    Yes    6.0        Yes       Yes      3       Yes\n",
      "\n",
      "[102 rows x 6 columns]\n",
      "Enough          object\n",
      "Hours            int64\n",
      "PhoneReach      object\n",
      "PhoneTime       object\n",
      "Tired         category\n",
      "Breakfast     category\n",
      "dtype: object\n"
     ]
    }
   ],
   "source": [
    "#code printing answer about datatypesp\n",
    "print(df.dtypes)\n",
    "df=df.dropna()\n",
    "print(df)\n",
    "df_heatmap=df.copy()\n",
    "df_anova=df.copy()\n",
    "df=df.astype({'Hours':'int64','Breakfast':\"category\",'Tired':\"category\"})\n",
    "#\n",
    "print(df.dtypes)"
   ]
  },
  {
   "cell_type": "markdown",
   "metadata": {},
   "source": [
    "---"
   ]
  },
  {
   "cell_type": "markdown",
   "metadata": {},
   "source": [
    "<a name='1'></a>\n",
    "## Part 2: Inspect the data (30 pt)\n",
    "\n",
    "Inspect the data practically. Get an idea about how well the variable categories are ballanced. Are the values of a variable equally divided? What is the mean value of the dependent variable? Are there correlations amongs the variables?\n"
   ]
  },
  {
   "cell_type": "markdown",
   "metadata": {},
   "source": [
    "<ul>\n",
    "<li>Create some meaninful overviews such as variable value counts</li>\n",
    "<li>Create a scatter plot ploting the relation between being tired and hours of sleep with different colors for Breakfast</li>\n",
    "    <li>Print some basic statistics about the target (mean, standard deviation)</li>\n",
    "    <li>Create a heatmap to check for correlations among variables. </li>\n",
    "\n",
    "<details>    \n",
    "<summary>\n",
    "    <font size=\"3\" color=\"darkgreen\"><b>Hints</b></font>\n",
    "</summary>\n",
    "    <ul><li>the gitbook has a bokeh heatmap example</li></ul>\n",
    "</details>\n",
    "</ul>"
   ]
  },
  {
   "cell_type": "code",
   "execution_count": 45,
   "metadata": {},
   "outputs": [
    {
     "name": "stdout",
     "output_type": "stream",
     "text": [
      "hours \n",
      " 2      2\n",
      "4      4\n",
      "5     12\n",
      "6     24\n",
      "7     35\n",
      "8     16\n",
      "9      8\n",
      "10     1\n",
      "Name: Hours, dtype: int64\n",
      "Tired \n",
      " 1     4\n",
      "2    26\n",
      "3    39\n",
      "4    23\n",
      "5    10\n",
      "Name: Tired, dtype: int64\n",
      "Breakfast \n",
      " Yes    61\n",
      "No     41\n",
      "Name: Breakfast, dtype: int64\n"
     ]
    }
   ],
   "source": [
    "#code your answer to the value counts and distribution plots here\n",
    "print('hours','\\n',df['Hours'].value_counts().sort_index())\n",
    "print('Tired','\\n',df['Tired'].value_counts().sort_index())\n",
    "print('Breakfast','\\n',df['Breakfast'].value_counts())"
   ]
  },
  {
   "cell_type": "code",
   "execution_count": 46,
   "metadata": {},
   "outputs": [
    {
     "data": {
      "text/html": [
       "\n",
       "    <div class=\"bk-root\">\n",
       "        <a href=\"https://bokeh.org\" target=\"_blank\" class=\"bk-logo bk-logo-small bk-logo-notebook\"></a>\n",
       "        <span id=\"1640\">Loading BokehJS ...</span>\n",
       "    </div>"
      ]
     },
     "metadata": {},
     "output_type": "display_data"
    },
    {
     "data": {
      "application/javascript": "\n(function(root) {\n  function now() {\n    return new Date();\n  }\n\n  const force = true;\n\n  if (typeof root._bokeh_onload_callbacks === \"undefined\" || force === true) {\n    root._bokeh_onload_callbacks = [];\n    root._bokeh_is_loading = undefined;\n  }\n\n  const JS_MIME_TYPE = 'application/javascript';\n  const HTML_MIME_TYPE = 'text/html';\n  const EXEC_MIME_TYPE = 'application/vnd.bokehjs_exec.v0+json';\n  const CLASS_NAME = 'output_bokeh rendered_html';\n\n  /**\n   * Render data to the DOM node\n   */\n  function render(props, node) {\n    const script = document.createElement(\"script\");\n    node.appendChild(script);\n  }\n\n  /**\n   * Handle when an output is cleared or removed\n   */\n  function handleClearOutput(event, handle) {\n    const cell = handle.cell;\n\n    const id = cell.output_area._bokeh_element_id;\n    const server_id = cell.output_area._bokeh_server_id;\n    // Clean up Bokeh references\n    if (id != null && id in Bokeh.index) {\n      Bokeh.index[id].model.document.clear();\n      delete Bokeh.index[id];\n    }\n\n    if (server_id !== undefined) {\n      // Clean up Bokeh references\n      const cmd_clean = \"from bokeh.io.state import curstate; print(curstate().uuid_to_server['\" + server_id + \"'].get_sessions()[0].document.roots[0]._id)\";\n      cell.notebook.kernel.execute(cmd_clean, {\n        iopub: {\n          output: function(msg) {\n            const id = msg.content.text.trim();\n            if (id in Bokeh.index) {\n              Bokeh.index[id].model.document.clear();\n              delete Bokeh.index[id];\n            }\n          }\n        }\n      });\n      // Destroy server and session\n      const cmd_destroy = \"import bokeh.io.notebook as ion; ion.destroy_server('\" + server_id + \"')\";\n      cell.notebook.kernel.execute(cmd_destroy);\n    }\n  }\n\n  /**\n   * Handle when a new output is added\n   */\n  function handleAddOutput(event, handle) {\n    const output_area = handle.output_area;\n    const output = handle.output;\n\n    // limit handleAddOutput to display_data with EXEC_MIME_TYPE content only\n    if ((output.output_type != \"display_data\") || (!Object.prototype.hasOwnProperty.call(output.data, EXEC_MIME_TYPE))) {\n      return\n    }\n\n    const toinsert = output_area.element.find(\".\" + CLASS_NAME.split(' ')[0]);\n\n    if (output.metadata[EXEC_MIME_TYPE][\"id\"] !== undefined) {\n      toinsert[toinsert.length - 1].firstChild.textContent = output.data[JS_MIME_TYPE];\n      // store reference to embed id on output_area\n      output_area._bokeh_element_id = output.metadata[EXEC_MIME_TYPE][\"id\"];\n    }\n    if (output.metadata[EXEC_MIME_TYPE][\"server_id\"] !== undefined) {\n      const bk_div = document.createElement(\"div\");\n      bk_div.innerHTML = output.data[HTML_MIME_TYPE];\n      const script_attrs = bk_div.children[0].attributes;\n      for (let i = 0; i < script_attrs.length; i++) {\n        toinsert[toinsert.length - 1].firstChild.setAttribute(script_attrs[i].name, script_attrs[i].value);\n        toinsert[toinsert.length - 1].firstChild.textContent = bk_div.children[0].textContent\n      }\n      // store reference to server id on output_area\n      output_area._bokeh_server_id = output.metadata[EXEC_MIME_TYPE][\"server_id\"];\n    }\n  }\n\n  function register_renderer(events, OutputArea) {\n\n    function append_mime(data, metadata, element) {\n      // create a DOM node to render to\n      const toinsert = this.create_output_subarea(\n        metadata,\n        CLASS_NAME,\n        EXEC_MIME_TYPE\n      );\n      this.keyboard_manager.register_events(toinsert);\n      // Render to node\n      const props = {data: data, metadata: metadata[EXEC_MIME_TYPE]};\n      render(props, toinsert[toinsert.length - 1]);\n      element.append(toinsert);\n      return toinsert\n    }\n\n    /* Handle when an output is cleared or removed */\n    events.on('clear_output.CodeCell', handleClearOutput);\n    events.on('delete.Cell', handleClearOutput);\n\n    /* Handle when a new output is added */\n    events.on('output_added.OutputArea', handleAddOutput);\n\n    /**\n     * Register the mime type and append_mime function with output_area\n     */\n    OutputArea.prototype.register_mime_type(EXEC_MIME_TYPE, append_mime, {\n      /* Is output safe? */\n      safe: true,\n      /* Index of renderer in `output_area.display_order` */\n      index: 0\n    });\n  }\n\n  // register the mime type if in Jupyter Notebook environment and previously unregistered\n  if (root.Jupyter !== undefined) {\n    const events = require('base/js/events');\n    const OutputArea = require('notebook/js/outputarea').OutputArea;\n\n    if (OutputArea.prototype.mime_types().indexOf(EXEC_MIME_TYPE) == -1) {\n      register_renderer(events, OutputArea);\n    }\n  }\n\n  \n  if (typeof (root._bokeh_timeout) === \"undefined\" || force === true) {\n    root._bokeh_timeout = Date.now() + 5000;\n    root._bokeh_failed_load = false;\n  }\n\n  const NB_LOAD_WARNING = {'data': {'text/html':\n     \"<div style='background-color: #fdd'>\\n\"+\n     \"<p>\\n\"+\n     \"BokehJS does not appear to have successfully loaded. If loading BokehJS from CDN, this \\n\"+\n     \"may be due to a slow or bad network connection. Possible fixes:\\n\"+\n     \"</p>\\n\"+\n     \"<ul>\\n\"+\n     \"<li>re-rerun `output_notebook()` to attempt to load from CDN again, or</li>\\n\"+\n     \"<li>use INLINE resources instead, as so:</li>\\n\"+\n     \"</ul>\\n\"+\n     \"<code>\\n\"+\n     \"from bokeh.resources import INLINE\\n\"+\n     \"output_notebook(resources=INLINE)\\n\"+\n     \"</code>\\n\"+\n     \"</div>\"}};\n\n  function display_loaded() {\n    const el = document.getElementById(\"1640\");\n    if (el != null) {\n      el.textContent = \"BokehJS is loading...\";\n    }\n    if (root.Bokeh !== undefined) {\n      if (el != null) {\n        el.textContent = \"BokehJS \" + root.Bokeh.version + \" successfully loaded.\";\n      }\n    } else if (Date.now() < root._bokeh_timeout) {\n      setTimeout(display_loaded, 100)\n    }\n  }\n\n\n  function run_callbacks() {\n    try {\n      root._bokeh_onload_callbacks.forEach(function(callback) {\n        if (callback != null)\n          callback();\n      });\n    } finally {\n      delete root._bokeh_onload_callbacks\n    }\n    console.debug(\"Bokeh: all callbacks have finished\");\n  }\n\n  function load_libs(css_urls, js_urls, callback) {\n    if (css_urls == null) css_urls = [];\n    if (js_urls == null) js_urls = [];\n\n    root._bokeh_onload_callbacks.push(callback);\n    if (root._bokeh_is_loading > 0) {\n      console.debug(\"Bokeh: BokehJS is being loaded, scheduling callback at\", now());\n      return null;\n    }\n    if (js_urls == null || js_urls.length === 0) {\n      run_callbacks();\n      return null;\n    }\n    console.debug(\"Bokeh: BokehJS not loaded, scheduling load and callback at\", now());\n    root._bokeh_is_loading = css_urls.length + js_urls.length;\n\n    function on_load() {\n      root._bokeh_is_loading--;\n      if (root._bokeh_is_loading === 0) {\n        console.debug(\"Bokeh: all BokehJS libraries/stylesheets loaded\");\n        run_callbacks()\n      }\n    }\n\n    function on_error(url) {\n      console.error(\"failed to load \" + url);\n    }\n\n    for (let i = 0; i < css_urls.length; i++) {\n      const url = css_urls[i];\n      const element = document.createElement(\"link\");\n      element.onload = on_load;\n      element.onerror = on_error.bind(null, url);\n      element.rel = \"stylesheet\";\n      element.type = \"text/css\";\n      element.href = url;\n      console.debug(\"Bokeh: injecting link tag for BokehJS stylesheet: \", url);\n      document.body.appendChild(element);\n    }\n\n    for (let i = 0; i < js_urls.length; i++) {\n      const url = js_urls[i];\n      const element = document.createElement('script');\n      element.onload = on_load;\n      element.onerror = on_error.bind(null, url);\n      element.async = false;\n      element.src = url;\n      console.debug(\"Bokeh: injecting script tag for BokehJS library: \", url);\n      document.head.appendChild(element);\n    }\n  };\n\n  function inject_raw_css(css) {\n    const element = document.createElement(\"style\");\n    element.appendChild(document.createTextNode(css));\n    document.body.appendChild(element);\n  }\n\n  \n  const js_urls = [\"https://cdn.bokeh.org/bokeh/release/bokeh-2.4.1.min.js\", \"https://cdn.bokeh.org/bokeh/release/bokeh-gl-2.4.1.min.js\", \"https://cdn.bokeh.org/bokeh/release/bokeh-widgets-2.4.1.min.js\", \"https://cdn.bokeh.org/bokeh/release/bokeh-tables-2.4.1.min.js\", \"https://cdn.bokeh.org/bokeh/release/bokeh-mathjax-2.4.1.min.js\"];\n  const css_urls = [];\n  \n\n  const inline_js = [\n    function(Bokeh) {\n      Bokeh.set_log_level(\"info\");\n    },\n    function(Bokeh) {\n    \n    \n    }\n  ];\n\n  function run_inline_js() {\n    \n    if (root.Bokeh !== undefined || force === true) {\n      \n    for (let i = 0; i < inline_js.length; i++) {\n      inline_js[i].call(root, root.Bokeh);\n    }\n    if (force === true) {\n        display_loaded();\n      }} else if (Date.now() < root._bokeh_timeout) {\n      setTimeout(run_inline_js, 100);\n    } else if (!root._bokeh_failed_load) {\n      console.log(\"Bokeh: BokehJS failed to load within specified timeout.\");\n      root._bokeh_failed_load = true;\n    } else if (force !== true) {\n      const cell = $(document.getElementById(\"1640\")).parents('.cell').data().cell;\n      cell.output_area.append_execute_result(NB_LOAD_WARNING)\n    }\n\n  }\n\n  if (root._bokeh_is_loading === 0) {\n    console.debug(\"Bokeh: BokehJS loaded, going straight to plotting\");\n    run_inline_js();\n  } else {\n    load_libs(css_urls, js_urls, function() {\n      console.debug(\"Bokeh: BokehJS plotting callback run at\", now());\n      run_inline_js();\n    });\n  }\n}(window));",
      "application/vnd.bokehjs_load.v0+json": ""
     },
     "metadata": {},
     "output_type": "display_data"
    },
    {
     "data": {
      "text/plain": [
       "Text(0.5, 1.0, 'Histogram of Sleep Hours')"
      ]
     },
     "execution_count": 46,
     "metadata": {},
     "output_type": "execute_result"
    },
    {
     "data": {
      "image/png": "[encoded data removed]",
      "text/plain": [
       "<Figure size 432x288 with 1 Axes>"
      ]
     },
     "metadata": {},
     "output_type": "display_data"
    }
   ],
   "source": [
    "import matplotlib.pyplot as plt\n",
    "from bokeh.plotting import figure , show , output_notebook\n",
    "output_notebook()\n",
    "\n",
    "plt.hist(df['Hours'], bins=9, alpha=1, color='b',edgecolor='black',align='mid')\n",
    "plt.title('Histogram of Sleep Hours')"
   ]
  },
  {
   "cell_type": "code",
   "execution_count": 47,
   "metadata": {},
   "outputs": [
    {
     "data": {
      "text/plain": [
       "Text(0.5, 1.0, 'Histogram of Tired degree')"
      ]
     },
     "execution_count": 47,
     "metadata": {},
     "output_type": "execute_result"
    },
    {
     "data": {
      "image/png": "[encoded data removed]",
      "text/plain": [
       "<Figure size 432x288 with 1 Axes>"
      ]
     },
     "metadata": {},
     "output_type": "display_data"
    }
   ],
   "source": [
    "plt.hist(df['Tired'], bins=range(1,7), alpha=1, color='y',edgecolor='black',align='mid')\n",
    "plt.title('Histogram of Tired degree')"
   ]
  },
  {
   "cell_type": "code",
   "execution_count": 48,
   "metadata": {},
   "outputs": [
    {
     "data": {
      "text/plain": [
       "Text(0.5, 1.0, 'Histogram of Brekfast')"
      ]
     },
     "execution_count": 48,
     "metadata": {},
     "output_type": "execute_result"
    },
    {
     "data": {
      "image/png": "[encoded data removed]",
      "text/plain": [
       "<Figure size 432x288 with 1 Axes>"
      ]
     },
     "metadata": {},
     "output_type": "display_data"
    }
   ],
   "source": [
    "plt.hist(df['Breakfast'], bins=2, alpha=0.8, color='r',edgecolor='black',align='mid')\n",
    "plt.title('Histogram of Brekfast')"
   ]
  },
  {
   "cell_type": "markdown",
   "metadata": {},
   "source": [
    "plt.hist(df['Tired'], bins=15, density=True, alpha=1, color='y')\n"
   ]
  },
  {
   "cell_type": "code",
   "execution_count": 49,
   "metadata": {},
   "outputs": [
    {
     "data": {
      "text/html": [
       "\n",
       "    <div class=\"bk-root\">\n",
       "        <a href=\"https://bokeh.org\" target=\"_blank\" class=\"bk-logo bk-logo-small bk-logo-notebook\"></a>\n",
       "        <span id=\"1641\">Loading BokehJS ...</span>\n",
       "    </div>"
      ]
     },
     "metadata": {},
     "output_type": "display_data"
    },
    {
     "data": {
      "application/javascript": "\n(function(root) {\n  function now() {\n    return new Date();\n  }\n\n  const force = true;\n\n  if (typeof root._bokeh_onload_callbacks === \"undefined\" || force === true) {\n    root._bokeh_onload_callbacks = [];\n    root._bokeh_is_loading = undefined;\n  }\n\n  const JS_MIME_TYPE = 'application/javascript';\n  const HTML_MIME_TYPE = 'text/html';\n  const EXEC_MIME_TYPE = 'application/vnd.bokehjs_exec.v0+json';\n  const CLASS_NAME = 'output_bokeh rendered_html';\n\n  /**\n   * Render data to the DOM node\n   */\n  function render(props, node) {\n    const script = document.createElement(\"script\");\n    node.appendChild(script);\n  }\n\n  /**\n   * Handle when an output is cleared or removed\n   */\n  function handleClearOutput(event, handle) {\n    const cell = handle.cell;\n\n    const id = cell.output_area._bokeh_element_id;\n    const server_id = cell.output_area._bokeh_server_id;\n    // Clean up Bokeh references\n    if (id != null && id in Bokeh.index) {\n      Bokeh.index[id].model.document.clear();\n      delete Bokeh.index[id];\n    }\n\n    if (server_id !== undefined) {\n      // Clean up Bokeh references\n      const cmd_clean = \"from bokeh.io.state import curstate; print(curstate().uuid_to_server['\" + server_id + \"'].get_sessions()[0].document.roots[0]._id)\";\n      cell.notebook.kernel.execute(cmd_clean, {\n        iopub: {\n          output: function(msg) {\n            const id = msg.content.text.trim();\n            if (id in Bokeh.index) {\n              Bokeh.index[id].model.document.clear();\n              delete Bokeh.index[id];\n            }\n          }\n        }\n      });\n      // Destroy server and session\n      const cmd_destroy = \"import bokeh.io.notebook as ion; ion.destroy_server('\" + server_id + \"')\";\n      cell.notebook.kernel.execute(cmd_destroy);\n    }\n  }\n\n  /**\n   * Handle when a new output is added\n   */\n  function handleAddOutput(event, handle) {\n    const output_area = handle.output_area;\n    const output = handle.output;\n\n    // limit handleAddOutput to display_data with EXEC_MIME_TYPE content only\n    if ((output.output_type != \"display_data\") || (!Object.prototype.hasOwnProperty.call(output.data, EXEC_MIME_TYPE))) {\n      return\n    }\n\n    const toinsert = output_area.element.find(\".\" + CLASS_NAME.split(' ')[0]);\n\n    if (output.metadata[EXEC_MIME_TYPE][\"id\"] !== undefined) {\n      toinsert[toinsert.length - 1].firstChild.textContent = output.data[JS_MIME_TYPE];\n      // store reference to embed id on output_area\n      output_area._bokeh_element_id = output.metadata[EXEC_MIME_TYPE][\"id\"];\n    }\n    if (output.metadata[EXEC_MIME_TYPE][\"server_id\"] !== undefined) {\n      const bk_div = document.createElement(\"div\");\n      bk_div.innerHTML = output.data[HTML_MIME_TYPE];\n      const script_attrs = bk_div.children[0].attributes;\n      for (let i = 0; i < script_attrs.length; i++) {\n        toinsert[toinsert.length - 1].firstChild.setAttribute(script_attrs[i].name, script_attrs[i].value);\n        toinsert[toinsert.length - 1].firstChild.textContent = bk_div.children[0].textContent\n      }\n      // store reference to server id on output_area\n      output_area._bokeh_server_id = output.metadata[EXEC_MIME_TYPE][\"server_id\"];\n    }\n  }\n\n  function register_renderer(events, OutputArea) {\n\n    function append_mime(data, metadata, element) {\n      // create a DOM node to render to\n      const toinsert = this.create_output_subarea(\n        metadata,\n        CLASS_NAME,\n        EXEC_MIME_TYPE\n      );\n      this.keyboard_manager.register_events(toinsert);\n      // Render to node\n      const props = {data: data, metadata: metadata[EXEC_MIME_TYPE]};\n      render(props, toinsert[toinsert.length - 1]);\n      element.append(toinsert);\n      return toinsert\n    }\n\n    /* Handle when an output is cleared or removed */\n    events.on('clear_output.CodeCell', handleClearOutput);\n    events.on('delete.Cell', handleClearOutput);\n\n    /* Handle when a new output is added */\n    events.on('output_added.OutputArea', handleAddOutput);\n\n    /**\n     * Register the mime type and append_mime function with output_area\n     */\n    OutputArea.prototype.register_mime_type(EXEC_MIME_TYPE, append_mime, {\n      /* Is output safe? */\n      safe: true,\n      /* Index of renderer in `output_area.display_order` */\n      index: 0\n    });\n  }\n\n  // register the mime type if in Jupyter Notebook environment and previously unregistered\n  if (root.Jupyter !== undefined) {\n    const events = require('base/js/events');\n    const OutputArea = require('notebook/js/outputarea').OutputArea;\n\n    if (OutputArea.prototype.mime_types().indexOf(EXEC_MIME_TYPE) == -1) {\n      register_renderer(events, OutputArea);\n    }\n  }\n\n  \n  if (typeof (root._bokeh_timeout) === \"undefined\" || force === true) {\n    root._bokeh_timeout = Date.now() + 5000;\n    root._bokeh_failed_load = false;\n  }\n\n  const NB_LOAD_WARNING = {'data': {'text/html':\n     \"<div style='background-color: #fdd'>\\n\"+\n     \"<p>\\n\"+\n     \"BokehJS does not appear to have successfully loaded. If loading BokehJS from CDN, this \\n\"+\n     \"may be due to a slow or bad network connection. Possible fixes:\\n\"+\n     \"</p>\\n\"+\n     \"<ul>\\n\"+\n     \"<li>re-rerun `output_notebook()` to attempt to load from CDN again, or</li>\\n\"+\n     \"<li>use INLINE resources instead, as so:</li>\\n\"+\n     \"</ul>\\n\"+\n     \"<code>\\n\"+\n     \"from bokeh.resources import INLINE\\n\"+\n     \"output_notebook(resources=INLINE)\\n\"+\n     \"</code>\\n\"+\n     \"</div>\"}};\n\n  function display_loaded() {\n    const el = document.getElementById(\"1641\");\n    if (el != null) {\n      el.textContent = \"BokehJS is loading...\";\n    }\n    if (root.Bokeh !== undefined) {\n      if (el != null) {\n        el.textContent = \"BokehJS \" + root.Bokeh.version + \" successfully loaded.\";\n      }\n    } else if (Date.now() < root._bokeh_timeout) {\n      setTimeout(display_loaded, 100)\n    }\n  }\n\n\n  function run_callbacks() {\n    try {\n      root._bokeh_onload_callbacks.forEach(function(callback) {\n        if (callback != null)\n          callback();\n      });\n    } finally {\n      delete root._bokeh_onload_callbacks\n    }\n    console.debug(\"Bokeh: all callbacks have finished\");\n  }\n\n  function load_libs(css_urls, js_urls, callback) {\n    if (css_urls == null) css_urls = [];\n    if (js_urls == null) js_urls = [];\n\n    root._bokeh_onload_callbacks.push(callback);\n    if (root._bokeh_is_loading > 0) {\n      console.debug(\"Bokeh: BokehJS is being loaded, scheduling callback at\", now());\n      return null;\n    }\n    if (js_urls == null || js_urls.length === 0) {\n      run_callbacks();\n      return null;\n    }\n    console.debug(\"Bokeh: BokehJS not loaded, scheduling load and callback at\", now());\n    root._bokeh_is_loading = css_urls.length + js_urls.length;\n\n    function on_load() {\n      root._bokeh_is_loading--;\n      if (root._bokeh_is_loading === 0) {\n        console.debug(\"Bokeh: all BokehJS libraries/stylesheets loaded\");\n        run_callbacks()\n      }\n    }\n\n    function on_error(url) {\n      console.error(\"failed to load \" + url);\n    }\n\n    for (let i = 0; i < css_urls.length; i++) {\n      const url = css_urls[i];\n      const element = document.createElement(\"link\");\n      element.onload = on_load;\n      element.onerror = on_error.bind(null, url);\n      element.rel = \"stylesheet\";\n      element.type = \"text/css\";\n      element.href = url;\n      console.debug(\"Bokeh: injecting link tag for BokehJS stylesheet: \", url);\n      document.body.appendChild(element);\n    }\n\n    for (let i = 0; i < js_urls.length; i++) {\n      const url = js_urls[i];\n      const element = document.createElement('script');\n      element.onload = on_load;\n      element.onerror = on_error.bind(null, url);\n      element.async = false;\n      element.src = url;\n      console.debug(\"Bokeh: injecting script tag for BokehJS library: \", url);\n      document.head.appendChild(element);\n    }\n  };\n\n  function inject_raw_css(css) {\n    const element = document.createElement(\"style\");\n    element.appendChild(document.createTextNode(css));\n    document.body.appendChild(element);\n  }\n\n  \n  const js_urls = [\"https://cdn.bokeh.org/bokeh/release/bokeh-2.4.1.min.js\", \"https://cdn.bokeh.org/bokeh/release/bokeh-gl-2.4.1.min.js\", \"https://cdn.bokeh.org/bokeh/release/bokeh-widgets-2.4.1.min.js\", \"https://cdn.bokeh.org/bokeh/release/bokeh-tables-2.4.1.min.js\", \"https://cdn.bokeh.org/bokeh/release/bokeh-mathjax-2.4.1.min.js\"];\n  const css_urls = [];\n  \n\n  const inline_js = [\n    function(Bokeh) {\n      Bokeh.set_log_level(\"info\");\n    },\n    function(Bokeh) {\n    \n    \n    }\n  ];\n\n  function run_inline_js() {\n    \n    if (root.Bokeh !== undefined || force === true) {\n      \n    for (let i = 0; i < inline_js.length; i++) {\n      inline_js[i].call(root, root.Bokeh);\n    }\n    if (force === true) {\n        display_loaded();\n      }} else if (Date.now() < root._bokeh_timeout) {\n      setTimeout(run_inline_js, 100);\n    } else if (!root._bokeh_failed_load) {\n      console.log(\"Bokeh: BokehJS failed to load within specified timeout.\");\n      root._bokeh_failed_load = true;\n    } else if (force !== true) {\n      const cell = $(document.getElementById(\"1641\")).parents('.cell').data().cell;\n      cell.output_area.append_execute_result(NB_LOAD_WARNING)\n    }\n\n  }\n\n  if (root._bokeh_is_loading === 0) {\n    console.debug(\"Bokeh: BokehJS loaded, going straight to plotting\");\n    run_inline_js();\n  } else {\n    load_libs(css_urls, js_urls, function() {\n      console.debug(\"Bokeh: BokehJS plotting callback run at\", now());\n      run_inline_js();\n    });\n  }\n}(window));",
      "application/vnd.bokehjs_load.v0+json": ""
     },
     "metadata": {},
     "output_type": "display_data"
    },
    {
     "name": "stderr",
     "output_type": "stream",
     "text": [
      "BokehDeprecationWarning: 'legend' keyword is deprecated, use explicit 'legend_label', 'legend_field', or 'legend_group' keywords instead\n"
     ]
    },
    {
     "data": {
      "text/html": [
       "\n",
       "\n",
       "\n",
       "\n",
       "\n",
       "\n",
       "  <div class=\"bk-root\" id=\"ea681b3b-d3a1-4d24-9572-d52f796a0682\" data-root-id=\"1643\"></div>\n"
      ]
     },
     "metadata": {},
     "output_type": "display_data"
    },
    {
     "data": {
      "application/javascript": "(function(root) {\n  function embed_document(root) {\n    \n  const docs_json = {\"2d9527b3-4987-45e5-ade9-7afb4f34c5b6\":{\"defs\":[],\"roots\":{\"references\":[{\"attributes\":{\"below\":[{\"id\":\"1654\"}],\"center\":[{\"id\":\"1657\"},{\"id\":\"1661\"},{\"id\":\"1681\"}],\"left\":[{\"id\":\"1658\"}],\"renderers\":[{\"id\":\"1670\"}],\"title\":{\"id\":\"1644\"},\"toolbar\":{\"id\":\"1662\"},\"x_range\":{\"id\":\"1646\"},\"x_scale\":{\"id\":\"1650\"},\"y_range\":{\"id\":\"1648\"},\"y_scale\":{\"id\":\"1652\"}},\"id\":\"1643\",\"subtype\":\"Figure\",\"type\":\"Plot\"},{\"attributes\":{\"fill_alpha\":{\"value\":0.3},\"fill_color\":{\"field\":\"Breakfast\",\"transform\":{\"id\":\"1642\"}},\"line_color\":{\"value\":\"#1f77b4\"},\"size\":{\"value\":12},\"x\":{\"field\":\"Tired\",\"transform\":{\"id\":\"1663\"}},\"y\":{\"field\":\"Hours\",\"transform\":{\"id\":\"1664\"}}},\"id\":\"1667\",\"type\":\"Scatter\"},{\"attributes\":{\"coordinates\":null,\"group\":null,\"items\":[{\"id\":\"1682\"}],\"location\":\"bottom_left\"},\"id\":\"1681\",\"type\":\"Legend\"},{\"attributes\":{\"fill_alpha\":{\"value\":0.2},\"fill_color\":{\"field\":\"Breakfast\",\"transform\":{\"id\":\"1642\"}},\"hatch_alpha\":{\"value\":0.2},\"line_alpha\":{\"value\":0.2},\"line_color\":{\"value\":\"#1f77b4\"},\"size\":{\"value\":12},\"x\":{\"field\":\"Tired\",\"transform\":{\"id\":\"1663\"}},\"y\":{\"field\":\"Hours\",\"transform\":{\"id\":\"1664\"}}},\"id\":\"1669\",\"type\":\"Scatter\"},{\"attributes\":{\"coordinates\":null,\"data_source\":{\"id\":\"1665\"},\"glyph\":{\"id\":\"1667\"},\"group\":null,\"hover_glyph\":null,\"muted_glyph\":{\"id\":\"1669\"},\"nonselection_glyph\":{\"id\":\"1668\"},\"view\":{\"id\":\"1671\"}},\"id\":\"1670\",\"type\":\"GlyphRenderer\"},{\"attributes\":{},\"id\":\"1679\",\"type\":\"UnionRenderers\"},{\"attributes\":{\"range\":null,\"width\":0.3},\"id\":\"1663\",\"type\":\"Jitter\"},{\"attributes\":{\"coordinates\":null,\"group\":null,\"text\":\"Hours of sleep and tiredness \"},\"id\":\"1644\",\"type\":\"Title\"},{\"attributes\":{},\"id\":\"1646\",\"type\":\"DataRange1d\"},{\"attributes\":{\"source\":{\"id\":\"1665\"}},\"id\":\"1671\",\"type\":\"CDSView\"},{\"attributes\":{},\"id\":\"1648\",\"type\":\"DataRange1d\"},{\"attributes\":{},\"id\":\"1680\",\"type\":\"Selection\"},{\"attributes\":{\"axis\":{\"id\":\"1658\"},\"coordinates\":null,\"dimension\":1,\"group\":null,\"ticker\":null},\"id\":\"1661\",\"type\":\"Grid\"},{\"attributes\":{},\"id\":\"1674\",\"type\":\"BasicTickFormatter\"},{\"attributes\":{\"axis_label\":\"Tired\",\"coordinates\":null,\"formatter\":{\"id\":\"1677\"},\"group\":null,\"major_label_policy\":{\"id\":\"1678\"},\"ticker\":{\"id\":\"1655\"}},\"id\":\"1654\",\"type\":\"LinearAxis\"},{\"attributes\":{},\"id\":\"1652\",\"type\":\"LinearScale\"},{\"attributes\":{\"data\":{\"Breakfast\":[\"Yes\",\"No\",\"Yes\",\"No\",\"Yes\",\"No\",\"Yes\",\"Yes\",\"Yes\",\"Yes\",\"No\",\"Yes\",\"No\",\"No\",\"Yes\",\"No\",\"Yes\",\"Yes\",\"Yes\",\"No\",\"No\",\"Yes\",\"Yes\",\"Yes\",\"No\",\"No\",\"No\",\"No\",\"Yes\",\"Yes\",\"Yes\",\"Yes\",\"No\",\"No\",\"Yes\",\"Yes\",\"Yes\",\"Yes\",\"No\",\"No\",\"Yes\",\"Yes\",\"No\",\"Yes\",\"No\",\"No\",\"Yes\",\"Yes\",\"Yes\",\"Yes\",\"No\",\"Yes\",\"Yes\",\"No\",\"Yes\",\"Yes\",\"No\",\"No\",\"Yes\",\"No\",\"No\",\"Yes\",\"No\",\"No\",\"Yes\",\"No\",\"Yes\",\"No\",\"Yes\",\"Yes\",\"Yes\",\"No\",\"Yes\",\"Yes\",\"No\",\"Yes\",\"No\",\"Yes\",\"No\",\"No\",\"No\",\"No\",\"Yes\",\"Yes\",\"No\",\"Yes\",\"Yes\",\"Yes\",\"Yes\",\"Yes\",\"Yes\",\"Yes\",\"No\",\"Yes\",\"Yes\",\"No\",\"No\",\"Yes\",\"Yes\",\"Yes\",\"Yes\",\"Yes\"],\"Enough\":[\"Yes\",\"No\",\"Yes\",\"No\",\"No\",\"No\",\"Yes\",\"No\",\"No\",\"No\",\"No\",\"No\",\"Yes\",\"Yes\",\"Yes\",\"Yes\",\"Yes\",\"Yes\",\"No\",\"Yes\",\"No\",\"No\",\"No\",\"No\",\"No\",\"No\",\"No\",\"No\",\"Yes\",\"Yes\",\"Yes\",\"No\",\"No\",\"No\",\"No\",\"No\",\"Yes\",\"Yes\",\"No\",\"No\",\"Yes\",\"No\",\"No\",\"No\",\"No\",\"No\",\"Yes\",\"No\",\"No\",\"No\",\"No\",\"No\",\"No\",\"No\",\"No\",\"No\",\"No\",\"No\",\"No\",\"Yes\",\"No\",\"No\",\"No\",\"No\",\"No\",\"Yes\",\"No\",\"Yes\",\"No\",\"Yes\",\"No\",\"No\",\"No\",\"Yes\",\"No\",\"No\",\"Yes\",\"No\",\"No\",\"Yes\",\"No\",\"No\",\"Yes\",\"Yes\",\"No\",\"No\",\"No\",\"No\",\"Yes\",\"No\",\"Yes\",\"Yes\",\"Yes\",\"Yes\",\"No\",\"Yes\",\"No\",\"No\",\"No\",\"Yes\",\"Yes\",\"Yes\"],\"Hours\":[8,6,6,7,7,7,7,7,4,6,10,7,7,8,7,8,6,8,9,8,2,4,5,7,5,7,6,6,7,9,8,8,6,6,7,7,7,9,5,7,8,7,5,6,4,7,9,5,6,4,5,8,7,5,7,5,6,9,9,7,6,7,2,8,7,7,7,7,6,6,5,5,6,7,6,8,6,6,7,6,6,5,8,8,6,9,5,6,8,7,7,9,8,7,7,7,6,7,7,8,7,6],\"PhoneReach\":[\"Yes\",\"Yes\",\"Yes\",\"Yes\",\"Yes\",\"Yes\",\"Yes\",\"Yes\",\"No\",\"Yes\",\"Yes\",\"Yes\",\"Yes\",\"Yes\",\"No\",\"Yes\",\"Yes\",\"Yes\",\"Yes\",\"Yes\",\"Yes\",\"Yes\",\"Yes\",\"Yes\",\"Yes\",\"No\",\"Yes\",\"Yes\",\"Yes\",\"No\",\"Yes\",\"No\",\"Yes\",\"No\",\"No\",\"Yes\",\"No\",\"No\",\"Yes\",\"Yes\",\"No\",\"No\",\"Yes\",\"Yes\",\"No\",\"Yes\",\"Yes\",\"No\",\"No\",\"Yes\",\"Yes\",\"Yes\",\"No\",\"Yes\",\"Yes\",\"No\",\"Yes\",\"No\",\"Yes\",\"Yes\",\"Yes\",\"Yes\",\"No\",\"Yes\",\"Yes\",\"Yes\",\"Yes\",\"Yes\",\"Yes\",\"No\",\"Yes\",\"Yes\",\"No\",\"Yes\",\"No\",\"Yes\",\"Yes\",\"Yes\",\"Yes\",\"Yes\",\"Yes\",\"No\",\"No\",\"No\",\"Yes\",\"No\",\"Yes\",\"Yes\",\"No\",\"No\",\"No\",\"No\",\"Yes\",\"No\",\"Yes\",\"Yes\",\"Yes\",\"Yes\",\"No\",\"Yes\",\"Yes\",\"Yes\"],\"PhoneTime\":[\"Yes\",\"Yes\",\"Yes\",\"Yes\",\"Yes\",\"Yes\",\"Yes\",\"Yes\",\"Yes\",\"Yes\",\"Yes\",\"Yes\",\"Yes\",\"Yes\",\"Yes\",\"Yes\",\"Yes\",\"Yes\",\"Yes\",\"Yes\",\"Yes\",\"Yes\",\"No\",\"No\",\"Yes\",\"Yes\",\"Yes\",\"Yes\",\"No\",\"No\",\"Yes\",\"Yes\",\"Yes\",\"No\",\"Yes\",\"Yes\",\"No\",\"Yes\",\"No\",\"Yes\",\"Yes\",\"Yes\",\"Yes\",\"Yes\",\"No\",\"Yes\",\"Yes\",\"No\",\"Yes\",\"Yes\",\"No\",\"Yes\",\"Yes\",\"Yes\",\"Yes\",\"Yes\",\"Yes\",\"Yes\",\"No\",\"Yes\",\"Yes\",\"Yes\",\"No\",\"Yes\",\"Yes\",\"No\",\"Yes\",\"No\",\"Yes\",\"Yes\",\"Yes\",\"Yes\",\"Yes\",\"Yes\",\"Yes\",\"Yes\",\"Yes\",\"Yes\",\"Yes\",\"Yes\",\"Yes\",\"No\",\"No\",\"Yes\",\"Yes\",\"Yes\",\"No\",\"No\",\"Yes\",\"Yes\",\"Yes\",\"No\",\"Yes\",\"Yes\",\"Yes\",\"Yes\",\"Yes\",\"Yes\",\"Yes\",\"Yes\",\"Yes\",\"Yes\"],\"Tired\":[3,3,2,4,2,4,3,3,2,3,4,2,3,2,3,3,4,3,3,3,5,2,3,3,2,5,3,2,2,2,2,3,4,3,3,3,2,2,5,2,1,4,3,3,5,4,1,5,3,2,3,3,4,2,3,2,3,5,4,2,3,3,5,5,4,1,3,3,3,4,4,4,5,4,4,4,4,3,4,3,3,4,2,1,3,5,4,2,3,4,2,2,4,2,4,2,3,2,3,3,2,3],\"index\":[0,1,2,3,4,5,6,7,8,9,10,11,12,13,14,15,16,17,18,19,20,21,22,23,24,25,26,27,28,29,30,31,32,33,34,35,36,37,38,39,40,41,42,43,44,45,46,47,48,49,50,51,52,53,54,55,56,57,58,59,60,61,62,63,64,66,67,68,69,70,71,72,73,74,75,76,77,78,79,80,81,82,83,84,85,86,87,88,89,90,92,93,94,95,96,97,98,99,100,101,102,103]},\"selected\":{\"id\":\"1680\"},\"selection_policy\":{\"id\":\"1679\"}},\"id\":\"1665\",\"type\":\"ColumnDataSource\"},{\"attributes\":{},\"id\":\"1678\",\"type\":\"AllLabels\"},{\"attributes\":{\"label\":{\"field\":\"Breakfast\"},\"renderers\":[{\"id\":\"1670\"}]},\"id\":\"1682\",\"type\":\"LegendItem\"},{\"attributes\":{},\"id\":\"1677\",\"type\":\"BasicTickFormatter\"},{\"attributes\":{},\"id\":\"1655\",\"type\":\"BasicTicker\"},{\"attributes\":{\"factors\":[\"No\",\"Yes\"],\"palette\":[\"yellow\",\"blue\"]},\"id\":\"1642\",\"type\":\"CategoricalColorMapper\"},{\"attributes\":{},\"id\":\"1650\",\"type\":\"LinearScale\"},{\"attributes\":{\"axis_label\":\"Hours\",\"coordinates\":null,\"formatter\":{\"id\":\"1674\"},\"group\":null,\"major_label_policy\":{\"id\":\"1675\"},\"ticker\":{\"id\":\"1659\"}},\"id\":\"1658\",\"type\":\"LinearAxis\"},{\"attributes\":{},\"id\":\"1675\",\"type\":\"AllLabels\"},{\"attributes\":{\"axis\":{\"id\":\"1654\"},\"coordinates\":null,\"group\":null,\"ticker\":null},\"id\":\"1657\",\"type\":\"Grid\"},{\"attributes\":{\"fill_alpha\":{\"value\":0.1},\"fill_color\":{\"field\":\"Breakfast\",\"transform\":{\"id\":\"1642\"}},\"hatch_alpha\":{\"value\":0.1},\"line_alpha\":{\"value\":0.1},\"line_color\":{\"value\":\"#1f77b4\"},\"size\":{\"value\":12},\"x\":{\"field\":\"Tired\",\"transform\":{\"id\":\"1663\"}},\"y\":{\"field\":\"Hours\",\"transform\":{\"id\":\"1664\"}}},\"id\":\"1668\",\"type\":\"Scatter\"},{\"attributes\":{},\"id\":\"1662\",\"type\":\"Toolbar\"},{\"attributes\":{\"range\":null,\"width\":0.3},\"id\":\"1664\",\"type\":\"Jitter\"},{\"attributes\":{},\"id\":\"1659\",\"type\":\"BasicTicker\"}],\"root_ids\":[\"1643\"]},\"title\":\"Bokeh Application\",\"version\":\"2.4.1\"}};\n  const render_items = [{\"docid\":\"2d9527b3-4987-45e5-ade9-7afb4f34c5b6\",\"root_ids\":[\"1643\"],\"roots\":{\"1643\":\"ea681b3b-d3a1-4d24-9572-d52f796a0682\"}}];\n  root.Bokeh.embed.embed_items_notebook(docs_json, render_items);\n\n  }\n  if (root.Bokeh !== undefined) {\n    embed_document(root);\n  } else {\n    let attempts = 0;\n    const timer = setInterval(function(root) {\n      if (root.Bokeh !== undefined) {\n        clearInterval(timer);\n        embed_document(root);\n      } else {\n        attempts++;\n        if (attempts > 100) {\n          clearInterval(timer);\n          console.log(\"Bokeh: ERROR: Unable to run BokehJS code because BokehJS library is missing\");\n        }\n      }\n    }, 10, root)\n  }\n})(window);",
      "application/vnd.bokehjs_exec.v0+json": ""
     },
     "metadata": {
      "application/vnd.bokehjs_exec.v0+json": {
       "id": "1643"
      }
     },
     "output_type": "display_data"
    }
   ],
   "source": [
    "#code for the scatter plot here\n",
    "from bokeh.models import Circle, ColumnDataSource, Grid, LinearAxis, Plot\n",
    "import matplotlib.pyplot as plt\n",
    "from bokeh.plotting import figure , show , output_notebook\n",
    "from bokeh.transform import jitter\n",
    "output_notebook()\n",
    "\n",
    "from bokeh.transform import factor_cmap\n",
    "\n",
    "index_cmap = factor_cmap('Breakfast', palette=['yellow', 'blue'],factors=sorted(df.Breakfast.unique()))\n",
    "\n",
    "p=figure(title='Hours of sleep and tiredness ', tools='')\n",
    "p.scatter(x=jitter('Tired', width=0.3), y=jitter('Hours',width=0.3),fill_color=index_cmap,\\\n",
    "     source=df, fill_alpha=0.3,size=12,legend='Breakfast')\n",
    "p.xaxis.axis_label='Tired'\n",
    "p.yaxis.axis_label='Hours'\n",
    "p.legend.location='bottom_left'\n",
    "show(p)\n",
    "\n"
   ]
  },
  {
   "cell_type": "code",
   "execution_count": 50,
   "metadata": {},
   "outputs": [
    {
     "name": "stdout",
     "output_type": "stream",
     "text": [
      "  Enough  Hours PhoneReach PhoneTime  Tired Breakfast\n",
      "0    Yes    8.0        Yes       Yes      3       Yes\n",
      "1     No    6.0        Yes       Yes      3        No\n",
      "2    Yes    6.0        Yes       Yes      2       Yes\n",
      "3     No    7.0        Yes       Yes      4        No\n",
      "4     No    7.0        Yes       Yes      2       Yes\n",
      "   Enough  Hours  PhoneReach  PhoneTime  Tired  Breakfast\n",
      "0       1    8.0         1.0        1.0    3.0        1.0\n",
      "1       0    6.0         1.0        1.0    3.0        0.0\n",
      "2       1    6.0         1.0        1.0    2.0        1.0\n",
      "3       0    7.0         1.0        1.0    4.0        0.0\n",
      "4       0    7.0         1.0        1.0    2.0        1.0\n"
     ]
    }
   ],
   "source": [
    "#code your answer to the target statistics here\n",
    "df['Hours'].describe()\n",
    "print(df_heatmap.head())\n",
    "df_heatmap['Breakfast']=df_heatmap['Breakfast'].map(dict(Yes=1,No=0))\n",
    "df_heatmap['Enough']=df_heatmap['Enough'].map(dict(Yes=1,No=0))\n",
    "df_heatmap['PhoneReach']=df_heatmap['PhoneReach'].map(dict(Yes=1,No=0))\n",
    "df_heatmap['PhoneTime']=df_heatmap['PhoneTime'].map(dict(Yes=1,No=0))\n",
    "df_heatmap=df_heatmap.astype({'Breakfast':'float','Tired':'float','PhoneReach':'float','PhoneTime':'float'})\n",
    "print(df_heatmap.head())"
   ]
  },
  {
   "cell_type": "code",
   "execution_count": 51,
   "metadata": {},
   "outputs": [
    {
     "name": "stdout",
     "output_type": "stream",
     "text": [
      "There is no clear correlation \n"
     ]
    },
    {
     "data": {
      "image/png": "[encoded data removed]",
      "text/plain": [
       "<Figure size 432x288 with 2 Axes>"
      ]
     },
     "metadata": {},
     "output_type": "display_data"
    }
   ],
   "source": [
    "#code your answer for the heatmap here and briefly state your finding\n",
    "corr_map=df_heatmap.corr().abs()\n",
    "import numpy as np; np.random.seed(0)\n",
    "import seaborn as sns; sns.set_theme()\n",
    "import matplotlib.pyplot as plt\n",
    "\n",
    "ax = sns.heatmap(corr_map,center=0,linewidths=.5,cmap=\"YlGnBu\",vmin=0, vmax=1)\n",
    "print(\"There is no clear correlation \")"
   ]
  },
  {
   "cell_type": "markdown",
   "metadata": {},
   "source": [
    "---"
   ]
  },
  {
   "cell_type": "markdown",
   "metadata": {},
   "source": [
    "<a name='2'></a>\n",
    "## Part 3: Check Assumptions\n",
    "\n",
    "Before we answer the research question with ANOVA we need to check the following assumptions:\n",
    "\n",
    "1. ANOVA assumes that the dependent variable is normaly distributed\n",
    "2. ANOVA also assumes homogeneity of variance\n",
    "3. ANOVA also assumes that the observations are independent of each other. Most of the time we need domain knowledge and experiment setup descriptions to estimate this assumption\n",
    "\n",
    "We are going to do this graphically and statistically. "
   ]
  },
  {
   "cell_type": "markdown",
   "metadata": {},
   "source": [
    "<a name='ex-31'></a>\n",
    "### Check normality (10 pt)\n",
    "\n",
    "<ul><li>\n",
    "Plot the distribution of the dependent variable. Add a vertical line at the position of the average. Add a vertical line for the robuust estimation. Add the normal distribution line to the plot. Comment on the normallity of the data. Do you want the full points? Plot with bokeh!</li>\n",
    "\n",
    "<li>Use a Shapiro-Wilk Test or an Anderson-Darling test to check statistically</li></ul>\n",
    "\n",
    "\n",
    "<details>    \n",
    "<summary>\n",
    "    <font size=\"3\" color=\"darkgreen\"><b>Hints</b></font>\n",
    "</summary>\n",
    "    <ul><li>check the code of lesson 1 DS1 bayesian statistics</li>\n",
    "        <li>heart_failure case of gitbook uses bokeh histograms</li>\n",
    "</ul>\n",
    "</details>"
   ]
  },
  {
   "cell_type": "code",
   "execution_count": 52,
   "metadata": {},
   "outputs": [
    {
     "data": {
      "text/html": [
       "\n",
       "\n",
       "\n",
       "\n",
       "\n",
       "\n",
       "  <div class=\"bk-root\" id=\"f9291b9f-07e6-4b12-a42c-a28ae7c5aa54\" data-root-id=\"1785\"></div>\n"
      ]
     },
     "metadata": {},
     "output_type": "display_data"
    },
    {
     "data": {
      "application/javascript": "(function(root) {\n  function embed_document(root) {\n    \n  const docs_json = {\"4cf047e2-fba1-44f5-9a85-ba102b8038fa\":{\"defs\":[],\"roots\":{\"references\":[{\"attributes\":{\"background_fill_color\":\"#fafafa\",\"below\":[{\"id\":\"1796\"}],\"center\":[{\"id\":\"1799\"},{\"id\":\"1803\"},{\"id\":\"1820\"},{\"id\":\"1822\"},{\"id\":\"1841\"}],\"left\":[{\"id\":\"1800\"}],\"renderers\":[{\"id\":\"1809\"},{\"id\":\"1827\"},{\"id\":\"1846\"},{\"id\":\"1866\"}],\"title\":{\"id\":\"1786\"},\"toolbar\":{\"id\":\"1804\"},\"x_range\":{\"id\":\"1788\"},\"x_scale\":{\"id\":\"1792\"},\"y_range\":{\"id\":\"1790\"},\"y_scale\":{\"id\":\"1794\"}},\"id\":\"1785\",\"subtype\":\"Figure\",\"type\":\"Plot\"},{\"attributes\":{\"start\":0},\"id\":\"1790\",\"type\":\"DataRange1d\"},{\"attributes\":{},\"id\":\"1817\",\"type\":\"AllLabels\"},{\"attributes\":{\"label\":{\"value\":\"Data\"},\"renderers\":[{\"id\":\"1809\"}]},\"id\":\"1821\",\"type\":\"LegendItem\"},{\"attributes\":{},\"id\":\"1804\",\"type\":\"Toolbar\"},{\"attributes\":{\"axis_label\":\"Hours\",\"coordinates\":null,\"formatter\":{\"id\":\"1816\"},\"group\":null,\"major_label_policy\":{\"id\":\"1817\"},\"ticker\":{\"id\":\"1797\"}},\"id\":\"1796\",\"type\":\"LinearAxis\"},{\"attributes\":{\"label\":{\"value\":\"PDF\"},\"renderers\":[{\"id\":\"1866\"}]},\"id\":\"1883\",\"type\":\"LegendItem\"},{\"attributes\":{\"source\":{\"id\":\"1862\"}},\"id\":\"1867\",\"type\":\"CDSView\"},{\"attributes\":{},\"id\":\"1816\",\"type\":\"BasicTickFormatter\"},{\"attributes\":{},\"id\":\"1801\",\"type\":\"BasicTicker\"},{\"attributes\":{\"background_fill_color\":\"#fefefe\",\"coordinates\":null,\"group\":null,\"items\":[{\"id\":\"1821\"},{\"id\":\"1840\"},{\"id\":\"1861\"},{\"id\":\"1883\"}],\"location\":\"center_right\"},\"id\":\"1820\",\"type\":\"Legend\"},{\"attributes\":{\"line_alpha\":0.1,\"line_color\":\"#ff8888\",\"line_width\":4,\"x\":{\"field\":\"x\"},\"y\":{\"field\":\"y\"}},\"id\":\"1864\",\"type\":\"Line\"},{\"attributes\":{\"data\":{\"left\":{\"__ndarray__\":\"AAAAAAAAAEDHcRzHcRwHQI7jOI7jOA5AqqqqqqqqEkCO4ziO4zgWQHIcx3EcxxlAVVVVVVVVHUAcx3Ecx3EgQI7jOI7jOCJA\",\"dtype\":\"float64\",\"order\":\"little\",\"shape\":[9]},\"right\":{\"__ndarray__\":\"x3Ecx3EcB0CO4ziO4zgOQKqqqqqqqhJAjuM4juM4FkByHMdxHMcZQFVVVVVVVR1AHMdxHMdxIECO4ziO4zgiQAAAAAAAACRA\",\"dtype\":\"float64\",\"order\":\"little\",\"shape\":[9]},\"top\":{\"__ndarray__\":\"l5aWlpaWlj8AAAAAAAAAAJqWlpaWlqY/7/Dw8PDwwD/v8PDw8PDQP7i0tLS0tNg/mpaWlpaWxj+UlpaWlpa2P5SWlpaWloY/\",\"dtype\":\"float64\",\"order\":\"little\",\"shape\":[9]}},\"selected\":{\"id\":\"1819\"},\"selection_policy\":{\"id\":\"1818\"}},\"id\":\"1805\",\"type\":\"ColumnDataSource\"},{\"attributes\":{\"source\":{\"id\":\"1805\"}},\"id\":\"1810\",\"type\":\"CDSView\"},{\"attributes\":{\"bottom\":{\"value\":0},\"fill_alpha\":{\"value\":0.5},\"fill_color\":{\"value\":\"navy\"},\"hatch_alpha\":{\"value\":0.5},\"left\":{\"field\":\"left\"},\"line_alpha\":{\"value\":0.5},\"line_color\":{\"value\":\"white\"},\"right\":{\"field\":\"right\"},\"top\":{\"field\":\"top\"}},\"id\":\"1806\",\"type\":\"Quad\"},{\"attributes\":{},\"id\":\"1792\",\"type\":\"LinearScale\"},{\"attributes\":{},\"id\":\"1818\",\"type\":\"UnionRenderers\"},{\"attributes\":{\"axis\":{\"id\":\"1796\"},\"coordinates\":null,\"grid_line_color\":\"white\",\"group\":null,\"ticker\":null},\"id\":\"1799\",\"type\":\"Grid\"},{\"attributes\":{\"line_alpha\":0.7,\"line_color\":\"yellow\",\"line_width\":4,\"x\":{\"field\":\"x\"},\"y\":{\"field\":\"y\"}},\"id\":\"1824\",\"type\":\"Line\"},{\"attributes\":{},\"id\":\"1819\",\"type\":\"Selection\"},{\"attributes\":{\"source\":{\"id\":\"1823\"}},\"id\":\"1828\",\"type\":\"CDSView\"},{\"attributes\":{},\"id\":\"1794\",\"type\":\"LinearScale\"},{\"attributes\":{\"coordinates\":null,\"dimension\":\"height\",\"group\":null,\"line_color\":\"yellow\",\"line_width\":3,\"location\":7.0},\"id\":\"1822\",\"type\":\"Span\"},{\"attributes\":{\"coordinates\":null,\"data_source\":{\"id\":\"1842\"},\"glyph\":{\"id\":\"1843\"},\"group\":null,\"hover_glyph\":null,\"muted_glyph\":{\"id\":\"1845\"},\"nonselection_glyph\":{\"id\":\"1844\"},\"view\":{\"id\":\"1847\"}},\"id\":\"1846\",\"type\":\"GlyphRenderer\"},{\"attributes\":{\"bottom\":{\"value\":0},\"fill_alpha\":{\"value\":0.1},\"fill_color\":{\"value\":\"navy\"},\"hatch_alpha\":{\"value\":0.1},\"left\":{\"field\":\"left\"},\"line_alpha\":{\"value\":0.1},\"line_color\":{\"value\":\"white\"},\"right\":{\"field\":\"right\"},\"top\":{\"field\":\"top\"}},\"id\":\"1807\",\"type\":\"Quad\"},{\"attributes\":{\"bottom\":{\"value\":0},\"fill_alpha\":{\"value\":0.2},\"fill_color\":{\"value\":\"navy\"},\"hatch_alpha\":{\"value\":0.2},\"left\":{\"field\":\"left\"},\"line_alpha\":{\"value\":0.2},\"line_color\":{\"value\":\"white\"},\"right\":{\"field\":\"right\"},\"top\":{\"field\":\"top\"}},\"id\":\"1808\",\"type\":\"Quad\"},{\"attributes\":{\"coordinates\":null,\"dimension\":\"height\",\"group\":null,\"line_color\":\"red\",\"line_dash\":[6],\"line_width\":3,\"location\":6.6568627450980395},\"id\":\"1841\",\"type\":\"Span\"},{\"attributes\":{\"data\":{\"x\":[],\"y\":[]},\"selected\":{\"id\":\"1839\"},\"selection_policy\":{\"id\":\"1838\"}},\"id\":\"1823\",\"type\":\"ColumnDataSource\"},{\"attributes\":{},\"id\":\"1797\",\"type\":\"BasicTicker\"},{\"attributes\":{\"data\":{\"x\":[],\"y\":[]},\"selected\":{\"id\":\"1860\"},\"selection_policy\":{\"id\":\"1859\"}},\"id\":\"1842\",\"type\":\"ColumnDataSource\"},{\"attributes\":{\"data\":{\"x\":{\"__ndarray__\":\"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\",\"dtype\":\"float64\",\"order\":\"little\",\"shape\":[1000]},\"y\":{\"__ndarray__\":\"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\",\"dtype\":\"float64\",\"order\":\"little\",\"shape\":[1000]}},\"selected\":{\"id\":\"1882\"},\"selection_policy\":{\"id\":\"1881\"}},\"id\":\"1862\",\"type\":\"ColumnDataSource\"},{\"attributes\":{\"coordinates\":null,\"data_source\":{\"id\":\"1823\"},\"glyph\":{\"id\":\"1824\"},\"group\":null,\"hover_glyph\":null,\"muted_glyph\":{\"id\":\"1826\"},\"nonselection_glyph\":{\"id\":\"1825\"},\"view\":{\"id\":\"1828\"}},\"id\":\"1827\",\"type\":\"GlyphRenderer\"},{\"attributes\":{\"axis_label\":\"Density\",\"coordinates\":null,\"formatter\":{\"id\":\"1813\"},\"group\":null,\"major_label_policy\":{\"id\":\"1814\"},\"ticker\":{\"id\":\"1801\"}},\"id\":\"1800\",\"type\":\"LinearAxis\"},{\"attributes\":{\"line_alpha\":0.7,\"line_color\":\"#ff8888\",\"line_width\":4,\"x\":{\"field\":\"x\"},\"y\":{\"field\":\"y\"}},\"id\":\"1863\",\"type\":\"Line\"},{\"attributes\":{\"coordinates\":null,\"data_source\":{\"id\":\"1805\"},\"glyph\":{\"id\":\"1806\"},\"group\":null,\"hover_glyph\":null,\"muted_glyph\":{\"id\":\"1808\"},\"nonselection_glyph\":{\"id\":\"1807\"},\"view\":{\"id\":\"1810\"}},\"id\":\"1809\",\"type\":\"GlyphRenderer\"},{\"attributes\":{\"axis\":{\"id\":\"1800\"},\"coordinates\":null,\"dimension\":1,\"grid_line_color\":\"white\",\"group\":null,\"ticker\":null},\"id\":\"1803\",\"type\":\"Grid\"},{\"attributes\":{\"line_alpha\":0.2,\"line_color\":\"yellow\",\"line_width\":4,\"x\":{\"field\":\"x\"},\"y\":{\"field\":\"y\"}},\"id\":\"1826\",\"type\":\"Line\"},{\"attributes\":{\"line_alpha\":0.2,\"line_color\":\"red\",\"line_dash\":[6],\"line_width\":4,\"x\":{\"field\":\"x\"},\"y\":{\"field\":\"y\"}},\"id\":\"1845\",\"type\":\"Line\"},{\"attributes\":{\"line_alpha\":0.1,\"line_color\":\"yellow\",\"line_width\":4,\"x\":{\"field\":\"x\"},\"y\":{\"field\":\"y\"}},\"id\":\"1825\",\"type\":\"Line\"},{\"attributes\":{\"source\":{\"id\":\"1842\"}},\"id\":\"1847\",\"type\":\"CDSView\"},{\"attributes\":{},\"id\":\"1814\",\"type\":\"AllLabels\"},{\"attributes\":{\"label\":{\"value\":\"Average_line\"},\"renderers\":[{\"id\":\"1827\"}]},\"id\":\"1840\",\"type\":\"LegendItem\"},{\"attributes\":{\"line_alpha\":0.1,\"line_color\":\"red\",\"line_dash\":[6],\"line_width\":4,\"x\":{\"field\":\"x\"},\"y\":{\"field\":\"y\"}},\"id\":\"1844\",\"type\":\"Line\"},{\"attributes\":{\"line_alpha\":0.7,\"line_color\":\"red\",\"line_dash\":[6],\"line_width\":4,\"x\":{\"field\":\"x\"},\"y\":{\"field\":\"y\"}},\"id\":\"1843\",\"type\":\"Line\"},{\"attributes\":{\"label\":{\"value\":\"robuust_line\"},\"renderers\":[{\"id\":\"1846\"}]},\"id\":\"1861\",\"type\":\"LegendItem\"},{\"attributes\":{},\"id\":\"1882\",\"type\":\"Selection\"},{\"attributes\":{},\"id\":\"1839\",\"type\":\"Selection\"},{\"attributes\":{},\"id\":\"1813\",\"type\":\"BasicTickFormatter\"},{\"attributes\":{},\"id\":\"1860\",\"type\":\"Selection\"},{\"attributes\":{},\"id\":\"1788\",\"type\":\"DataRange1d\"},{\"attributes\":{\"line_alpha\":0.2,\"line_color\":\"#ff8888\",\"line_width\":4,\"x\":{\"field\":\"x\"},\"y\":{\"field\":\"y\"}},\"id\":\"1865\",\"type\":\"Line\"},{\"attributes\":{},\"id\":\"1838\",\"type\":\"UnionRenderers\"},{\"attributes\":{},\"id\":\"1859\",\"type\":\"UnionRenderers\"},{\"attributes\":{\"coordinates\":null,\"group\":null,\"text\":\"Hours of Sleep\"},\"id\":\"1786\",\"type\":\"Title\"},{\"attributes\":{},\"id\":\"1881\",\"type\":\"UnionRenderers\"},{\"attributes\":{\"coordinates\":null,\"data_source\":{\"id\":\"1862\"},\"glyph\":{\"id\":\"1863\"},\"group\":null,\"hover_glyph\":null,\"muted_glyph\":{\"id\":\"1865\"},\"nonselection_glyph\":{\"id\":\"1864\"},\"view\":{\"id\":\"1867\"}},\"id\":\"1866\",\"type\":\"GlyphRenderer\"}],\"root_ids\":[\"1785\"]},\"title\":\"Bokeh Application\",\"version\":\"2.4.1\"}};\n  const render_items = [{\"docid\":\"4cf047e2-fba1-44f5-9a85-ba102b8038fa\",\"root_ids\":[\"1785\"],\"roots\":{\"1785\":\"f9291b9f-07e6-4b12-a42c-a28ae7c5aa54\"}}];\n  root.Bokeh.embed.embed_items_notebook(docs_json, render_items);\n\n  }\n  if (root.Bokeh !== undefined) {\n    embed_document(root);\n  } else {\n    let attempts = 0;\n    const timer = setInterval(function(root) {\n      if (root.Bokeh !== undefined) {\n        clearInterval(timer);\n        embed_document(root);\n      } else {\n        attempts++;\n        if (attempts > 100) {\n          clearInterval(timer);\n          console.log(\"Bokeh: ERROR: Unable to run BokehJS code because BokehJS library is missing\");\n        }\n      }\n    }, 10, root)\n  }\n})(window);",
      "application/vnd.bokehjs_exec.v0+json": ""
     },
     "metadata": {
      "application/vnd.bokehjs_exec.v0+json": {
       "id": "1785"
      }
     },
     "output_type": "display_data"
    }
   ],
   "source": [
    "# your code to plot here\n",
    "import numpy as np\n",
    "import scipy.special\n",
    "from bokeh.models import Span\n",
    "from scipy.stats import norm\n",
    "from bokeh.layouts import gridplot\n",
    "from bokeh.plotting import figure, show\n",
    "#make a plot\n",
    "plot_df= np.histogram(df['Hours'],density=True, bins=9)\n",
    "p = figure(title='Hours of Sleep', tools='', background_fill_color=\"#fafafa\")\n",
    "p.quad(top=plot_df[0], bottom=0, left=plot_df[1][:-1], right=plot_df[1][1:],\n",
    "           fill_color=\"navy\", line_color=\"white\", alpha=0.5,legend_label='Data')\n",
    "  \n",
    "p.y_range.start = 0\n",
    "p.legend.location = \"center_right\"\n",
    "p.legend.background_fill_color = \"#fefefe\"\n",
    "p.xaxis.axis_label = 'Hours'\n",
    "p.yaxis.axis_label = 'Density'\n",
    "p.grid.grid_line_color=\"white\"\n",
    "\n",
    "#average_line\n",
    "av_line=Span(location=df['Hours'].median(),dimension='height', line_color='yellow',\n",
    "                               line_width=3)\n",
    "p.line([],[], line_color=\"yellow\", line_width=4, alpha=0.7, legend_label=\"Average_line\")\n",
    "p.add_layout(av_line)\n",
    "\n",
    "#robuust_line\n",
    "robuust_line=Span(location=df['Hours'].mean(),dimension='height', line_color='red',\n",
    "                              line_dash='dashed', line_width=3)\n",
    "p.line([],[],legend_label=\"robuust_line\", line_color=\"red\", line_width=4, alpha=0.7, line_dash='dashed')\n",
    "p.add_layout(robuust_line)\n",
    "\n",
    "mu=np.mean(df['Hours'])\n",
    "sigma2 = np.mean((df['Hours'] - mu)**2)\n",
    "sigma=np.sqrt(sigma2)\n",
    "\n",
    "#normal distribution\n",
    "x = np.linspace(0, 11, 1000)\n",
    "pdf = norm.pdf(x,mu,sigma)\n",
    "p.line(x, pdf, line_color=\"#ff8888\", line_width=4, alpha=0.7, legend_label=\"PDF\")\n",
    "\n",
    "show(p)"
   ]
  },
  {
   "cell_type": "code",
   "execution_count": 53,
   "metadata": {},
   "outputs": [
    {
     "name": "stdout",
     "output_type": "stream",
     "text": [
      "The hypothesis 0 is : The distribution is normal\n",
      "ShapiroResult(statistic=0.93398118019104, pvalue=7.15833084541373e-05)\n",
      "if p value < 0.05 : the hypothesis 0 is rejected\n",
      "So the distribution is not normal one\n"
     ]
    }
   ],
   "source": [
    "# briefly summarize your findings\n",
    "shapiro_test=scipy.stats.shapiro(df['Hours'])\n",
    "print('The hypothesis 0 is : The distribution is normal')\n",
    "print(shapiro_test)\n",
    "print('if p value < 0.05 : the hypothesis 0 is rejected')\n",
    "print('So the distribution is not normal one')\n"
   ]
  },
  {
   "cell_type": "markdown",
   "metadata": {},
   "source": [
    "<a name='ex-32'></a>\n",
    "### Check homogeneity of variance (20 pt)\n",
    "\n",
    "<ul><li>\n",
    "Use boxplots for the check of homoegeneity of variance. Do you want the full points? Plot with bokeh!</li>\n",
    "\n",
    "<li>Use a Levene’s & Bartlett’s Test of Equality (Homogeneity) of Variance to test equal variance statistically</li><ul>"
   ]
  },
  {
   "cell_type": "code",
   "execution_count": 54,
   "metadata": {},
   "outputs": [
    {
     "data": {
      "text/plain": [
       "<AxesSubplot:>"
      ]
     },
     "execution_count": 54,
     "metadata": {},
     "output_type": "execute_result"
    },
    {
     "data": {
      "image/png": "[encoded data removed]",
      "text/plain": [
       "<Figure size 432x288 with 1 Axes>"
      ]
     },
     "metadata": {},
     "output_type": "display_data"
    }
   ],
   "source": [
    "# your code to plot here\n",
    "import pandas as pd\n",
    "df_box=df_heatmap.copy()\n",
    "\n",
    "\n",
    "df_box.plot.box()\n",
    "\n"
   ]
  },
  {
   "cell_type": "code",
   "execution_count": 55,
   "metadata": {},
   "outputs": [
    {
     "name": "stdout",
     "output_type": "stream",
     "text": [
      "The hypothesis 0 is that all input samples are from populations with equal variances.\n",
      "LeveneResult(statistic=7.736702341120503, pvalue=0.005923233352129717)\n",
      "If p < 0.05 : the hypothesis 0 is rejected\n",
      "The small p-value suggests that the populations do not have equal variances.\n"
     ]
    }
   ],
   "source": [
    "# your code for the statistical test here\n",
    "from scipy.stats import levene\n",
    "print('The hypothesis 0 is that all input samples are from populations with equal variances.')\n",
    "levene_test=levene(df_box['Tired'],df_box['Hours'], center='mean', proportiontocut=0.05)\n",
    "print(levene_test)\n",
    "print('If p < 0.05 : the hypothesis 0 is rejected')\n",
    "print('The small p-value suggests that the populations do not have equal variances.')"
   ]
  },
  {
   "cell_type": "code",
   "execution_count": 56,
   "metadata": {},
   "outputs": [
    {
     "name": "stdout",
     "output_type": "stream",
     "text": [
      "I think the tests are shown that there are significant differences between groups \n"
     ]
    }
   ],
   "source": [
    "# briefly summarize your findings\n",
    "print('I think the tests are shown that there are significant differences between groups ')"
   ]
  },
  {
   "cell_type": "markdown",
   "metadata": {},
   "source": [
    "---"
   ]
  },
  {
   "cell_type": "markdown",
   "metadata": {},
   "source": [
    "<a name='3'></a>\n",
    "## Part 4: Prepare your data (10 pt)\n",
    "\n",
    "Create a dataframe with equal samplesize. Make three categories for tireness 1-2 = no, 3 = maybe, 4-5 = yes"
   ]
  },
  {
   "cell_type": "code",
   "execution_count": 57,
   "metadata": {},
   "outputs": [
    {
     "name": "stdout",
     "output_type": "stream",
     "text": [
      "    Enough  Hours PhoneReach PhoneTime  Tired  Breakfast\n",
      "0      Yes    8.0        Yes       Yes  Maybe        1.0\n",
      "1       No    6.0        Yes       Yes  Maybe        0.0\n",
      "2      Yes    6.0        Yes       Yes     No        1.0\n",
      "3       No    7.0        Yes       Yes    Yes        0.0\n",
      "4       No    7.0        Yes       Yes     No        1.0\n",
      "..     ...    ...        ...       ...    ...        ...\n",
      "99      No    7.0        Yes       Yes     No        1.0\n",
      "100     No    7.0         No       Yes  Maybe        1.0\n",
      "101    Yes    8.0        Yes       Yes  Maybe        1.0\n",
      "102    Yes    7.0        Yes       Yes     No        1.0\n",
      "103    Yes    6.0        Yes       Yes  Maybe        1.0\n",
      "\n",
      "[102 rows x 6 columns]\n"
     ]
    }
   ],
   "source": [
    "#your solution here\n",
    "#df_box=df_heatmap.copy()\n",
    "df_anova['Tired']=df_heatmap['Tired'].map({1:'No',2:'No',3:'Maybe',4:'Yes',5:'Yes'})\n",
    "df_anova['Breakfast']=df_anova['Breakfast'].map({'No':'0','Yes':'1'}).astype('float')\n",
    "print(df_anova)\n",
    "\n"
   ]
  },
  {
   "cell_type": "markdown",
   "metadata": {},
   "source": [
    "---"
   ]
  },
  {
   "cell_type": "markdown",
   "metadata": {},
   "source": [
    "<a name='4'></a>\n",
    "## Part 5: Answer the research questions (20 pt)\n",
    "\n",
    "<details>    \n",
    "<summary>\n",
    "    <font size=\"3\" color=\"darkgreen\"><b>Hints</b></font>\n",
    "</summary>\n",
    "    <ul><li>use one-way ANOVA for research question 1</li>\n",
    "    <li>Use two-way ANOVA for research question 2</li>\n",
    "    <li>https://reneshbedre.github.io/blog/anova.html</li>\n",
    "</ul>\n",
    "</details>"
   ]
  },
  {
   "cell_type": "code",
   "execution_count": 58,
   "metadata": {},
   "outputs": [
    {
     "data": {
      "image/png": "[encoded data removed]",
      "text/plain": [
       "<Figure size 432x288 with 1 Axes>"
      ]
     },
     "metadata": {},
     "output_type": "display_data"
    },
    {
     "name": "stdout",
     "output_type": "stream",
     "text": [
      "Null hypothesis: Groups means are equal \n",
      "fvalue =  1662.2564853917077 pvalue =  1.9624055543249208e-99\n",
      "The p value obtained from ANOVA analysis is significant (p < 0.05),so the null hypothesis is rejected and therefore,we conclude that there are significant differences among Hours of sleep and Breakfast.\n"
     ]
    }
   ],
   "source": [
    "#Your solution here\n",
    "#research question 1\n",
    "# reshape the dataframe suitable for statsmodels package \n",
    "df_melt = pd.melt(df_anova.reset_index(), id_vars=['index'], value_vars=['Hours','Breakfast'])\n",
    "# replace column names\n",
    "df_melt.columns = ['index', 'manner', 'value']\n",
    "# generate a boxplot to see the data distribution by manner. Using boxplot, we can \n",
    "# easily detect the differences between different manner\n",
    "import matplotlib.pyplot as plt\n",
    "import seaborn as sns\n",
    "ax = sns.boxplot(x='manner', y='value', data=df_melt, color='#99c2a2')\n",
    "ax = sns.swarmplot(x='manner', y='value', data=df_melt, color='#7d0013',size=2)\n",
    "plt.show()\n",
    "\n",
    "import scipy.stats as stats\n",
    "print('Null hypothesis: Groups means are equal ')\n",
    "# stats f_oneway functions takes the groups as input and returns ANOVA F and p value\n",
    "fvalue, pvalue = stats.f_oneway(df_anova['Hours'], df_anova['Breakfast'])\n",
    "print('fvalue = ',fvalue, 'pvalue = ',pvalue)\n",
    "\n",
    "# note: if the data is balanced (equal sample size for each group), Type 1 and 2 sums of squares\n",
    "# (typ parameter) will produce similar results.\n",
    "print('The p value obtained from ANOVA analysis is significant (p < 0.05),so the null hypothesis is rejected and therefore,we conclude that there are significant differences among Hours of sleep and Breakfast.')"
   ]
  },
  {
   "cell_type": "code",
   "execution_count": 59,
   "metadata": {},
   "outputs": [
    {
     "name": "stdout",
     "output_type": "stream",
     "text": [
      "                         sum_sq     df            F        PR(>F)\n",
      "C(Tired)               3.912032    2.0     1.733591  1.793192e-01\n",
      "C(manner)           1872.176471    1.0  1659.285434  3.374010e-98\n",
      "C(Tired):C(manner)     0.193809    2.0     0.085885  9.177337e-01\n",
      "Residual             223.403963  198.0          NaN           NaN\n",
      "The p value obtained from ANOVA analysis(9.177337e-01) is not significant (p > 0.05),so the null hypothesis is not rejected and therefore,we conclude that there are no significant differences.\n"
     ]
    },
    {
     "data": {
      "image/png": "[encoded data removed]",
      "text/plain": [
       "<Figure size 432x288 with 1 Axes>"
      ]
     },
     "metadata": {},
     "output_type": "display_data"
    }
   ],
   "source": [
    "#research question2\n",
    "import pandas as pd\n",
    "import seaborn as sns\n",
    "# reshape the dataframe suitable for statsmodels package \n",
    "d_melt = pd.melt(df_anova, id_vars=['Tired'], value_vars=['Hours', 'Breakfast'])\n",
    "# replace column names\n",
    "d_melt.columns = ['Tired', 'manner', 'value']\n",
    "d_melt.head()\n",
    "# generate a boxplot to see the data distribution by Tired and manner. Using boxplot, we can easily detect the \n",
    "# differences between different groups\n",
    "sns.boxplot(x=\"Tired\", y=\"value\", hue=\"manner\", data=d_melt, palette=['lightgreen','darkgreen']) \n",
    "\n",
    "import statsmodels.api as sm\n",
    "from statsmodels.formula.api import ols\n",
    "model = ols('value ~ C(Tired) + C(manner) + C(Tired):C(manner)', data=d_melt).fit()\n",
    "anova_table = sm.stats.anova_lm(model, typ=2)\n",
    "print(anova_table)\n",
    "print('The p value obtained from ANOVA analysis(9.177337e-01) is not significant (p > 0.05),so the null hypothesis is not rejected and therefore,we conclude that there are no significant differences.')\n"
   ]
  },
  {
   "cell_type": "markdown",
   "metadata": {},
   "source": [
    "---"
   ]
  },
  {
   "cell_type": "markdown",
   "metadata": {},
   "source": [
    "<a name='5'></a>\n",
    "## Part 6: Enhanced plotting (20 pt)\n",
    "\n",
    "Create a panel with 1) your dataframe with equal samplesize 2) a picture of a sleeping beauty, 3) the scatter plot of tired / hours of sleep with different colors for Breakfast from part 2 4) the boxplots given the p-value for the anova outcome in the title"
   ]
  },
  {
   "cell_type": "code",
   "execution_count": 60,
   "metadata": {},
   "outputs": [],
   "source": [
    "#your solution here"
   ]
  }
 ],
 "metadata": {
  "kernelspec": {
   "display_name": "Python 3",
   "language": "python",
   "name": "python3"
  },
  "language_info": {
   "codemirror_mode": {
    "name": "ipython",
    "version": 3
   },
   "file_extension": ".py",
   "mimetype": "text/x-python",
   "name": "python",
   "nbconvert_exporter": "python",
   "pygments_lexer": "ipython3",
   "version": "3.9.7"
  }
 },
 "nbformat": 4,
 "nbformat_minor": 4
}
